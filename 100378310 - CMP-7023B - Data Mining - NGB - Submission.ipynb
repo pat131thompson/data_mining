{
 "cells": [
  {
   "cell_type": "code",
   "execution_count": 120,
   "id": "e46dd7e2",
   "metadata": {},
   "outputs": [],
   "source": [
    "# Import relevant libraries\n",
    "\n",
    "import pandas as pd\n",
    "import numpy as np\n",
    "pd.plotting.register_matplotlib_converters()\n",
    "import matplotlib.pyplot as plt\n",
    "import seaborn as sns\n",
    "import plotly.express as px\n",
    "from sklearn import metrics\n",
    "from sklearn.model_selection import train_test_split\n",
    "from sklearn.metrics import roc_auc_score\n",
    "from sklearn.ensemble import RandomForestClassifier, AdaBoostClassifier, GradientBoostingClassifier, ExtraTreesClassifier\n",
    "from catboost import CatBoostClassifier\n",
    "from sklearn.svm import SVC\n",
    "import xgboost as xgb"
   ]
  },
  {
   "cell_type": "code",
   "execution_count": 121,
   "id": "9a018a79",
   "metadata": {},
   "outputs": [],
   "source": [
    "# Load and read data\n",
    "\n",
    "health_path = \"C:/Users/patri/Desktop/MSc Computing Science/Data Mining/Assignment Two/Data sets/health_train.csv\"\n",
    "health_data = pd.read_csv(health_path)"
   ]
  },
  {
   "cell_type": "code",
   "execution_count": 122,
   "id": "7c276d3b",
   "metadata": {},
   "outputs": [
    {
     "name": "stdout",
     "output_type": "stream",
     "text": [
      "(1584, 26)\n"
     ]
    },
    {
     "data": {
      "text/html": [
       "<div>\n",
       "<style scoped>\n",
       "    .dataframe tbody tr th:only-of-type {\n",
       "        vertical-align: middle;\n",
       "    }\n",
       "\n",
       "    .dataframe tbody tr th {\n",
       "        vertical-align: top;\n",
       "    }\n",
       "\n",
       "    .dataframe thead th {\n",
       "        text-align: right;\n",
       "    }\n",
       "</style>\n",
       "<table border=\"1\" class=\"dataframe\">\n",
       "  <thead>\n",
       "    <tr style=\"text-align: right;\">\n",
       "      <th></th>\n",
       "      <th>id</th>\n",
       "      <th>x1</th>\n",
       "      <th>x2</th>\n",
       "      <th>x3</th>\n",
       "      <th>x4</th>\n",
       "      <th>x5</th>\n",
       "      <th>x6</th>\n",
       "      <th>x7</th>\n",
       "      <th>x8</th>\n",
       "      <th>x9</th>\n",
       "      <th>...</th>\n",
       "      <th>x16</th>\n",
       "      <th>x17</th>\n",
       "      <th>x18</th>\n",
       "      <th>x19</th>\n",
       "      <th>x20</th>\n",
       "      <th>x21</th>\n",
       "      <th>x22</th>\n",
       "      <th>x23</th>\n",
       "      <th>x24</th>\n",
       "      <th>target</th>\n",
       "    </tr>\n",
       "  </thead>\n",
       "  <tbody>\n",
       "    <tr>\n",
       "      <th>0</th>\n",
       "      <td>PA1001</td>\n",
       "      <td>1406</td>\n",
       "      <td>145.0</td>\n",
       "      <td>F</td>\n",
       "      <td>0.005</td>\n",
       "      <td>0.000</td>\n",
       "      <td>0.002</td>\n",
       "      <td>0.000</td>\n",
       "      <td>0.0</td>\n",
       "      <td>0.0</td>\n",
       "      <td>...</td>\n",
       "      <td>104.0</td>\n",
       "      <td>171.0</td>\n",
       "      <td>4.0</td>\n",
       "      <td>0.0</td>\n",
       "      <td>155.0</td>\n",
       "      <td>153.0</td>\n",
       "      <td>154.0</td>\n",
       "      <td>4.0</td>\n",
       "      <td>1.0</td>\n",
       "      <td>Low risk</td>\n",
       "    </tr>\n",
       "    <tr>\n",
       "      <th>1</th>\n",
       "      <td>PA1002</td>\n",
       "      <td>258</td>\n",
       "      <td>127.0</td>\n",
       "      <td>M</td>\n",
       "      <td>0.012</td>\n",
       "      <td>0.000</td>\n",
       "      <td>0.008</td>\n",
       "      <td>0.004</td>\n",
       "      <td>0.0</td>\n",
       "      <td>0.0</td>\n",
       "      <td>...</td>\n",
       "      <td>53.0</td>\n",
       "      <td>191.0</td>\n",
       "      <td>12.0</td>\n",
       "      <td>1.0</td>\n",
       "      <td>133.0</td>\n",
       "      <td>126.0</td>\n",
       "      <td>131.0</td>\n",
       "      <td>41.0</td>\n",
       "      <td>0.0</td>\n",
       "      <td>Low risk</td>\n",
       "    </tr>\n",
       "    <tr>\n",
       "      <th>2</th>\n",
       "      <td>PA1003</td>\n",
       "      <td>479</td>\n",
       "      <td>145.0</td>\n",
       "      <td>F</td>\n",
       "      <td>0.000</td>\n",
       "      <td>0.000</td>\n",
       "      <td>0.000</td>\n",
       "      <td>0.002</td>\n",
       "      <td>0.0</td>\n",
       "      <td>0.0</td>\n",
       "      <td>...</td>\n",
       "      <td>111.0</td>\n",
       "      <td>157.0</td>\n",
       "      <td>1.0</td>\n",
       "      <td>1.0</td>\n",
       "      <td>150.0</td>\n",
       "      <td>146.0</td>\n",
       "      <td>149.0</td>\n",
       "      <td>6.0</td>\n",
       "      <td>1.0</td>\n",
       "      <td>Low risk</td>\n",
       "    </tr>\n",
       "    <tr>\n",
       "      <th>3</th>\n",
       "      <td>PA1004</td>\n",
       "      <td>906</td>\n",
       "      <td>146.0</td>\n",
       "      <td>F</td>\n",
       "      <td>0.004</td>\n",
       "      <td>0.000</td>\n",
       "      <td>0.005</td>\n",
       "      <td>0.003</td>\n",
       "      <td>0.0</td>\n",
       "      <td>0.0</td>\n",
       "      <td>...</td>\n",
       "      <td>107.0</td>\n",
       "      <td>169.0</td>\n",
       "      <td>2.0</td>\n",
       "      <td>2.0</td>\n",
       "      <td>150.0</td>\n",
       "      <td>147.0</td>\n",
       "      <td>149.0</td>\n",
       "      <td>7.0</td>\n",
       "      <td>0.0</td>\n",
       "      <td>Low risk</td>\n",
       "    </tr>\n",
       "    <tr>\n",
       "      <th>4</th>\n",
       "      <td>PA1005</td>\n",
       "      <td>1921</td>\n",
       "      <td>140.0</td>\n",
       "      <td>F</td>\n",
       "      <td>0.002</td>\n",
       "      <td>0.003</td>\n",
       "      <td>0.006</td>\n",
       "      <td>0.006</td>\n",
       "      <td>0.0</td>\n",
       "      <td>0.0</td>\n",
       "      <td>...</td>\n",
       "      <td>75.0</td>\n",
       "      <td>228.0</td>\n",
       "      <td>9.0</td>\n",
       "      <td>0.0</td>\n",
       "      <td>142.0</td>\n",
       "      <td>118.0</td>\n",
       "      <td>142.0</td>\n",
       "      <td>20.0</td>\n",
       "      <td>0.0</td>\n",
       "      <td>Low risk</td>\n",
       "    </tr>\n",
       "  </tbody>\n",
       "</table>\n",
       "<p>5 rows × 26 columns</p>\n",
       "</div>"
      ],
      "text/plain": [
       "       id    x1     x2 x3     x4     x5     x6     x7   x8   x9  ...    x16  \\\n",
       "0  PA1001  1406  145.0  F  0.005  0.000  0.002  0.000  0.0  0.0  ...  104.0   \n",
       "1  PA1002   258  127.0  M  0.012  0.000  0.008  0.004  0.0  0.0  ...   53.0   \n",
       "2  PA1003   479  145.0  F  0.000  0.000  0.000  0.002  0.0  0.0  ...  111.0   \n",
       "3  PA1004   906  146.0  F  0.004  0.000  0.005  0.003  0.0  0.0  ...  107.0   \n",
       "4  PA1005  1921  140.0  F  0.002  0.003  0.006  0.006  0.0  0.0  ...   75.0   \n",
       "\n",
       "     x17   x18  x19    x20    x21    x22   x23  x24    target  \n",
       "0  171.0   4.0  0.0  155.0  153.0  154.0   4.0  1.0  Low risk  \n",
       "1  191.0  12.0  1.0  133.0  126.0  131.0  41.0  0.0  Low risk  \n",
       "2  157.0   1.0  1.0  150.0  146.0  149.0   6.0  1.0  Low risk  \n",
       "3  169.0   2.0  2.0  150.0  147.0  149.0   7.0  0.0  Low risk  \n",
       "4  228.0   9.0  0.0  142.0  118.0  142.0  20.0  0.0  Low risk  \n",
       "\n",
       "[5 rows x 26 columns]"
      ]
     },
     "execution_count": 122,
     "metadata": {},
     "output_type": "execute_result"
    }
   ],
   "source": [
    "# Data sense checking\n",
    "\n",
    "print(health_data.shape)\n",
    "health_data.head()"
   ]
  },
  {
   "cell_type": "code",
   "execution_count": 123,
   "id": "4867caf9",
   "metadata": {},
   "outputs": [
    {
     "data": {
      "text/plain": [
       "Low risk         1235\n",
       "Moderate risk     219\n",
       "High risk         130\n",
       "Name: target, dtype: int64"
      ]
     },
     "execution_count": 123,
     "metadata": {},
     "output_type": "execute_result"
    }
   ],
   "source": [
    "health_data.target.value_counts()"
   ]
  },
  {
   "cell_type": "code",
   "execution_count": 124,
   "id": "059bbf3c",
   "metadata": {},
   "outputs": [],
   "source": [
    "# Categorical / numerical splitting of data\n",
    "\n",
    "COLUMNS = [\"id\", \"x1\", \"x2\", \"x3\", \"x4\", \"x5\", \"x6\", \"x7\", \"x8\", \"x9\", \"x10\", \n",
    "           \"x11\", \"x12\", \"x13\", \"x14\", \"x15\", \"x16\", \"x17\", \"x18\", \"x19\", \"x20\", \n",
    "           \"x21\", \"x22\", \"x23\", \"x24\"]\n",
    "\n",
    "CATEGORICAL_COLUMNS = [\"x3\", \"x14\"]\n",
    "\n",
    "NUMERICAL_COLUMNS = [\"x1\", \"x2\", \"x4\", \"x5\", \"x6\", \"x7\", \"x8\", \"x9\", \"x10\", \"x11\", \"x12\", \"x13\",\n",
    "                    \"x15\", \"x16\", \"x17\", \"x18\", \"x19\", \"x20\", \"x21\", \"x22\", \"x23\", \"x24\"]\n",
    "\n",
    "health_numeric = pd.DataFrame(health_data[NUMERICAL_COLUMNS])\n",
    "health_categoric = pd.DataFrame(health_data[CATEGORICAL_COLUMNS])"
   ]
  },
  {
   "cell_type": "code",
   "execution_count": 125,
   "id": "0f747a8d",
   "metadata": {},
   "outputs": [
    {
     "data": {
      "text/plain": [
       "'\\n# Correlation chart between variables\\n\\npx.imshow(health_data.corr(),title = \"Correlation Plot of Health Data Attributes\")\\n'"
      ]
     },
     "execution_count": 125,
     "metadata": {},
     "output_type": "execute_result"
    }
   ],
   "source": [
    "\"\"\"\n",
    "# Correlation chart between variables\n",
    "\n",
    "px.imshow(health_data.corr(),title = \"Correlation Plot of Health Data Attributes\")\n",
    "\"\"\""
   ]
  },
  {
   "cell_type": "code",
   "execution_count": 126,
   "id": "d1f82d37",
   "metadata": {
    "scrolled": true
   },
   "outputs": [
    {
     "name": "stdout",
     "output_type": "stream",
     "text": [
      "M    842\n",
      "F    742\n",
      "Name: x3, dtype: int64\n",
      "O+     410\n",
      "A+     328\n",
      "B+     307\n",
      "A-     165\n",
      "B-     154\n",
      "O-     146\n",
      "AB+     57\n",
      "AB-     17\n",
      "Name: x14, dtype: int64\n"
     ]
    }
   ],
   "source": [
    "# Categoric data sense checking\n",
    "\n",
    "print(health_categoric.x3.value_counts())\n",
    "print(health_categoric.x14.value_counts())"
   ]
  },
  {
   "cell_type": "code",
   "execution_count": 127,
   "id": "72f1ee7d",
   "metadata": {},
   "outputs": [
    {
     "name": "stdout",
     "output_type": "stream",
     "text": [
      "             x3                                 x14\n",
      "count      1584                                1584\n",
      "unique        2                                   8\n",
      "top           M                                  O+\n",
      "freq        842                                 410\n",
      "missing       0                                   0\n",
      "values   [F, M]  [O+, A+, B+, O-, A-, B-, AB-, AB+]\n"
     ]
    }
   ],
   "source": [
    "categoric_stats = health_data[CATEGORICAL_COLUMNS].describe()\n",
    "\n",
    "for column in CATEGORICAL_COLUMNS:\n",
    "    categoric_stats.loc[\"missing\", column] = health_data[column].isnull().sum()\n",
    "    categoric_stats.loc[\"values\", column] = health_data[column].unique()\n",
    "    \n",
    "print(categoric_stats)"
   ]
  },
  {
   "cell_type": "code",
   "execution_count": 128,
   "id": "a11743d8",
   "metadata": {},
   "outputs": [
    {
     "data": {
      "text/plain": [
       "'\\nplt.figure(figsize=(7,4))\\nsns.countplot(x = \\'x3\\', hue = \\'target\\', palette = \"coolwarm\", data = health_data)\\n# plt.savefig(\\'Risk spread split attribute x3\\' + \\'.jpg\\')\\n'"
      ]
     },
     "execution_count": 128,
     "metadata": {},
     "output_type": "execute_result"
    }
   ],
   "source": [
    "# Categoric visualisations - commented out to save repeated running of code\n",
    "\n",
    "\"\"\"\n",
    "plt.figure(figsize=(7,4))\n",
    "sns.countplot(x = 'x3', hue = 'target', palette = \"coolwarm\", data = health_data)\n",
    "# plt.savefig('Risk spread split attribute x3' + '.jpg')\n",
    "\"\"\""
   ]
  },
  {
   "cell_type": "code",
   "execution_count": 129,
   "id": "b319c4f7",
   "metadata": {},
   "outputs": [
    {
     "data": {
      "text/plain": [
       "'\\nplt.figure(figsize=(7,4))\\nsns.countplot(x = \\'x14\\', hue = \\'target\\', palette = \"coolwarm\", data = health_data)\\n# plt.savefig(\\'Risk spread split attribute x14\\' +  \\'.jpg\\')\\n'"
      ]
     },
     "execution_count": 129,
     "metadata": {},
     "output_type": "execute_result"
    }
   ],
   "source": [
    "# Categoric visualisations - commented out to save repeated running of code\n",
    "\n",
    "\"\"\"\n",
    "plt.figure(figsize=(7,4))\n",
    "sns.countplot(x = 'x14', hue = 'target', palette = \"coolwarm\", data = health_data)\n",
    "# plt.savefig('Risk spread split attribute x14' +  '.jpg')\n",
    "\"\"\""
   ]
  },
  {
   "cell_type": "code",
   "execution_count": 130,
   "id": "fe521797",
   "metadata": {
    "scrolled": true
   },
   "outputs": [
    {
     "name": "stdout",
     "output_type": "stream",
     "text": [
      "(1584, 22)\n",
      "                  x1           x2           x4           x5           x6  \\\n",
      "count    1584.000000  1584.000000  1584.000000  1540.000000  1584.000000   \n",
      "mean     1053.188131   133.297980     0.003169     0.009906     0.004347   \n",
      "std       615.996716    10.002632     0.003821     0.048627     0.002948   \n",
      "min         0.000000   106.000000     0.000000     0.000000     0.000000   \n",
      "25%       523.750000   126.000000     0.000000     0.000000     0.002000   \n",
      "50%      1049.500000   133.000000     0.002000     0.000000     0.004000   \n",
      "75%      1583.250000   141.000000     0.006000     0.003000     0.007000   \n",
      "max      2125.000000   160.000000     0.019000     0.477000     0.014000   \n",
      "median   1049.500000   133.000000     0.002000     0.000000     0.004000   \n",
      "missing     0.000000     0.000000     0.000000    44.000000     0.000000   \n",
      "\n",
      "                  x7           x8           x9          x10          x11  ...  \\\n",
      "count    1584.000000  1567.000000  1584.000000  1557.000000  1584.000000  ...   \n",
      "mean        0.001854     0.000003     0.000157    47.094412     1.337816  ...   \n",
      "std         0.002940     0.000050     0.000593    17.269621     0.899092  ...   \n",
      "min         0.000000     0.000000     0.000000    13.000000     0.200000  ...   \n",
      "25%         0.000000     0.000000     0.000000    32.000000     0.700000  ...   \n",
      "50%         0.000000     0.000000     0.000000    49.000000     1.200000  ...   \n",
      "75%         0.003000     0.000000     0.000000    61.000000     1.700000  ...   \n",
      "max         0.015000     0.001000     0.005000    86.000000     7.000000  ...   \n",
      "median      0.000000     0.000000     0.000000    49.000000     1.200000  ...   \n",
      "missing     0.000000    17.000000     0.000000    27.000000     0.000000  ...   \n",
      "\n",
      "                 x15          x16          x17          x18          x19  \\\n",
      "count    1584.000000  1584.000000  1584.000000  1584.000000  1584.000000   \n",
      "mean       70.409091    93.496843   163.905934     4.063763     0.324495   \n",
      "std        38.993892    29.593370    17.908749     2.950268     0.718499   \n",
      "min         3.000000    50.000000   122.000000     0.000000     0.000000   \n",
      "25%        36.000000    67.000000   152.000000     2.000000     0.000000   \n",
      "50%        68.000000    93.000000   162.000000     3.000000     0.000000   \n",
      "75%       100.000000   120.000000   174.000000     6.000000     0.000000   \n",
      "max       176.000000   158.000000   238.000000    18.000000    10.000000   \n",
      "median     68.000000    93.000000   162.000000     3.000000     0.000000   \n",
      "missing     0.000000     0.000000     0.000000     0.000000     0.000000   \n",
      "\n",
      "                 x20          x21          x22          x23          x24  \n",
      "count    1584.000000  1584.000000  1584.000000  1584.000000  1584.000000  \n",
      "mean      137.333965   134.542929   137.935606    18.448232     0.309343  \n",
      "std        16.461643    15.729735    14.622680    28.375002     0.615868  \n",
      "min        60.000000    73.000000    77.000000     0.000000    -1.000000  \n",
      "25%       128.000000   125.000000   128.000000     2.000000     0.000000  \n",
      "50%       139.000000   136.000000   139.000000     7.000000     0.000000  \n",
      "75%       148.000000   145.250000   148.000000    23.000000     1.000000  \n",
      "max       187.000000   182.000000   186.000000   269.000000     1.000000  \n",
      "median    139.000000   136.000000   139.000000     7.000000     0.000000  \n",
      "missing     0.000000     0.000000     0.000000     0.000000     0.000000  \n",
      "\n",
      "[10 rows x 22 columns]\n"
     ]
    }
   ],
   "source": [
    "# Numeric data sense checking\n",
    "\n",
    "print(health_numeric.shape)\n",
    "\n",
    "numeric_stats = health_data[NUMERICAL_COLUMNS].describe()\n",
    "for column in NUMERICAL_COLUMNS:\n",
    "    numeric_stats.loc['median',column] = health_data[column].median()\n",
    "    numeric_stats.loc['missing',column] = health_data[column].isnull().sum()\n",
    "    \n",
    "print(numeric_stats)"
   ]
  },
  {
   "cell_type": "code",
   "execution_count": 131,
   "id": "8d905a06",
   "metadata": {},
   "outputs": [],
   "source": [
    "# Splitting target attribute\n",
    "\n",
    "health_data_high = health_data.loc[(health_data.target.str.strip()=='High risk')]\n",
    "health_data_med = health_data.loc[(health_data.target.str.strip()=='Moderate risk')]\n",
    "health_data_low = health_data.loc[(health_data.target.str.strip()=='Low risk')]"
   ]
  },
  {
   "cell_type": "code",
   "execution_count": 132,
   "id": "00208ceb",
   "metadata": {},
   "outputs": [
    {
     "data": {
      "text/plain": [
       "'\\n# KDE plots\\n\\nfor column in NUMERICAL_COLUMNS:\\n    plt.figure()\\n    sns.kdeplot(data = health_data_high[column], label = \"High risk\", fill = True)\\n    sns.kdeplot(data = health_data_med[column], label = \"Moderate risk\", fill = True)\\n    sns.kdeplot(data = health_data_low[column], label = \"Low risk\", fill = True)\\n    plt.legend()\\n    plt.title(\"Distribution of \" + column)\\n    # plt.savefig(\\'Distribution of \\' + column + \\'.jpg\\')\\n'"
      ]
     },
     "execution_count": 132,
     "metadata": {},
     "output_type": "execute_result"
    }
   ],
   "source": [
    "# Numeric visualisations - commented out to save repeated running of code\n",
    "\n",
    "\"\"\"\n",
    "# KDE plots\n",
    "\n",
    "for column in NUMERICAL_COLUMNS:\n",
    "    plt.figure()\n",
    "    sns.kdeplot(data = health_data_high[column], label = \"High risk\", fill = True)\n",
    "    sns.kdeplot(data = health_data_med[column], label = \"Moderate risk\", fill = True)\n",
    "    sns.kdeplot(data = health_data_low[column], label = \"Low risk\", fill = True)\n",
    "    plt.legend()\n",
    "    plt.title(\"Distribution of \" + column)\n",
    "    # plt.savefig('Distribution of ' + column + '.jpg')\n",
    "\"\"\""
   ]
  },
  {
   "cell_type": "code",
   "execution_count": 133,
   "id": "c03b46ef",
   "metadata": {},
   "outputs": [
    {
     "data": {
      "text/plain": [
       "'\\n# Bar graphs\\n\\nfor column in NUMERICAL_COLUMNS:\\n    sns.catplot(x = \\'x3\\', y = column, hue = \"target\", kind = \"bar\", data = health_data, height=5, aspect=1.8)\\n        # plt.savefig(\\'Risk multibar of \\' + column + \\'.jpg\\')\\n'"
      ]
     },
     "execution_count": 133,
     "metadata": {},
     "output_type": "execute_result"
    }
   ],
   "source": [
    "# Numeric visualisations - commented out to save repeated running of code\n",
    "\n",
    "\"\"\"\n",
    "# Bar graphs\n",
    "\n",
    "for column in NUMERICAL_COLUMNS:\n",
    "    sns.catplot(x = 'x3', y = column, hue = \"target\", kind = \"bar\", data = health_data, height=5, aspect=1.8)\n",
    "        # plt.savefig('Risk multibar of ' + column + '.jpg')\n",
    "\"\"\""
   ]
  },
  {
   "cell_type": "code",
   "execution_count": 134,
   "id": "a74be018",
   "metadata": {},
   "outputs": [
    {
     "data": {
      "text/plain": [
       "'\\n# Violin plots\\n\\nfor column in NUMERICAL_COLUMNS:\\n    sns.catplot(x = \\'x3\\', y = column, hue = \"target\",  kind=\"violin\", data = health_data, height=5, aspect=1.8)\\n        # plt.savefig(\\'Risk violin plot of \\' + column + \\'.jpg\\')\\n'"
      ]
     },
     "execution_count": 134,
     "metadata": {},
     "output_type": "execute_result"
    }
   ],
   "source": [
    "# Numeric visualisations - commented out to save repeated running of code\n",
    "\n",
    "\"\"\"\n",
    "# Violin plots\n",
    "\n",
    "for column in NUMERICAL_COLUMNS:\n",
    "    sns.catplot(x = 'x3', y = column, hue = \"target\",  kind=\"violin\", data = health_data, height=5, aspect=1.8)\n",
    "        # plt.savefig('Risk violin plot of ' + column + '.jpg')\n",
    "\"\"\""
   ]
  },
  {
   "cell_type": "code",
   "execution_count": 135,
   "id": "b431eb07",
   "metadata": {},
   "outputs": [
    {
     "data": {
      "text/plain": [
       "'\\n# Scatter plots\\n\\nfor column in NUMERICAL_COLUMNS:\\n        sns.catplot(x = \\'x3\\', y = column, hue = \"target\", data = health_data, height=5, aspect=1.8)\\n        # plt.savefig(\\'Scatter Graph of \\' + column + \\'.jpg\\')\\n'"
      ]
     },
     "execution_count": 135,
     "metadata": {},
     "output_type": "execute_result"
    }
   ],
   "source": [
    "# Numeric visualisations - commented out to save repeated running of code\n",
    "\n",
    "\"\"\"\n",
    "# Scatter plots\n",
    "\n",
    "for column in NUMERICAL_COLUMNS:\n",
    "        sns.catplot(x = 'x3', y = column, hue = \"target\", data = health_data, height=5, aspect=1.8)\n",
    "        # plt.savefig('Scatter Graph of ' + column + '.jpg')\n",
    "\"\"\""
   ]
  },
  {
   "cell_type": "markdown",
   "id": "338383ce",
   "metadata": {},
   "source": [
    "__Encoding categoric variables__"
   ]
  },
  {
   "cell_type": "code",
   "execution_count": 136,
   "id": "a26d4d8c",
   "metadata": {},
   "outputs": [
    {
     "data": {
      "text/plain": [
       "Index(['id', 'x3', 'x14', 'target'], dtype='object')"
      ]
     },
     "execution_count": 136,
     "metadata": {},
     "output_type": "execute_result"
    }
   ],
   "source": [
    "# Confirming categoric attributes for encoding\n",
    "\n",
    "health_data.select_dtypes(include = ['object']).columns"
   ]
  },
  {
   "cell_type": "code",
   "execution_count": 137,
   "id": "9c8c358c",
   "metadata": {},
   "outputs": [],
   "source": [
    "# Encoding categoric data\n",
    "\n",
    "import category_encoders as ce\n",
    "enc = ce.OrdinalEncoder(cols=['id', 'x3', 'x14'], return_df = True)\n",
    "health_data_encoded = enc.fit_transform(health_data)"
   ]
  },
  {
   "cell_type": "code",
   "execution_count": 138,
   "id": "f39723a2",
   "metadata": {},
   "outputs": [
    {
     "name": "stdout",
     "output_type": "stream",
     "text": [
      "(1584, 26)\n"
     ]
    },
    {
     "data": {
      "text/html": [
       "<div>\n",
       "<style scoped>\n",
       "    .dataframe tbody tr th:only-of-type {\n",
       "        vertical-align: middle;\n",
       "    }\n",
       "\n",
       "    .dataframe tbody tr th {\n",
       "        vertical-align: top;\n",
       "    }\n",
       "\n",
       "    .dataframe thead th {\n",
       "        text-align: right;\n",
       "    }\n",
       "</style>\n",
       "<table border=\"1\" class=\"dataframe\">\n",
       "  <thead>\n",
       "    <tr style=\"text-align: right;\">\n",
       "      <th></th>\n",
       "      <th>id</th>\n",
       "      <th>x1</th>\n",
       "      <th>x2</th>\n",
       "      <th>x3</th>\n",
       "      <th>x4</th>\n",
       "      <th>x5</th>\n",
       "      <th>x6</th>\n",
       "      <th>x7</th>\n",
       "      <th>x8</th>\n",
       "      <th>x9</th>\n",
       "      <th>...</th>\n",
       "      <th>x16</th>\n",
       "      <th>x17</th>\n",
       "      <th>x18</th>\n",
       "      <th>x19</th>\n",
       "      <th>x20</th>\n",
       "      <th>x21</th>\n",
       "      <th>x22</th>\n",
       "      <th>x23</th>\n",
       "      <th>x24</th>\n",
       "      <th>target</th>\n",
       "    </tr>\n",
       "  </thead>\n",
       "  <tbody>\n",
       "    <tr>\n",
       "      <th>0</th>\n",
       "      <td>1</td>\n",
       "      <td>1406</td>\n",
       "      <td>145.0</td>\n",
       "      <td>1</td>\n",
       "      <td>0.005</td>\n",
       "      <td>0.000</td>\n",
       "      <td>0.002</td>\n",
       "      <td>0.000</td>\n",
       "      <td>0.0</td>\n",
       "      <td>0.0</td>\n",
       "      <td>...</td>\n",
       "      <td>104.0</td>\n",
       "      <td>171.0</td>\n",
       "      <td>4.0</td>\n",
       "      <td>0.0</td>\n",
       "      <td>155.0</td>\n",
       "      <td>153.0</td>\n",
       "      <td>154.0</td>\n",
       "      <td>4.0</td>\n",
       "      <td>1.0</td>\n",
       "      <td>Low risk</td>\n",
       "    </tr>\n",
       "    <tr>\n",
       "      <th>1</th>\n",
       "      <td>2</td>\n",
       "      <td>258</td>\n",
       "      <td>127.0</td>\n",
       "      <td>2</td>\n",
       "      <td>0.012</td>\n",
       "      <td>0.000</td>\n",
       "      <td>0.008</td>\n",
       "      <td>0.004</td>\n",
       "      <td>0.0</td>\n",
       "      <td>0.0</td>\n",
       "      <td>...</td>\n",
       "      <td>53.0</td>\n",
       "      <td>191.0</td>\n",
       "      <td>12.0</td>\n",
       "      <td>1.0</td>\n",
       "      <td>133.0</td>\n",
       "      <td>126.0</td>\n",
       "      <td>131.0</td>\n",
       "      <td>41.0</td>\n",
       "      <td>0.0</td>\n",
       "      <td>Low risk</td>\n",
       "    </tr>\n",
       "    <tr>\n",
       "      <th>2</th>\n",
       "      <td>3</td>\n",
       "      <td>479</td>\n",
       "      <td>145.0</td>\n",
       "      <td>1</td>\n",
       "      <td>0.000</td>\n",
       "      <td>0.000</td>\n",
       "      <td>0.000</td>\n",
       "      <td>0.002</td>\n",
       "      <td>0.0</td>\n",
       "      <td>0.0</td>\n",
       "      <td>...</td>\n",
       "      <td>111.0</td>\n",
       "      <td>157.0</td>\n",
       "      <td>1.0</td>\n",
       "      <td>1.0</td>\n",
       "      <td>150.0</td>\n",
       "      <td>146.0</td>\n",
       "      <td>149.0</td>\n",
       "      <td>6.0</td>\n",
       "      <td>1.0</td>\n",
       "      <td>Low risk</td>\n",
       "    </tr>\n",
       "    <tr>\n",
       "      <th>3</th>\n",
       "      <td>4</td>\n",
       "      <td>906</td>\n",
       "      <td>146.0</td>\n",
       "      <td>1</td>\n",
       "      <td>0.004</td>\n",
       "      <td>0.000</td>\n",
       "      <td>0.005</td>\n",
       "      <td>0.003</td>\n",
       "      <td>0.0</td>\n",
       "      <td>0.0</td>\n",
       "      <td>...</td>\n",
       "      <td>107.0</td>\n",
       "      <td>169.0</td>\n",
       "      <td>2.0</td>\n",
       "      <td>2.0</td>\n",
       "      <td>150.0</td>\n",
       "      <td>147.0</td>\n",
       "      <td>149.0</td>\n",
       "      <td>7.0</td>\n",
       "      <td>0.0</td>\n",
       "      <td>Low risk</td>\n",
       "    </tr>\n",
       "    <tr>\n",
       "      <th>4</th>\n",
       "      <td>5</td>\n",
       "      <td>1921</td>\n",
       "      <td>140.0</td>\n",
       "      <td>1</td>\n",
       "      <td>0.002</td>\n",
       "      <td>0.003</td>\n",
       "      <td>0.006</td>\n",
       "      <td>0.006</td>\n",
       "      <td>0.0</td>\n",
       "      <td>0.0</td>\n",
       "      <td>...</td>\n",
       "      <td>75.0</td>\n",
       "      <td>228.0</td>\n",
       "      <td>9.0</td>\n",
       "      <td>0.0</td>\n",
       "      <td>142.0</td>\n",
       "      <td>118.0</td>\n",
       "      <td>142.0</td>\n",
       "      <td>20.0</td>\n",
       "      <td>0.0</td>\n",
       "      <td>Low risk</td>\n",
       "    </tr>\n",
       "  </tbody>\n",
       "</table>\n",
       "<p>5 rows × 26 columns</p>\n",
       "</div>"
      ],
      "text/plain": [
       "   id    x1     x2  x3     x4     x5     x6     x7   x8   x9  ...    x16  \\\n",
       "0   1  1406  145.0   1  0.005  0.000  0.002  0.000  0.0  0.0  ...  104.0   \n",
       "1   2   258  127.0   2  0.012  0.000  0.008  0.004  0.0  0.0  ...   53.0   \n",
       "2   3   479  145.0   1  0.000  0.000  0.000  0.002  0.0  0.0  ...  111.0   \n",
       "3   4   906  146.0   1  0.004  0.000  0.005  0.003  0.0  0.0  ...  107.0   \n",
       "4   5  1921  140.0   1  0.002  0.003  0.006  0.006  0.0  0.0  ...   75.0   \n",
       "\n",
       "     x17   x18  x19    x20    x21    x22   x23  x24    target  \n",
       "0  171.0   4.0  0.0  155.0  153.0  154.0   4.0  1.0  Low risk  \n",
       "1  191.0  12.0  1.0  133.0  126.0  131.0  41.0  0.0  Low risk  \n",
       "2  157.0   1.0  1.0  150.0  146.0  149.0   6.0  1.0  Low risk  \n",
       "3  169.0   2.0  2.0  150.0  147.0  149.0   7.0  0.0  Low risk  \n",
       "4  228.0   9.0  0.0  142.0  118.0  142.0  20.0  0.0  Low risk  \n",
       "\n",
       "[5 rows x 26 columns]"
      ]
     },
     "execution_count": 138,
     "metadata": {},
     "output_type": "execute_result"
    }
   ],
   "source": [
    "# Sense check encoded data\n",
    "\n",
    "print(health_data_encoded.shape)\n",
    "health_data_encoded.head()"
   ]
  },
  {
   "cell_type": "markdown",
   "id": "ab63f07a",
   "metadata": {},
   "source": [
    "__Dealing with missing data__"
   ]
  },
  {
   "cell_type": "code",
   "execution_count": 139,
   "id": "21e12d30",
   "metadata": {},
   "outputs": [
    {
     "data": {
      "text/html": [
       "<div>\n",
       "<style scoped>\n",
       "    .dataframe tbody tr th:only-of-type {\n",
       "        vertical-align: middle;\n",
       "    }\n",
       "\n",
       "    .dataframe tbody tr th {\n",
       "        vertical-align: top;\n",
       "    }\n",
       "\n",
       "    .dataframe thead th {\n",
       "        text-align: right;\n",
       "    }\n",
       "</style>\n",
       "<table border=\"1\" class=\"dataframe\">\n",
       "  <thead>\n",
       "    <tr style=\"text-align: right;\">\n",
       "      <th></th>\n",
       "      <th>Total</th>\n",
       "      <th>Percent</th>\n",
       "    </tr>\n",
       "  </thead>\n",
       "  <tbody>\n",
       "    <tr>\n",
       "      <th>x5</th>\n",
       "      <td>44</td>\n",
       "      <td>2.777778</td>\n",
       "    </tr>\n",
       "    <tr>\n",
       "      <th>x10</th>\n",
       "      <td>27</td>\n",
       "      <td>1.704545</td>\n",
       "    </tr>\n",
       "    <tr>\n",
       "      <th>x8</th>\n",
       "      <td>17</td>\n",
       "      <td>1.073232</td>\n",
       "    </tr>\n",
       "    <tr>\n",
       "      <th>id</th>\n",
       "      <td>0</td>\n",
       "      <td>0.000000</td>\n",
       "    </tr>\n",
       "    <tr>\n",
       "      <th>x15</th>\n",
       "      <td>0</td>\n",
       "      <td>0.000000</td>\n",
       "    </tr>\n",
       "    <tr>\n",
       "      <th>x24</th>\n",
       "      <td>0</td>\n",
       "      <td>0.000000</td>\n",
       "    </tr>\n",
       "    <tr>\n",
       "      <th>x23</th>\n",
       "      <td>0</td>\n",
       "      <td>0.000000</td>\n",
       "    </tr>\n",
       "    <tr>\n",
       "      <th>x22</th>\n",
       "      <td>0</td>\n",
       "      <td>0.000000</td>\n",
       "    </tr>\n",
       "    <tr>\n",
       "      <th>x21</th>\n",
       "      <td>0</td>\n",
       "      <td>0.000000</td>\n",
       "    </tr>\n",
       "    <tr>\n",
       "      <th>x20</th>\n",
       "      <td>0</td>\n",
       "      <td>0.000000</td>\n",
       "    </tr>\n",
       "    <tr>\n",
       "      <th>x19</th>\n",
       "      <td>0</td>\n",
       "      <td>0.000000</td>\n",
       "    </tr>\n",
       "    <tr>\n",
       "      <th>x18</th>\n",
       "      <td>0</td>\n",
       "      <td>0.000000</td>\n",
       "    </tr>\n",
       "    <tr>\n",
       "      <th>x17</th>\n",
       "      <td>0</td>\n",
       "      <td>0.000000</td>\n",
       "    </tr>\n",
       "    <tr>\n",
       "      <th>x16</th>\n",
       "      <td>0</td>\n",
       "      <td>0.000000</td>\n",
       "    </tr>\n",
       "    <tr>\n",
       "      <th>x13</th>\n",
       "      <td>0</td>\n",
       "      <td>0.000000</td>\n",
       "    </tr>\n",
       "    <tr>\n",
       "      <th>x14</th>\n",
       "      <td>0</td>\n",
       "      <td>0.000000</td>\n",
       "    </tr>\n",
       "    <tr>\n",
       "      <th>x1</th>\n",
       "      <td>0</td>\n",
       "      <td>0.000000</td>\n",
       "    </tr>\n",
       "    <tr>\n",
       "      <th>x12</th>\n",
       "      <td>0</td>\n",
       "      <td>0.000000</td>\n",
       "    </tr>\n",
       "    <tr>\n",
       "      <th>x11</th>\n",
       "      <td>0</td>\n",
       "      <td>0.000000</td>\n",
       "    </tr>\n",
       "    <tr>\n",
       "      <th>x9</th>\n",
       "      <td>0</td>\n",
       "      <td>0.000000</td>\n",
       "    </tr>\n",
       "    <tr>\n",
       "      <th>x7</th>\n",
       "      <td>0</td>\n",
       "      <td>0.000000</td>\n",
       "    </tr>\n",
       "    <tr>\n",
       "      <th>x6</th>\n",
       "      <td>0</td>\n",
       "      <td>0.000000</td>\n",
       "    </tr>\n",
       "    <tr>\n",
       "      <th>x4</th>\n",
       "      <td>0</td>\n",
       "      <td>0.000000</td>\n",
       "    </tr>\n",
       "    <tr>\n",
       "      <th>x3</th>\n",
       "      <td>0</td>\n",
       "      <td>0.000000</td>\n",
       "    </tr>\n",
       "    <tr>\n",
       "      <th>x2</th>\n",
       "      <td>0</td>\n",
       "      <td>0.000000</td>\n",
       "    </tr>\n",
       "    <tr>\n",
       "      <th>target</th>\n",
       "      <td>0</td>\n",
       "      <td>0.000000</td>\n",
       "    </tr>\n",
       "  </tbody>\n",
       "</table>\n",
       "</div>"
      ],
      "text/plain": [
       "        Total   Percent\n",
       "x5         44  2.777778\n",
       "x10        27  1.704545\n",
       "x8         17  1.073232\n",
       "id          0  0.000000\n",
       "x15         0  0.000000\n",
       "x24         0  0.000000\n",
       "x23         0  0.000000\n",
       "x22         0  0.000000\n",
       "x21         0  0.000000\n",
       "x20         0  0.000000\n",
       "x19         0  0.000000\n",
       "x18         0  0.000000\n",
       "x17         0  0.000000\n",
       "x16         0  0.000000\n",
       "x13         0  0.000000\n",
       "x14         0  0.000000\n",
       "x1          0  0.000000\n",
       "x12         0  0.000000\n",
       "x11         0  0.000000\n",
       "x9          0  0.000000\n",
       "x7          0  0.000000\n",
       "x6          0  0.000000\n",
       "x4          0  0.000000\n",
       "x3          0  0.000000\n",
       "x2          0  0.000000\n",
       "target      0  0.000000"
      ]
     },
     "execution_count": 139,
     "metadata": {},
     "output_type": "execute_result"
    }
   ],
   "source": [
    "#Identify missing data\n",
    "\n",
    "def missing_data(data):\n",
    "    total = data.isnull().sum().sort_values(ascending = False)\n",
    "    percent = (data.isnull().sum()/data.isnull().count()*100).sort_values(ascending = False)\n",
    "    return pd.concat([total, percent], axis=1, keys=['Total', 'Percent'])\n",
    "\n",
    "missing_data(health_data_encoded)"
   ]
  },
  {
   "cell_type": "code",
   "execution_count": 140,
   "id": "cf4509c2",
   "metadata": {},
   "outputs": [],
   "source": [
    "# X/y split\n",
    "\n",
    "X = health_data_encoded[COLUMNS]\n",
    "y = health_data_encoded.target"
   ]
  },
  {
   "cell_type": "code",
   "execution_count": 141,
   "id": "bd8e471e",
   "metadata": {},
   "outputs": [
    {
     "name": "stdout",
     "output_type": "stream",
     "text": [
      "(1584, 26)\n"
     ]
    },
    {
     "data": {
      "text/html": [
       "<div>\n",
       "<style scoped>\n",
       "    .dataframe tbody tr th:only-of-type {\n",
       "        vertical-align: middle;\n",
       "    }\n",
       "\n",
       "    .dataframe tbody tr th {\n",
       "        vertical-align: top;\n",
       "    }\n",
       "\n",
       "    .dataframe thead th {\n",
       "        text-align: right;\n",
       "    }\n",
       "</style>\n",
       "<table border=\"1\" class=\"dataframe\">\n",
       "  <thead>\n",
       "    <tr style=\"text-align: right;\">\n",
       "      <th></th>\n",
       "      <th>id</th>\n",
       "      <th>x1</th>\n",
       "      <th>x2</th>\n",
       "      <th>x3</th>\n",
       "      <th>x4</th>\n",
       "      <th>x5</th>\n",
       "      <th>x6</th>\n",
       "      <th>x7</th>\n",
       "      <th>x8</th>\n",
       "      <th>x9</th>\n",
       "      <th>...</th>\n",
       "      <th>x16</th>\n",
       "      <th>x17</th>\n",
       "      <th>x18</th>\n",
       "      <th>x19</th>\n",
       "      <th>x20</th>\n",
       "      <th>x21</th>\n",
       "      <th>x22</th>\n",
       "      <th>x23</th>\n",
       "      <th>x24</th>\n",
       "      <th>target</th>\n",
       "    </tr>\n",
       "  </thead>\n",
       "  <tbody>\n",
       "    <tr>\n",
       "      <th>0</th>\n",
       "      <td>1.0</td>\n",
       "      <td>1406.0</td>\n",
       "      <td>145.0</td>\n",
       "      <td>1.0</td>\n",
       "      <td>0.005</td>\n",
       "      <td>0.000</td>\n",
       "      <td>0.002</td>\n",
       "      <td>0.000</td>\n",
       "      <td>0.0</td>\n",
       "      <td>0.0</td>\n",
       "      <td>...</td>\n",
       "      <td>104.0</td>\n",
       "      <td>171.0</td>\n",
       "      <td>4.0</td>\n",
       "      <td>0.0</td>\n",
       "      <td>155.0</td>\n",
       "      <td>153.0</td>\n",
       "      <td>154.0</td>\n",
       "      <td>4.0</td>\n",
       "      <td>1.0</td>\n",
       "      <td>Low risk</td>\n",
       "    </tr>\n",
       "    <tr>\n",
       "      <th>1</th>\n",
       "      <td>2.0</td>\n",
       "      <td>258.0</td>\n",
       "      <td>127.0</td>\n",
       "      <td>2.0</td>\n",
       "      <td>0.012</td>\n",
       "      <td>0.000</td>\n",
       "      <td>0.008</td>\n",
       "      <td>0.004</td>\n",
       "      <td>0.0</td>\n",
       "      <td>0.0</td>\n",
       "      <td>...</td>\n",
       "      <td>53.0</td>\n",
       "      <td>191.0</td>\n",
       "      <td>12.0</td>\n",
       "      <td>1.0</td>\n",
       "      <td>133.0</td>\n",
       "      <td>126.0</td>\n",
       "      <td>131.0</td>\n",
       "      <td>41.0</td>\n",
       "      <td>0.0</td>\n",
       "      <td>Low risk</td>\n",
       "    </tr>\n",
       "    <tr>\n",
       "      <th>2</th>\n",
       "      <td>3.0</td>\n",
       "      <td>479.0</td>\n",
       "      <td>145.0</td>\n",
       "      <td>1.0</td>\n",
       "      <td>0.000</td>\n",
       "      <td>0.000</td>\n",
       "      <td>0.000</td>\n",
       "      <td>0.002</td>\n",
       "      <td>0.0</td>\n",
       "      <td>0.0</td>\n",
       "      <td>...</td>\n",
       "      <td>111.0</td>\n",
       "      <td>157.0</td>\n",
       "      <td>1.0</td>\n",
       "      <td>1.0</td>\n",
       "      <td>150.0</td>\n",
       "      <td>146.0</td>\n",
       "      <td>149.0</td>\n",
       "      <td>6.0</td>\n",
       "      <td>1.0</td>\n",
       "      <td>Low risk</td>\n",
       "    </tr>\n",
       "    <tr>\n",
       "      <th>3</th>\n",
       "      <td>4.0</td>\n",
       "      <td>906.0</td>\n",
       "      <td>146.0</td>\n",
       "      <td>1.0</td>\n",
       "      <td>0.004</td>\n",
       "      <td>0.000</td>\n",
       "      <td>0.005</td>\n",
       "      <td>0.003</td>\n",
       "      <td>0.0</td>\n",
       "      <td>0.0</td>\n",
       "      <td>...</td>\n",
       "      <td>107.0</td>\n",
       "      <td>169.0</td>\n",
       "      <td>2.0</td>\n",
       "      <td>2.0</td>\n",
       "      <td>150.0</td>\n",
       "      <td>147.0</td>\n",
       "      <td>149.0</td>\n",
       "      <td>7.0</td>\n",
       "      <td>0.0</td>\n",
       "      <td>Low risk</td>\n",
       "    </tr>\n",
       "    <tr>\n",
       "      <th>4</th>\n",
       "      <td>5.0</td>\n",
       "      <td>1921.0</td>\n",
       "      <td>140.0</td>\n",
       "      <td>1.0</td>\n",
       "      <td>0.002</td>\n",
       "      <td>0.003</td>\n",
       "      <td>0.006</td>\n",
       "      <td>0.006</td>\n",
       "      <td>0.0</td>\n",
       "      <td>0.0</td>\n",
       "      <td>...</td>\n",
       "      <td>75.0</td>\n",
       "      <td>228.0</td>\n",
       "      <td>9.0</td>\n",
       "      <td>0.0</td>\n",
       "      <td>142.0</td>\n",
       "      <td>118.0</td>\n",
       "      <td>142.0</td>\n",
       "      <td>20.0</td>\n",
       "      <td>0.0</td>\n",
       "      <td>Low risk</td>\n",
       "    </tr>\n",
       "  </tbody>\n",
       "</table>\n",
       "<p>5 rows × 26 columns</p>\n",
       "</div>"
      ],
      "text/plain": [
       "    id      x1     x2   x3     x4     x5     x6     x7   x8   x9  ...    x16  \\\n",
       "0  1.0  1406.0  145.0  1.0  0.005  0.000  0.002  0.000  0.0  0.0  ...  104.0   \n",
       "1  2.0   258.0  127.0  2.0  0.012  0.000  0.008  0.004  0.0  0.0  ...   53.0   \n",
       "2  3.0   479.0  145.0  1.0  0.000  0.000  0.000  0.002  0.0  0.0  ...  111.0   \n",
       "3  4.0   906.0  146.0  1.0  0.004  0.000  0.005  0.003  0.0  0.0  ...  107.0   \n",
       "4  5.0  1921.0  140.0  1.0  0.002  0.003  0.006  0.006  0.0  0.0  ...   75.0   \n",
       "\n",
       "     x17   x18  x19    x20    x21    x22   x23  x24    target  \n",
       "0  171.0   4.0  0.0  155.0  153.0  154.0   4.0  1.0  Low risk  \n",
       "1  191.0  12.0  1.0  133.0  126.0  131.0  41.0  0.0  Low risk  \n",
       "2  157.0   1.0  1.0  150.0  146.0  149.0   6.0  1.0  Low risk  \n",
       "3  169.0   2.0  2.0  150.0  147.0  149.0   7.0  0.0  Low risk  \n",
       "4  228.0   9.0  0.0  142.0  118.0  142.0  20.0  0.0  Low risk  \n",
       "\n",
       "[5 rows x 26 columns]"
      ]
     },
     "execution_count": 141,
     "metadata": {},
     "output_type": "execute_result"
    }
   ],
   "source": [
    "# Imputation of missing data followed by concatenating back X and y into single DF\n",
    "\n",
    "from sklearn.impute import SimpleImputer\n",
    "my_imputer = SimpleImputer()\n",
    "\n",
    "health_data_imputed = my_imputer.fit_transform(X)\n",
    "health_data_imputed = pd.DataFrame(health_data_imputed)\n",
    "health_data_imputed.columns = X.columns\n",
    "health_data_imputed[\"target\"] = health_data.target\n",
    "print(health_data_imputed.shape)\n",
    "health_data_imputed.head()"
   ]
  },
  {
   "cell_type": "code",
   "execution_count": 142,
   "id": "5602506e",
   "metadata": {},
   "outputs": [
    {
     "data": {
      "text/html": [
       "<div>\n",
       "<style scoped>\n",
       "    .dataframe tbody tr th:only-of-type {\n",
       "        vertical-align: middle;\n",
       "    }\n",
       "\n",
       "    .dataframe tbody tr th {\n",
       "        vertical-align: top;\n",
       "    }\n",
       "\n",
       "    .dataframe thead th {\n",
       "        text-align: right;\n",
       "    }\n",
       "</style>\n",
       "<table border=\"1\" class=\"dataframe\">\n",
       "  <thead>\n",
       "    <tr style=\"text-align: right;\">\n",
       "      <th></th>\n",
       "      <th>Total</th>\n",
       "      <th>Percent</th>\n",
       "    </tr>\n",
       "  </thead>\n",
       "  <tbody>\n",
       "    <tr>\n",
       "      <th>id</th>\n",
       "      <td>0</td>\n",
       "      <td>0.0</td>\n",
       "    </tr>\n",
       "    <tr>\n",
       "      <th>x1</th>\n",
       "      <td>0</td>\n",
       "      <td>0.0</td>\n",
       "    </tr>\n",
       "    <tr>\n",
       "      <th>x24</th>\n",
       "      <td>0</td>\n",
       "      <td>0.0</td>\n",
       "    </tr>\n",
       "    <tr>\n",
       "      <th>x23</th>\n",
       "      <td>0</td>\n",
       "      <td>0.0</td>\n",
       "    </tr>\n",
       "    <tr>\n",
       "      <th>x22</th>\n",
       "      <td>0</td>\n",
       "      <td>0.0</td>\n",
       "    </tr>\n",
       "    <tr>\n",
       "      <th>x21</th>\n",
       "      <td>0</td>\n",
       "      <td>0.0</td>\n",
       "    </tr>\n",
       "    <tr>\n",
       "      <th>x20</th>\n",
       "      <td>0</td>\n",
       "      <td>0.0</td>\n",
       "    </tr>\n",
       "    <tr>\n",
       "      <th>x19</th>\n",
       "      <td>0</td>\n",
       "      <td>0.0</td>\n",
       "    </tr>\n",
       "    <tr>\n",
       "      <th>x18</th>\n",
       "      <td>0</td>\n",
       "      <td>0.0</td>\n",
       "    </tr>\n",
       "    <tr>\n",
       "      <th>x17</th>\n",
       "      <td>0</td>\n",
       "      <td>0.0</td>\n",
       "    </tr>\n",
       "    <tr>\n",
       "      <th>x16</th>\n",
       "      <td>0</td>\n",
       "      <td>0.0</td>\n",
       "    </tr>\n",
       "    <tr>\n",
       "      <th>x15</th>\n",
       "      <td>0</td>\n",
       "      <td>0.0</td>\n",
       "    </tr>\n",
       "    <tr>\n",
       "      <th>x14</th>\n",
       "      <td>0</td>\n",
       "      <td>0.0</td>\n",
       "    </tr>\n",
       "    <tr>\n",
       "      <th>x13</th>\n",
       "      <td>0</td>\n",
       "      <td>0.0</td>\n",
       "    </tr>\n",
       "    <tr>\n",
       "      <th>x12</th>\n",
       "      <td>0</td>\n",
       "      <td>0.0</td>\n",
       "    </tr>\n",
       "    <tr>\n",
       "      <th>x11</th>\n",
       "      <td>0</td>\n",
       "      <td>0.0</td>\n",
       "    </tr>\n",
       "    <tr>\n",
       "      <th>x10</th>\n",
       "      <td>0</td>\n",
       "      <td>0.0</td>\n",
       "    </tr>\n",
       "    <tr>\n",
       "      <th>x9</th>\n",
       "      <td>0</td>\n",
       "      <td>0.0</td>\n",
       "    </tr>\n",
       "    <tr>\n",
       "      <th>x8</th>\n",
       "      <td>0</td>\n",
       "      <td>0.0</td>\n",
       "    </tr>\n",
       "    <tr>\n",
       "      <th>x7</th>\n",
       "      <td>0</td>\n",
       "      <td>0.0</td>\n",
       "    </tr>\n",
       "    <tr>\n",
       "      <th>x6</th>\n",
       "      <td>0</td>\n",
       "      <td>0.0</td>\n",
       "    </tr>\n",
       "    <tr>\n",
       "      <th>x5</th>\n",
       "      <td>0</td>\n",
       "      <td>0.0</td>\n",
       "    </tr>\n",
       "    <tr>\n",
       "      <th>x4</th>\n",
       "      <td>0</td>\n",
       "      <td>0.0</td>\n",
       "    </tr>\n",
       "    <tr>\n",
       "      <th>x3</th>\n",
       "      <td>0</td>\n",
       "      <td>0.0</td>\n",
       "    </tr>\n",
       "    <tr>\n",
       "      <th>x2</th>\n",
       "      <td>0</td>\n",
       "      <td>0.0</td>\n",
       "    </tr>\n",
       "    <tr>\n",
       "      <th>target</th>\n",
       "      <td>0</td>\n",
       "      <td>0.0</td>\n",
       "    </tr>\n",
       "  </tbody>\n",
       "</table>\n",
       "</div>"
      ],
      "text/plain": [
       "        Total  Percent\n",
       "id          0      0.0\n",
       "x1          0      0.0\n",
       "x24         0      0.0\n",
       "x23         0      0.0\n",
       "x22         0      0.0\n",
       "x21         0      0.0\n",
       "x20         0      0.0\n",
       "x19         0      0.0\n",
       "x18         0      0.0\n",
       "x17         0      0.0\n",
       "x16         0      0.0\n",
       "x15         0      0.0\n",
       "x14         0      0.0\n",
       "x13         0      0.0\n",
       "x12         0      0.0\n",
       "x11         0      0.0\n",
       "x10         0      0.0\n",
       "x9          0      0.0\n",
       "x8          0      0.0\n",
       "x7          0      0.0\n",
       "x6          0      0.0\n",
       "x5          0      0.0\n",
       "x4          0      0.0\n",
       "x3          0      0.0\n",
       "x2          0      0.0\n",
       "target      0      0.0"
      ]
     },
     "execution_count": 142,
     "metadata": {},
     "output_type": "execute_result"
    }
   ],
   "source": [
    "# Sense check to ensure no missing data.\n",
    "\n",
    "missing_data(health_data_imputed)"
   ]
  },
  {
   "cell_type": "code",
   "execution_count": 143,
   "id": "e1d9ca1e",
   "metadata": {},
   "outputs": [],
   "source": [
    "# Saving the result to csv\n",
    "\n",
    "health_data_imputed.to_csv(\"C:/Users/patri/Desktop/MSc Computing Science/Data Mining/Assignment Two/Data sets/health_data_imputed.csv\", index=False)"
   ]
  },
  {
   "cell_type": "markdown",
   "id": "a3da4945",
   "metadata": {},
   "source": [
    "__Check & remove outliers.__\n",
    "\n"
   ]
  },
  {
   "cell_type": "code",
   "execution_count": 144,
   "id": "0b296139",
   "metadata": {},
   "outputs": [
    {
     "data": {
      "text/plain": [
       "'\\nfor column in NUMERICAL_COLUMNS:\\n    sns.catplot(x = \\'x3\\', y = column, hue = \"target\", kind = \"box\", data = health_data_imputed, height=5, aspect=1.8)\\n    # plt.savefig(\\'Box plot - risk by \\' + column + \\'.jpg\\')\\n\\n'"
      ]
     },
     "execution_count": 144,
     "metadata": {},
     "output_type": "execute_result"
    }
   ],
   "source": [
    "# Box plots to check visually for outliers.  Also relevant are the previously produced scatter plots.\n",
    "# Commented out to save repeated running of code\n",
    "\n",
    "\"\"\"\n",
    "for column in NUMERICAL_COLUMNS:\n",
    "    sns.catplot(x = 'x3', y = column, hue = \"target\", kind = \"box\", data = health_data_imputed, height=5, aspect=1.8)\n",
    "    # plt.savefig('Box plot - risk by ' + column + '.jpg')\n",
    "\n",
    "\"\"\""
   ]
  },
  {
   "cell_type": "markdown",
   "id": "4a6dc47e",
   "metadata": {},
   "source": [
    "__Considering outliers from graphic box / scatter plots.__\n",
    "\n",
    "- Scatter plot outliers = x11, x13, x17, x19, x23\n",
    "- box plot outliers     = x10, x11, x12, x13, x17, x19, x23\n",
    "\n",
    "Consistent across both are x11, x13, x17, x19, x23"
   ]
  },
  {
   "cell_type": "code",
   "execution_count": 145,
   "id": "658c33f8",
   "metadata": {},
   "outputs": [],
   "source": [
    "# New X/y\n",
    "\n",
    "outlier_features = [\"x11\", \"x13\", \"x17\", \"x19\", \"x23\"]\n",
    "\n",
    "# \"id\" removed - not a useful metric for analysis\n",
    "\n",
    "X = health_data_imputed[outlier_features]\n",
    "y = health_data_imputed.target"
   ]
  },
  {
   "cell_type": "code",
   "execution_count": 146,
   "id": "78d158ab",
   "metadata": {},
   "outputs": [
    {
     "name": "stdout",
     "output_type": "stream",
     "text": [
      "[ 0  1  0 ...  0  0 28]\n",
      "Total number of outliers identified is:  249\n"
     ]
    }
   ],
   "source": [
    "# Outlier detection - DBScan\n",
    "\n",
    "from sklearn.cluster import DBSCAN\n",
    "outlier_detection = DBSCAN(min_samples = 3, eps = 4)\n",
    "clusters = outlier_detection.fit_predict(X)\n",
    "TotalOutliers = list(clusters).count(-1)\n",
    "print (clusters)\n",
    "print(\"Total number of outliers identified is: \",TotalOutliers)"
   ]
  },
  {
   "cell_type": "markdown",
   "id": "01ecf970",
   "metadata": {},
   "source": [
    "- DBScan min_samples = 4 and eps = 3 --> 559 outliers\n",
    "- DBScan min_samples = 4 and eps = 3 --> 470 outliers\n",
    "- DBScan min_samples = 3 and eps = 4 --> 249 outliers"
   ]
  },
  {
   "cell_type": "code",
   "execution_count": 147,
   "id": "0b3d88c0",
   "metadata": {},
   "outputs": [
    {
     "name": "stdout",
     "output_type": "stream",
     "text": [
      "[ 1 -1  1 ...  1  1 -1]\n",
      "Total number of outliers identified is:  344\n"
     ]
    }
   ],
   "source": [
    "# Outlier detection - IsolationForest\n",
    "\n",
    "from sklearn.ensemble import IsolationForest\n",
    "clf = IsolationForest(max_samples = 150, random_state = 1, contamination= 'auto')\n",
    "preds = clf.fit_predict(X)\n",
    "print(preds)\n",
    "totalOutliers = 0\n",
    "for pred in preds:\n",
    "    if pred == -1:\n",
    "        totalOutliers = totalOutliers+1\n",
    "print(\"Total number of outliers identified is: \",totalOutliers)"
   ]
  },
  {
   "cell_type": "code",
   "execution_count": 148,
   "id": "c1813d85",
   "metadata": {},
   "outputs": [
    {
     "name": "stdout",
     "output_type": "stream",
     "text": [
      "Predicted outliers: \n",
      " [1 1 1 ... 1 1 1]\n",
      "Total number of outliers predicted is:  159\n"
     ]
    }
   ],
   "source": [
    "# Outlier detection - LocalOutlierFactor\n",
    "\n",
    "from sklearn.neighbors import LocalOutlierFactor\n",
    "np.random.seed(42)\n",
    "clf = LocalOutlierFactor(n_neighbors=20, contamination=0.1)\n",
    "y_pred = clf.fit_predict(X)\n",
    "\n",
    "print (\"Predicted outliers: \\n\",y_pred)\n",
    "\n",
    "#Calculate number of outliers\n",
    "outlierN = len([i for i in y_pred if i == -1])\n",
    "print (\"Total number of outliers predicted is: \",outlierN)"
   ]
  },
  {
   "cell_type": "code",
   "execution_count": 149,
   "id": "9764875b",
   "metadata": {},
   "outputs": [
    {
     "name": "stdout",
     "output_type": "stream",
     "text": [
      "[ 0  1  0 ...  0  0 28]\n",
      "Total number of outliers identified is:  249\n"
     ]
    }
   ],
   "source": [
    "# Mid point in these is DBScan with min_samples 3 and eps 4\n",
    "\n",
    "from sklearn.cluster import DBSCAN\n",
    "outlier_detection = DBSCAN(min_samples = 3, eps = 4)\n",
    "clusters = outlier_detection.fit_predict(X)\n",
    "TotalOutliers = list(clusters).count(-1)\n",
    "print (clusters)\n",
    "print(\"Total number of outliers identified is: \",TotalOutliers)"
   ]
  },
  {
   "cell_type": "code",
   "execution_count": 150,
   "id": "6052b5bf",
   "metadata": {},
   "outputs": [
    {
     "name": "stdout",
     "output_type": "stream",
     "text": [
      "(1335, 25)\n",
      "(1335,)\n"
     ]
    }
   ],
   "source": [
    "# Mask to select all rows that are not outliers (rest of data added back in to ensure outlier removal is across whole data set)\n",
    "\n",
    "\n",
    "X = health_data_imputed[COLUMNS]\n",
    "y = health_data_imputed.target\n",
    "\n",
    "mask = clusters != -1\n",
    "\n",
    "X_OL = X[mask]\n",
    "print(X_OL.shape)\n",
    "y_OL = y[mask]\n",
    "print (y_OL.shape)"
   ]
  },
  {
   "cell_type": "code",
   "execution_count": 151,
   "id": "5c40fedd",
   "metadata": {},
   "outputs": [],
   "source": [
    "health_data_imputed_OL = pd.concat([X_OL, y_OL], axis = \"columns\")\n",
    "health_data_imputed_OL.to_csv(\"C:/Users/patri/Desktop/MSc Computing Science/Data Mining/Assignment Two/Data sets/health_data_imputed_OL.csv\", index = False)"
   ]
  },
  {
   "cell_type": "code",
   "execution_count": 152,
   "id": "272b0af3",
   "metadata": {},
   "outputs": [
    {
     "name": "stdout",
     "output_type": "stream",
     "text": [
      "(1335, 26)\n"
     ]
    },
    {
     "data": {
      "text/html": [
       "<div>\n",
       "<style scoped>\n",
       "    .dataframe tbody tr th:only-of-type {\n",
       "        vertical-align: middle;\n",
       "    }\n",
       "\n",
       "    .dataframe tbody tr th {\n",
       "        vertical-align: top;\n",
       "    }\n",
       "\n",
       "    .dataframe thead th {\n",
       "        text-align: right;\n",
       "    }\n",
       "</style>\n",
       "<table border=\"1\" class=\"dataframe\">\n",
       "  <thead>\n",
       "    <tr style=\"text-align: right;\">\n",
       "      <th></th>\n",
       "      <th>id</th>\n",
       "      <th>x1</th>\n",
       "      <th>x2</th>\n",
       "      <th>x3</th>\n",
       "      <th>x4</th>\n",
       "      <th>x5</th>\n",
       "      <th>x6</th>\n",
       "      <th>x7</th>\n",
       "      <th>x8</th>\n",
       "      <th>x9</th>\n",
       "      <th>...</th>\n",
       "      <th>x16</th>\n",
       "      <th>x17</th>\n",
       "      <th>x18</th>\n",
       "      <th>x19</th>\n",
       "      <th>x20</th>\n",
       "      <th>x21</th>\n",
       "      <th>x22</th>\n",
       "      <th>x23</th>\n",
       "      <th>x24</th>\n",
       "      <th>target</th>\n",
       "    </tr>\n",
       "  </thead>\n",
       "  <tbody>\n",
       "    <tr>\n",
       "      <th>0</th>\n",
       "      <td>1.0</td>\n",
       "      <td>1406.0</td>\n",
       "      <td>145.0</td>\n",
       "      <td>1.0</td>\n",
       "      <td>0.005</td>\n",
       "      <td>0.000</td>\n",
       "      <td>0.002</td>\n",
       "      <td>0.000</td>\n",
       "      <td>0.0</td>\n",
       "      <td>0.0</td>\n",
       "      <td>...</td>\n",
       "      <td>104.0</td>\n",
       "      <td>171.0</td>\n",
       "      <td>4.0</td>\n",
       "      <td>0.0</td>\n",
       "      <td>155.0</td>\n",
       "      <td>153.0</td>\n",
       "      <td>154.0</td>\n",
       "      <td>4.0</td>\n",
       "      <td>1.0</td>\n",
       "      <td>Low risk</td>\n",
       "    </tr>\n",
       "    <tr>\n",
       "      <th>1</th>\n",
       "      <td>2.0</td>\n",
       "      <td>258.0</td>\n",
       "      <td>127.0</td>\n",
       "      <td>2.0</td>\n",
       "      <td>0.012</td>\n",
       "      <td>0.000</td>\n",
       "      <td>0.008</td>\n",
       "      <td>0.004</td>\n",
       "      <td>0.0</td>\n",
       "      <td>0.0</td>\n",
       "      <td>...</td>\n",
       "      <td>53.0</td>\n",
       "      <td>191.0</td>\n",
       "      <td>12.0</td>\n",
       "      <td>1.0</td>\n",
       "      <td>133.0</td>\n",
       "      <td>126.0</td>\n",
       "      <td>131.0</td>\n",
       "      <td>41.0</td>\n",
       "      <td>0.0</td>\n",
       "      <td>Low risk</td>\n",
       "    </tr>\n",
       "    <tr>\n",
       "      <th>2</th>\n",
       "      <td>3.0</td>\n",
       "      <td>479.0</td>\n",
       "      <td>145.0</td>\n",
       "      <td>1.0</td>\n",
       "      <td>0.000</td>\n",
       "      <td>0.000</td>\n",
       "      <td>0.000</td>\n",
       "      <td>0.002</td>\n",
       "      <td>0.0</td>\n",
       "      <td>0.0</td>\n",
       "      <td>...</td>\n",
       "      <td>111.0</td>\n",
       "      <td>157.0</td>\n",
       "      <td>1.0</td>\n",
       "      <td>1.0</td>\n",
       "      <td>150.0</td>\n",
       "      <td>146.0</td>\n",
       "      <td>149.0</td>\n",
       "      <td>6.0</td>\n",
       "      <td>1.0</td>\n",
       "      <td>Low risk</td>\n",
       "    </tr>\n",
       "    <tr>\n",
       "      <th>3</th>\n",
       "      <td>4.0</td>\n",
       "      <td>906.0</td>\n",
       "      <td>146.0</td>\n",
       "      <td>1.0</td>\n",
       "      <td>0.004</td>\n",
       "      <td>0.000</td>\n",
       "      <td>0.005</td>\n",
       "      <td>0.003</td>\n",
       "      <td>0.0</td>\n",
       "      <td>0.0</td>\n",
       "      <td>...</td>\n",
       "      <td>107.0</td>\n",
       "      <td>169.0</td>\n",
       "      <td>2.0</td>\n",
       "      <td>2.0</td>\n",
       "      <td>150.0</td>\n",
       "      <td>147.0</td>\n",
       "      <td>149.0</td>\n",
       "      <td>7.0</td>\n",
       "      <td>0.0</td>\n",
       "      <td>Low risk</td>\n",
       "    </tr>\n",
       "    <tr>\n",
       "      <th>4</th>\n",
       "      <td>5.0</td>\n",
       "      <td>1921.0</td>\n",
       "      <td>140.0</td>\n",
       "      <td>1.0</td>\n",
       "      <td>0.002</td>\n",
       "      <td>0.003</td>\n",
       "      <td>0.006</td>\n",
       "      <td>0.006</td>\n",
       "      <td>0.0</td>\n",
       "      <td>0.0</td>\n",
       "      <td>...</td>\n",
       "      <td>75.0</td>\n",
       "      <td>228.0</td>\n",
       "      <td>9.0</td>\n",
       "      <td>0.0</td>\n",
       "      <td>142.0</td>\n",
       "      <td>118.0</td>\n",
       "      <td>142.0</td>\n",
       "      <td>20.0</td>\n",
       "      <td>0.0</td>\n",
       "      <td>Low risk</td>\n",
       "    </tr>\n",
       "  </tbody>\n",
       "</table>\n",
       "<p>5 rows × 26 columns</p>\n",
       "</div>"
      ],
      "text/plain": [
       "    id      x1     x2   x3     x4     x5     x6     x7   x8   x9  ...    x16  \\\n",
       "0  1.0  1406.0  145.0  1.0  0.005  0.000  0.002  0.000  0.0  0.0  ...  104.0   \n",
       "1  2.0   258.0  127.0  2.0  0.012  0.000  0.008  0.004  0.0  0.0  ...   53.0   \n",
       "2  3.0   479.0  145.0  1.0  0.000  0.000  0.000  0.002  0.0  0.0  ...  111.0   \n",
       "3  4.0   906.0  146.0  1.0  0.004  0.000  0.005  0.003  0.0  0.0  ...  107.0   \n",
       "4  5.0  1921.0  140.0  1.0  0.002  0.003  0.006  0.006  0.0  0.0  ...   75.0   \n",
       "\n",
       "     x17   x18  x19    x20    x21    x22   x23  x24    target  \n",
       "0  171.0   4.0  0.0  155.0  153.0  154.0   4.0  1.0  Low risk  \n",
       "1  191.0  12.0  1.0  133.0  126.0  131.0  41.0  0.0  Low risk  \n",
       "2  157.0   1.0  1.0  150.0  146.0  149.0   6.0  1.0  Low risk  \n",
       "3  169.0   2.0  2.0  150.0  147.0  149.0   7.0  0.0  Low risk  \n",
       "4  228.0   9.0  0.0  142.0  118.0  142.0  20.0  0.0  Low risk  \n",
       "\n",
       "[5 rows x 26 columns]"
      ]
     },
     "execution_count": 152,
     "metadata": {},
     "output_type": "execute_result"
    }
   ],
   "source": [
    "print(health_data_imputed_OL.shape)\n",
    "health_data_imputed_OL.head()"
   ]
  },
  {
   "cell_type": "markdown",
   "id": "711628b4",
   "metadata": {},
   "source": [
    "__Balancing the data set__"
   ]
  },
  {
   "cell_type": "code",
   "execution_count": 153,
   "id": "2bef282d",
   "metadata": {},
   "outputs": [],
   "source": [
    "# Loading in data set once outliers have been removed and missing data imputed\n",
    "\n",
    "data_path = \"C:/Users/patri/Desktop/MSc Computing Science/Data Mining/Assignment Two/Data sets/health_data_imputed_OL.csv\"\n",
    "health_data_new = pd.read_csv(data_path)"
   ]
  },
  {
   "cell_type": "code",
   "execution_count": 154,
   "id": "4822541d",
   "metadata": {},
   "outputs": [
    {
     "name": "stdout",
     "output_type": "stream",
     "text": [
      "Low risk         1057\n",
      "Moderate risk     201\n",
      "High risk          77\n",
      "Name: target, dtype: int64\n"
     ]
    }
   ],
   "source": [
    "# Spread of target variable\n",
    "\n",
    "print(health_data_new.target.value_counts())"
   ]
  },
  {
   "cell_type": "code",
   "execution_count": 155,
   "id": "56fb836b",
   "metadata": {},
   "outputs": [],
   "source": [
    "# New X/y\n",
    "\n",
    "X = health_data_new[COLUMNS]\n",
    "y = health_data_new.target"
   ]
  },
  {
   "cell_type": "code",
   "execution_count": 156,
   "id": "4dc852ff",
   "metadata": {},
   "outputs": [
    {
     "data": {
      "text/plain": [
       "Low risk         1057\n",
       "Moderate risk    1057\n",
       "High risk        1057\n",
       "Name: target, dtype: int64"
      ]
     },
     "execution_count": 156,
     "metadata": {},
     "output_type": "execute_result"
    }
   ],
   "source": [
    "# Upscale the minority classes as opposed to downscale the majority classes\n",
    "\n",
    "from sklearn.utils import resample\n",
    "\n",
    "resampling = X.copy()\n",
    "resampling['target']= y.values\n",
    "\n",
    "majority_class = resampling[resampling['target'] == 'Low risk']\n",
    "minority_class_1 = resampling[resampling['target'] == 'Moderate risk']\n",
    "minority_class_2 = resampling[resampling['target'] == 'High risk']\n",
    "\n",
    "minority_1_upsampled = resample(minority_class_1,\n",
    "                               replace = True,\n",
    "                               n_samples = 1057,\n",
    "                               random_state = 123)\n",
    "\n",
    "minority_2_upsampled = resample(minority_class_2,\n",
    "                               replace = True,\n",
    "                               n_samples = 1057,\n",
    "                               random_state = 123)\n",
    "\n",
    "upsampled_1 = pd.concat([majority_class, minority_1_upsampled])\n",
    "\n",
    "upsampled_2 = pd.concat([upsampled_1, minority_2_upsampled])\n",
    "\n",
    "upsampled_2.target.value_counts()"
   ]
  },
  {
   "cell_type": "code",
   "execution_count": 157,
   "id": "b4f945fe",
   "metadata": {},
   "outputs": [
    {
     "name": "stdout",
     "output_type": "stream",
     "text": [
      "(3171, 26)\n"
     ]
    },
    {
     "data": {
      "text/html": [
       "<div>\n",
       "<style scoped>\n",
       "    .dataframe tbody tr th:only-of-type {\n",
       "        vertical-align: middle;\n",
       "    }\n",
       "\n",
       "    .dataframe tbody tr th {\n",
       "        vertical-align: top;\n",
       "    }\n",
       "\n",
       "    .dataframe thead th {\n",
       "        text-align: right;\n",
       "    }\n",
       "</style>\n",
       "<table border=\"1\" class=\"dataframe\">\n",
       "  <thead>\n",
       "    <tr style=\"text-align: right;\">\n",
       "      <th></th>\n",
       "      <th>id</th>\n",
       "      <th>x1</th>\n",
       "      <th>x2</th>\n",
       "      <th>x3</th>\n",
       "      <th>x4</th>\n",
       "      <th>x5</th>\n",
       "      <th>x6</th>\n",
       "      <th>x7</th>\n",
       "      <th>x8</th>\n",
       "      <th>x9</th>\n",
       "      <th>...</th>\n",
       "      <th>x16</th>\n",
       "      <th>x17</th>\n",
       "      <th>x18</th>\n",
       "      <th>x19</th>\n",
       "      <th>x20</th>\n",
       "      <th>x21</th>\n",
       "      <th>x22</th>\n",
       "      <th>x23</th>\n",
       "      <th>x24</th>\n",
       "      <th>target</th>\n",
       "    </tr>\n",
       "  </thead>\n",
       "  <tbody>\n",
       "    <tr>\n",
       "      <th>0</th>\n",
       "      <td>1.0</td>\n",
       "      <td>1406.0</td>\n",
       "      <td>145.0</td>\n",
       "      <td>1.0</td>\n",
       "      <td>0.005</td>\n",
       "      <td>0.000</td>\n",
       "      <td>0.002</td>\n",
       "      <td>0.000</td>\n",
       "      <td>0.0</td>\n",
       "      <td>0.0</td>\n",
       "      <td>...</td>\n",
       "      <td>104.0</td>\n",
       "      <td>171.0</td>\n",
       "      <td>4.0</td>\n",
       "      <td>0.0</td>\n",
       "      <td>155.0</td>\n",
       "      <td>153.0</td>\n",
       "      <td>154.0</td>\n",
       "      <td>4.0</td>\n",
       "      <td>1.0</td>\n",
       "      <td>Low risk</td>\n",
       "    </tr>\n",
       "    <tr>\n",
       "      <th>1</th>\n",
       "      <td>2.0</td>\n",
       "      <td>258.0</td>\n",
       "      <td>127.0</td>\n",
       "      <td>2.0</td>\n",
       "      <td>0.012</td>\n",
       "      <td>0.000</td>\n",
       "      <td>0.008</td>\n",
       "      <td>0.004</td>\n",
       "      <td>0.0</td>\n",
       "      <td>0.0</td>\n",
       "      <td>...</td>\n",
       "      <td>53.0</td>\n",
       "      <td>191.0</td>\n",
       "      <td>12.0</td>\n",
       "      <td>1.0</td>\n",
       "      <td>133.0</td>\n",
       "      <td>126.0</td>\n",
       "      <td>131.0</td>\n",
       "      <td>41.0</td>\n",
       "      <td>0.0</td>\n",
       "      <td>Low risk</td>\n",
       "    </tr>\n",
       "    <tr>\n",
       "      <th>2</th>\n",
       "      <td>3.0</td>\n",
       "      <td>479.0</td>\n",
       "      <td>145.0</td>\n",
       "      <td>1.0</td>\n",
       "      <td>0.000</td>\n",
       "      <td>0.000</td>\n",
       "      <td>0.000</td>\n",
       "      <td>0.002</td>\n",
       "      <td>0.0</td>\n",
       "      <td>0.0</td>\n",
       "      <td>...</td>\n",
       "      <td>111.0</td>\n",
       "      <td>157.0</td>\n",
       "      <td>1.0</td>\n",
       "      <td>1.0</td>\n",
       "      <td>150.0</td>\n",
       "      <td>146.0</td>\n",
       "      <td>149.0</td>\n",
       "      <td>6.0</td>\n",
       "      <td>1.0</td>\n",
       "      <td>Low risk</td>\n",
       "    </tr>\n",
       "    <tr>\n",
       "      <th>3</th>\n",
       "      <td>4.0</td>\n",
       "      <td>906.0</td>\n",
       "      <td>146.0</td>\n",
       "      <td>1.0</td>\n",
       "      <td>0.004</td>\n",
       "      <td>0.000</td>\n",
       "      <td>0.005</td>\n",
       "      <td>0.003</td>\n",
       "      <td>0.0</td>\n",
       "      <td>0.0</td>\n",
       "      <td>...</td>\n",
       "      <td>107.0</td>\n",
       "      <td>169.0</td>\n",
       "      <td>2.0</td>\n",
       "      <td>2.0</td>\n",
       "      <td>150.0</td>\n",
       "      <td>147.0</td>\n",
       "      <td>149.0</td>\n",
       "      <td>7.0</td>\n",
       "      <td>0.0</td>\n",
       "      <td>Low risk</td>\n",
       "    </tr>\n",
       "    <tr>\n",
       "      <th>4</th>\n",
       "      <td>5.0</td>\n",
       "      <td>1921.0</td>\n",
       "      <td>140.0</td>\n",
       "      <td>1.0</td>\n",
       "      <td>0.002</td>\n",
       "      <td>0.003</td>\n",
       "      <td>0.006</td>\n",
       "      <td>0.006</td>\n",
       "      <td>0.0</td>\n",
       "      <td>0.0</td>\n",
       "      <td>...</td>\n",
       "      <td>75.0</td>\n",
       "      <td>228.0</td>\n",
       "      <td>9.0</td>\n",
       "      <td>0.0</td>\n",
       "      <td>142.0</td>\n",
       "      <td>118.0</td>\n",
       "      <td>142.0</td>\n",
       "      <td>20.0</td>\n",
       "      <td>0.0</td>\n",
       "      <td>Low risk</td>\n",
       "    </tr>\n",
       "  </tbody>\n",
       "</table>\n",
       "<p>5 rows × 26 columns</p>\n",
       "</div>"
      ],
      "text/plain": [
       "    id      x1     x2   x3     x4     x5     x6     x7   x8   x9  ...    x16  \\\n",
       "0  1.0  1406.0  145.0  1.0  0.005  0.000  0.002  0.000  0.0  0.0  ...  104.0   \n",
       "1  2.0   258.0  127.0  2.0  0.012  0.000  0.008  0.004  0.0  0.0  ...   53.0   \n",
       "2  3.0   479.0  145.0  1.0  0.000  0.000  0.000  0.002  0.0  0.0  ...  111.0   \n",
       "3  4.0   906.0  146.0  1.0  0.004  0.000  0.005  0.003  0.0  0.0  ...  107.0   \n",
       "4  5.0  1921.0  140.0  1.0  0.002  0.003  0.006  0.006  0.0  0.0  ...   75.0   \n",
       "\n",
       "     x17   x18  x19    x20    x21    x22   x23  x24    target  \n",
       "0  171.0   4.0  0.0  155.0  153.0  154.0   4.0  1.0  Low risk  \n",
       "1  191.0  12.0  1.0  133.0  126.0  131.0  41.0  0.0  Low risk  \n",
       "2  157.0   1.0  1.0  150.0  146.0  149.0   6.0  1.0  Low risk  \n",
       "3  169.0   2.0  2.0  150.0  147.0  149.0   7.0  0.0  Low risk  \n",
       "4  228.0   9.0  0.0  142.0  118.0  142.0  20.0  0.0  Low risk  \n",
       "\n",
       "[5 rows x 26 columns]"
      ]
     },
     "execution_count": 157,
     "metadata": {},
     "output_type": "execute_result"
    }
   ],
   "source": [
    "print(upsampled_2.shape)\n",
    "upsampled_2.head()"
   ]
  },
  {
   "cell_type": "code",
   "execution_count": 158,
   "id": "a22b12f5",
   "metadata": {},
   "outputs": [],
   "source": [
    "health_data_working  = upsampled_2\n",
    "health_data_working.to_csv(\"C:/Users/patri/Desktop/MSc Computing Science/Data Mining/Assignment Two/Data sets/health_data_working.csv\", index = False)"
   ]
  },
  {
   "cell_type": "markdown",
   "id": "88c986d8",
   "metadata": {},
   "source": [
    "__Feature selection__"
   ]
  },
  {
   "cell_type": "code",
   "execution_count": 159,
   "id": "5e6e5f99",
   "metadata": {},
   "outputs": [
    {
     "data": {
      "text/plain": [
       "Index(['id', 'x1', 'x2', 'x3', 'x4', 'x5', 'x6', 'x7', 'x8', 'x9', 'x10',\n",
       "       'x11', 'x12', 'x13', 'x14', 'x15', 'x16', 'x17', 'x18', 'x19', 'x20',\n",
       "       'x21', 'x22', 'x23', 'x24'],\n",
       "      dtype='object')"
      ]
     },
     "execution_count": 159,
     "metadata": {},
     "output_type": "execute_result"
    }
   ],
   "source": [
    "# Feature selection - identiify all numeric columns (inc encoded categoric)\n",
    "\n",
    "feature_selection = health_data_working.select_dtypes(exclude = ['object']).copy()\n",
    "feature_select_columns = feature_selection.columns\n",
    "feature_select_columns"
   ]
  },
  {
   "cell_type": "code",
   "execution_count": 160,
   "id": "128745b2",
   "metadata": {},
   "outputs": [],
   "source": [
    "# X / y split\n",
    "\n",
    "X_fs = health_data_working[feature_select_columns]\n",
    "y_fs = health_data_working.target"
   ]
  },
  {
   "cell_type": "code",
   "execution_count": 161,
   "id": "d3266e94",
   "metadata": {},
   "outputs": [
    {
     "name": "stdout",
     "output_type": "stream",
     "text": [
      "   Attribute     Score\n",
      "1         x1  0.987058\n",
      "0         id  0.787634\n",
      "12       x12  0.498775\n",
      "10       x10  0.481912\n",
      "15       x15  0.478484\n",
      "13       x13  0.453981\n",
      "16       x16  0.437081\n",
      "11       x11  0.430124\n",
      "21       x21  0.381637\n",
      "23       x23  0.362255\n",
      "22       x22  0.354448\n",
      "20       x20  0.351428\n",
      "2         x2  0.351185\n",
      "17       x17  0.287294\n",
      "4         x4  0.227265\n",
      "14       x14  0.138264\n",
      "6         x6  0.121898\n",
      "9         x9  0.113214\n",
      "5         x5  0.111773\n",
      "3         x3  0.084751\n",
      "7         x7  0.080092\n",
      "18       x18  0.036737\n",
      "19       x19  0.036042\n",
      "24       x24  0.028712\n",
      "8         x8  0.000000\n"
     ]
    }
   ],
   "source": [
    "# feature ranking algorithm to rank attributes in X using the mutual_info_classif criterion\n",
    "\n",
    "from sklearn.feature_selection import SelectKBest, mutual_info_classif\n",
    "\n",
    "selector = SelectKBest(score_func = mutual_info_classif, k = 'all')\n",
    "\n",
    "Xfs = selector.fit_transform(X_fs, y_fs)\n",
    "\n",
    "names = X_fs.columns.values[selector.get_support()]\n",
    "scores = selector.scores_[selector.get_support()]\n",
    "\n",
    "names_scores = list(zip(names, scores))\n",
    "\n",
    "names_scores = pd.DataFrame(data = names_scores, columns=['Attribute', 'Score'])\n",
    "names_scores_sorted = names_scores.sort_values(['Score', 'Attribute'], ascending = [False, True])\n",
    "\n",
    "print(names_scores_sorted)\n",
    "\n",
    "# \"id\" can be ignored as an attribute.  It wasn't excluded from the features as it had been encoded."
   ]
  },
  {
   "cell_type": "code",
   "execution_count": 162,
   "id": "b708a531",
   "metadata": {},
   "outputs": [
    {
     "name": "stdout",
     "output_type": "stream",
     "text": [
      "The shape of the health data training sample is;\n",
      "(2536, 26)\n",
      "The shape of the health data validation sample is;\n",
      "(635, 26)\n"
     ]
    }
   ],
   "source": [
    "#Training and validation data split (80% / 20%)\n",
    "\n",
    "VALIDATION_SIZE = 0.2\n",
    "RANDOM_STATE = 2018\n",
    "\n",
    "training, validation = train_test_split(health_data_working, \n",
    "                                        test_size = VALIDATION_SIZE, \n",
    "                                        random_state = RANDOM_STATE, \n",
    "                                        shuffle = True )\n",
    "\n",
    "print(f\"The shape of the health data training sample is;\\n{training.shape}\")\n",
    "print(f\"The shape of the health data validation sample is;\\n{validation.shape}\")"
   ]
  },
  {
   "cell_type": "markdown",
   "id": "c4656ad1",
   "metadata": {},
   "source": [
    "At this stage we have;\n",
    "\n",
    "1) Data loaded, sense schecked and initial visualisations produced.\n",
    "2) Categoric attributes have been encoded.\n",
    "3) Missing data has been removed.\n",
    "4) Outliers have been identified and rows relating removed\n",
    "5) __No work has been done on feature construction__.  This is to be done on latter iterations.\n",
    "6) Feature selection algorithm has been run - The mutual information score measures the dependence between two variables,\n",
    "   (in this case each attribute and the target variable).\n",
    "   The score ranges from 0 (no dependence) to 1 (perfect dependence).\n",
    "7) Train and validation data sets have been produced.\n",
    "\n",
    "Relevant data sets are;\n",
    "\n",
    "1) __health_data__.  This is the initial raw data set.\n",
    "2) __health_data_encoded__.  This is the data after categoric attributes were encoded.\n",
    "3) __health_data_imputed__.  This is the data after imputation of missing data.\n",
    "4) __health_data_working__.  This is the data set after outliers and balancing operations\n",
    "4) __training__.  80% of the original data set, encoded and with rows removed where missing data existed.  __This is the training data set__.\n",
    "5) __validation__.  20% of the original data set, encoded and with rows removed where missing data existed.  __This is the validation data set__."
   ]
  },
  {
   "cell_type": "markdown",
   "id": "e9cb3af1",
   "metadata": {},
   "source": [
    "__Classifier selection__"
   ]
  },
  {
   "cell_type": "code",
   "execution_count": 163,
   "id": "a9a58923",
   "metadata": {},
   "outputs": [],
   "source": [
    "# Initial predictions using attributes ranked 1 - 5 (\"id\" excluded) \n",
    "\n",
    "predictors = [\"x1\", \"x10\", \"x12\", \"x15\", \"x13\"]\n",
    "target = \"target\""
   ]
  },
  {
   "cell_type": "code",
   "execution_count": 164,
   "id": "fe6f3b76",
   "metadata": {},
   "outputs": [],
   "source": [
    "# Associating X / y \n",
    "\n",
    "training_X = training[predictors]\n",
    "training_y = training[target].values\n",
    "validation_X = validation[predictors]\n",
    "validation_y = validation[target].values"
   ]
  },
  {
   "cell_type": "code",
   "execution_count": 165,
   "id": "affcd5cc",
   "metadata": {},
   "outputs": [
    {
     "data": {
      "text/html": [
       "<style>#sk-container-id-9 {color: black;background-color: white;}#sk-container-id-9 pre{padding: 0;}#sk-container-id-9 div.sk-toggleable {background-color: white;}#sk-container-id-9 label.sk-toggleable__label {cursor: pointer;display: block;width: 100%;margin-bottom: 0;padding: 0.3em;box-sizing: border-box;text-align: center;}#sk-container-id-9 label.sk-toggleable__label-arrow:before {content: \"▸\";float: left;margin-right: 0.25em;color: #696969;}#sk-container-id-9 label.sk-toggleable__label-arrow:hover:before {color: black;}#sk-container-id-9 div.sk-estimator:hover label.sk-toggleable__label-arrow:before {color: black;}#sk-container-id-9 div.sk-toggleable__content {max-height: 0;max-width: 0;overflow: hidden;text-align: left;background-color: #f0f8ff;}#sk-container-id-9 div.sk-toggleable__content pre {margin: 0.2em;color: black;border-radius: 0.25em;background-color: #f0f8ff;}#sk-container-id-9 input.sk-toggleable__control:checked~div.sk-toggleable__content {max-height: 200px;max-width: 100%;overflow: auto;}#sk-container-id-9 input.sk-toggleable__control:checked~label.sk-toggleable__label-arrow:before {content: \"▾\";}#sk-container-id-9 div.sk-estimator input.sk-toggleable__control:checked~label.sk-toggleable__label {background-color: #d4ebff;}#sk-container-id-9 div.sk-label input.sk-toggleable__control:checked~label.sk-toggleable__label {background-color: #d4ebff;}#sk-container-id-9 input.sk-hidden--visually {border: 0;clip: rect(1px 1px 1px 1px);clip: rect(1px, 1px, 1px, 1px);height: 1px;margin: -1px;overflow: hidden;padding: 0;position: absolute;width: 1px;}#sk-container-id-9 div.sk-estimator {font-family: monospace;background-color: #f0f8ff;border: 1px dotted black;border-radius: 0.25em;box-sizing: border-box;margin-bottom: 0.5em;}#sk-container-id-9 div.sk-estimator:hover {background-color: #d4ebff;}#sk-container-id-9 div.sk-parallel-item::after {content: \"\";width: 100%;border-bottom: 1px solid gray;flex-grow: 1;}#sk-container-id-9 div.sk-label:hover label.sk-toggleable__label {background-color: #d4ebff;}#sk-container-id-9 div.sk-serial::before {content: \"\";position: absolute;border-left: 1px solid gray;box-sizing: border-box;top: 0;bottom: 0;left: 50%;z-index: 0;}#sk-container-id-9 div.sk-serial {display: flex;flex-direction: column;align-items: center;background-color: white;padding-right: 0.2em;padding-left: 0.2em;position: relative;}#sk-container-id-9 div.sk-item {position: relative;z-index: 1;}#sk-container-id-9 div.sk-parallel {display: flex;align-items: stretch;justify-content: center;background-color: white;position: relative;}#sk-container-id-9 div.sk-item::before, #sk-container-id-9 div.sk-parallel-item::before {content: \"\";position: absolute;border-left: 1px solid gray;box-sizing: border-box;top: 0;bottom: 0;left: 50%;z-index: -1;}#sk-container-id-9 div.sk-parallel-item {display: flex;flex-direction: column;z-index: 1;position: relative;background-color: white;}#sk-container-id-9 div.sk-parallel-item:first-child::after {align-self: flex-end;width: 50%;}#sk-container-id-9 div.sk-parallel-item:last-child::after {align-self: flex-start;width: 50%;}#sk-container-id-9 div.sk-parallel-item:only-child::after {width: 0;}#sk-container-id-9 div.sk-dashed-wrapped {border: 1px dashed gray;margin: 0 0.4em 0.5em 0.4em;box-sizing: border-box;padding-bottom: 0.4em;background-color: white;}#sk-container-id-9 div.sk-label label {font-family: monospace;font-weight: bold;display: inline-block;line-height: 1.2em;}#sk-container-id-9 div.sk-label-container {text-align: center;}#sk-container-id-9 div.sk-container {/* jupyter's `normalize.less` sets `[hidden] { display: none; }` but bootstrap.min.css set `[hidden] { display: none !important; }` so we also need the `!important` here to be able to override the default hidden behavior on the sphinx rendered scikit-learn.org. See: https://github.com/scikit-learn/scikit-learn/issues/21755 */display: inline-block !important;position: relative;}#sk-container-id-9 div.sk-text-repr-fallback {display: none;}</style><div id=\"sk-container-id-9\" class=\"sk-top-container\"><div class=\"sk-text-repr-fallback\"><pre>GaussianNB()</pre><b>In a Jupyter environment, please rerun this cell to show the HTML representation or trust the notebook. <br />On GitHub, the HTML representation is unable to render, please try loading this page with nbviewer.org.</b></div><div class=\"sk-container\" hidden><div class=\"sk-item\"><div class=\"sk-estimator sk-toggleable\"><input class=\"sk-toggleable__control sk-hidden--visually\" id=\"sk-estimator-id-9\" type=\"checkbox\" checked><label for=\"sk-estimator-id-9\" class=\"sk-toggleable__label sk-toggleable__label-arrow\">GaussianNB</label><div class=\"sk-toggleable__content\"><pre>GaussianNB()</pre></div></div></div></div></div>"
      ],
      "text/plain": [
       "GaussianNB()"
      ]
     },
     "execution_count": 165,
     "metadata": {},
     "output_type": "execute_result"
    }
   ],
   "source": [
    "# NaiveBayes classifier across training data\n",
    "\n",
    "from sklearn.naive_bayes import GaussianNB\n",
    "\n",
    "naive_bayes = GaussianNB()\n",
    "naive_bayes.fit(training_X, training_y)"
   ]
  },
  {
   "cell_type": "code",
   "execution_count": 166,
   "id": "a4d8bcae",
   "metadata": {},
   "outputs": [
    {
     "data": {
      "text/html": [
       "<style>#sk-container-id-10 {color: black;background-color: white;}#sk-container-id-10 pre{padding: 0;}#sk-container-id-10 div.sk-toggleable {background-color: white;}#sk-container-id-10 label.sk-toggleable__label {cursor: pointer;display: block;width: 100%;margin-bottom: 0;padding: 0.3em;box-sizing: border-box;text-align: center;}#sk-container-id-10 label.sk-toggleable__label-arrow:before {content: \"▸\";float: left;margin-right: 0.25em;color: #696969;}#sk-container-id-10 label.sk-toggleable__label-arrow:hover:before {color: black;}#sk-container-id-10 div.sk-estimator:hover label.sk-toggleable__label-arrow:before {color: black;}#sk-container-id-10 div.sk-toggleable__content {max-height: 0;max-width: 0;overflow: hidden;text-align: left;background-color: #f0f8ff;}#sk-container-id-10 div.sk-toggleable__content pre {margin: 0.2em;color: black;border-radius: 0.25em;background-color: #f0f8ff;}#sk-container-id-10 input.sk-toggleable__control:checked~div.sk-toggleable__content {max-height: 200px;max-width: 100%;overflow: auto;}#sk-container-id-10 input.sk-toggleable__control:checked~label.sk-toggleable__label-arrow:before {content: \"▾\";}#sk-container-id-10 div.sk-estimator input.sk-toggleable__control:checked~label.sk-toggleable__label {background-color: #d4ebff;}#sk-container-id-10 div.sk-label input.sk-toggleable__control:checked~label.sk-toggleable__label {background-color: #d4ebff;}#sk-container-id-10 input.sk-hidden--visually {border: 0;clip: rect(1px 1px 1px 1px);clip: rect(1px, 1px, 1px, 1px);height: 1px;margin: -1px;overflow: hidden;padding: 0;position: absolute;width: 1px;}#sk-container-id-10 div.sk-estimator {font-family: monospace;background-color: #f0f8ff;border: 1px dotted black;border-radius: 0.25em;box-sizing: border-box;margin-bottom: 0.5em;}#sk-container-id-10 div.sk-estimator:hover {background-color: #d4ebff;}#sk-container-id-10 div.sk-parallel-item::after {content: \"\";width: 100%;border-bottom: 1px solid gray;flex-grow: 1;}#sk-container-id-10 div.sk-label:hover label.sk-toggleable__label {background-color: #d4ebff;}#sk-container-id-10 div.sk-serial::before {content: \"\";position: absolute;border-left: 1px solid gray;box-sizing: border-box;top: 0;bottom: 0;left: 50%;z-index: 0;}#sk-container-id-10 div.sk-serial {display: flex;flex-direction: column;align-items: center;background-color: white;padding-right: 0.2em;padding-left: 0.2em;position: relative;}#sk-container-id-10 div.sk-item {position: relative;z-index: 1;}#sk-container-id-10 div.sk-parallel {display: flex;align-items: stretch;justify-content: center;background-color: white;position: relative;}#sk-container-id-10 div.sk-item::before, #sk-container-id-10 div.sk-parallel-item::before {content: \"\";position: absolute;border-left: 1px solid gray;box-sizing: border-box;top: 0;bottom: 0;left: 50%;z-index: -1;}#sk-container-id-10 div.sk-parallel-item {display: flex;flex-direction: column;z-index: 1;position: relative;background-color: white;}#sk-container-id-10 div.sk-parallel-item:first-child::after {align-self: flex-end;width: 50%;}#sk-container-id-10 div.sk-parallel-item:last-child::after {align-self: flex-start;width: 50%;}#sk-container-id-10 div.sk-parallel-item:only-child::after {width: 0;}#sk-container-id-10 div.sk-dashed-wrapped {border: 1px dashed gray;margin: 0 0.4em 0.5em 0.4em;box-sizing: border-box;padding-bottom: 0.4em;background-color: white;}#sk-container-id-10 div.sk-label label {font-family: monospace;font-weight: bold;display: inline-block;line-height: 1.2em;}#sk-container-id-10 div.sk-label-container {text-align: center;}#sk-container-id-10 div.sk-container {/* jupyter's `normalize.less` sets `[hidden] { display: none; }` but bootstrap.min.css set `[hidden] { display: none !important; }` so we also need the `!important` here to be able to override the default hidden behavior on the sphinx rendered scikit-learn.org. See: https://github.com/scikit-learn/scikit-learn/issues/21755 */display: inline-block !important;position: relative;}#sk-container-id-10 div.sk-text-repr-fallback {display: none;}</style><div id=\"sk-container-id-10\" class=\"sk-top-container\"><div class=\"sk-text-repr-fallback\"><pre>SGDClassifier()</pre><b>In a Jupyter environment, please rerun this cell to show the HTML representation or trust the notebook. <br />On GitHub, the HTML representation is unable to render, please try loading this page with nbviewer.org.</b></div><div class=\"sk-container\" hidden><div class=\"sk-item\"><div class=\"sk-estimator sk-toggleable\"><input class=\"sk-toggleable__control sk-hidden--visually\" id=\"sk-estimator-id-10\" type=\"checkbox\" checked><label for=\"sk-estimator-id-10\" class=\"sk-toggleable__label sk-toggleable__label-arrow\">SGDClassifier</label><div class=\"sk-toggleable__content\"><pre>SGDClassifier()</pre></div></div></div></div></div>"
      ],
      "text/plain": [
       "SGDClassifier()"
      ]
     },
     "execution_count": 166,
     "metadata": {},
     "output_type": "execute_result"
    }
   ],
   "source": [
    "#  Linear Classifier using Stochastic Gradient Descent across training data\n",
    "\n",
    "from sklearn.linear_model import SGDClassifier\n",
    "\n",
    "sgd = SGDClassifier()\n",
    "sgd.fit(training_X, training_y)"
   ]
  },
  {
   "cell_type": "code",
   "execution_count": 167,
   "id": "ba5791b1",
   "metadata": {},
   "outputs": [
    {
     "name": "stderr",
     "output_type": "stream",
     "text": [
      "C:\\Users\\patri\\anaconda\\lib\\site-packages\\sklearn\\svm\\_base.py:1244: ConvergenceWarning: Liblinear failed to converge, increase the number of iterations.\n",
      "  warnings.warn(\n"
     ]
    },
    {
     "data": {
      "text/html": [
       "<style>#sk-container-id-11 {color: black;background-color: white;}#sk-container-id-11 pre{padding: 0;}#sk-container-id-11 div.sk-toggleable {background-color: white;}#sk-container-id-11 label.sk-toggleable__label {cursor: pointer;display: block;width: 100%;margin-bottom: 0;padding: 0.3em;box-sizing: border-box;text-align: center;}#sk-container-id-11 label.sk-toggleable__label-arrow:before {content: \"▸\";float: left;margin-right: 0.25em;color: #696969;}#sk-container-id-11 label.sk-toggleable__label-arrow:hover:before {color: black;}#sk-container-id-11 div.sk-estimator:hover label.sk-toggleable__label-arrow:before {color: black;}#sk-container-id-11 div.sk-toggleable__content {max-height: 0;max-width: 0;overflow: hidden;text-align: left;background-color: #f0f8ff;}#sk-container-id-11 div.sk-toggleable__content pre {margin: 0.2em;color: black;border-radius: 0.25em;background-color: #f0f8ff;}#sk-container-id-11 input.sk-toggleable__control:checked~div.sk-toggleable__content {max-height: 200px;max-width: 100%;overflow: auto;}#sk-container-id-11 input.sk-toggleable__control:checked~label.sk-toggleable__label-arrow:before {content: \"▾\";}#sk-container-id-11 div.sk-estimator input.sk-toggleable__control:checked~label.sk-toggleable__label {background-color: #d4ebff;}#sk-container-id-11 div.sk-label input.sk-toggleable__control:checked~label.sk-toggleable__label {background-color: #d4ebff;}#sk-container-id-11 input.sk-hidden--visually {border: 0;clip: rect(1px 1px 1px 1px);clip: rect(1px, 1px, 1px, 1px);height: 1px;margin: -1px;overflow: hidden;padding: 0;position: absolute;width: 1px;}#sk-container-id-11 div.sk-estimator {font-family: monospace;background-color: #f0f8ff;border: 1px dotted black;border-radius: 0.25em;box-sizing: border-box;margin-bottom: 0.5em;}#sk-container-id-11 div.sk-estimator:hover {background-color: #d4ebff;}#sk-container-id-11 div.sk-parallel-item::after {content: \"\";width: 100%;border-bottom: 1px solid gray;flex-grow: 1;}#sk-container-id-11 div.sk-label:hover label.sk-toggleable__label {background-color: #d4ebff;}#sk-container-id-11 div.sk-serial::before {content: \"\";position: absolute;border-left: 1px solid gray;box-sizing: border-box;top: 0;bottom: 0;left: 50%;z-index: 0;}#sk-container-id-11 div.sk-serial {display: flex;flex-direction: column;align-items: center;background-color: white;padding-right: 0.2em;padding-left: 0.2em;position: relative;}#sk-container-id-11 div.sk-item {position: relative;z-index: 1;}#sk-container-id-11 div.sk-parallel {display: flex;align-items: stretch;justify-content: center;background-color: white;position: relative;}#sk-container-id-11 div.sk-item::before, #sk-container-id-11 div.sk-parallel-item::before {content: \"\";position: absolute;border-left: 1px solid gray;box-sizing: border-box;top: 0;bottom: 0;left: 50%;z-index: -1;}#sk-container-id-11 div.sk-parallel-item {display: flex;flex-direction: column;z-index: 1;position: relative;background-color: white;}#sk-container-id-11 div.sk-parallel-item:first-child::after {align-self: flex-end;width: 50%;}#sk-container-id-11 div.sk-parallel-item:last-child::after {align-self: flex-start;width: 50%;}#sk-container-id-11 div.sk-parallel-item:only-child::after {width: 0;}#sk-container-id-11 div.sk-dashed-wrapped {border: 1px dashed gray;margin: 0 0.4em 0.5em 0.4em;box-sizing: border-box;padding-bottom: 0.4em;background-color: white;}#sk-container-id-11 div.sk-label label {font-family: monospace;font-weight: bold;display: inline-block;line-height: 1.2em;}#sk-container-id-11 div.sk-label-container {text-align: center;}#sk-container-id-11 div.sk-container {/* jupyter's `normalize.less` sets `[hidden] { display: none; }` but bootstrap.min.css set `[hidden] { display: none !important; }` so we also need the `!important` here to be able to override the default hidden behavior on the sphinx rendered scikit-learn.org. See: https://github.com/scikit-learn/scikit-learn/issues/21755 */display: inline-block !important;position: relative;}#sk-container-id-11 div.sk-text-repr-fallback {display: none;}</style><div id=\"sk-container-id-11\" class=\"sk-top-container\"><div class=\"sk-text-repr-fallback\"><pre>LinearSVC()</pre><b>In a Jupyter environment, please rerun this cell to show the HTML representation or trust the notebook. <br />On GitHub, the HTML representation is unable to render, please try loading this page with nbviewer.org.</b></div><div class=\"sk-container\" hidden><div class=\"sk-item\"><div class=\"sk-estimator sk-toggleable\"><input class=\"sk-toggleable__control sk-hidden--visually\" id=\"sk-estimator-id-11\" type=\"checkbox\" checked><label for=\"sk-estimator-id-11\" class=\"sk-toggleable__label sk-toggleable__label-arrow\">LinearSVC</label><div class=\"sk-toggleable__content\"><pre>LinearSVC()</pre></div></div></div></div></div>"
      ],
      "text/plain": [
       "LinearSVC()"
      ]
     },
     "execution_count": 167,
     "metadata": {},
     "output_type": "execute_result"
    }
   ],
   "source": [
    "# LinearSVC Classifier across training data\n",
    "\n",
    "from sklearn.svm import LinearSVC\n",
    "\n",
    "svc = LinearSVC()\n",
    "svc.fit(training_X, training_y)"
   ]
  },
  {
   "cell_type": "code",
   "execution_count": 168,
   "id": "5b1448e5",
   "metadata": {},
   "outputs": [
    {
     "name": "stdout",
     "output_type": "stream",
     "text": [
      "[0.7350157728706624, 0.4676656151419558, 0.5879337539432177]\n",
      "GaussianNB()\n",
      "0.7350157728706624\n"
     ]
    }
   ],
   "source": [
    "# Accuracy check from each classifier\n",
    "\n",
    "from sklearn.metrics import accuracy_score\n",
    "\n",
    "classifiers = [naive_bayes, sgd, svc]\n",
    "scores = [accuracy_score(clf.predict(training_X), training_y) for clf in classifiers] \n",
    "index = np.argmax(scores)\n",
    "\n",
    "print(scores)\n",
    "print(classifiers[index])\n",
    "print(scores[index])"
   ]
  },
  {
   "cell_type": "markdown",
   "id": "2e18bd82",
   "metadata": {},
   "source": [
    "__Most accurate classifier identified as GaussianNB()__"
   ]
  },
  {
   "cell_type": "code",
   "execution_count": 169,
   "id": "a236305a",
   "metadata": {},
   "outputs": [
    {
     "name": "stdout",
     "output_type": "stream",
     "text": [
      "[('x1', 'x10', 'x12'), ('x1', 'x10', 'x15'), ('x1', 'x10', 'x13'), ('x1', 'x12', 'x15'), ('x1', 'x12', 'x13'), ('x1', 'x15', 'x13'), ('x10', 'x12', 'x15'), ('x10', 'x12', 'x13'), ('x10', 'x15', 'x13'), ('x12', 'x15', 'x13')]\n"
     ]
    }
   ],
   "source": [
    "# Cross validate against attribute selection using NGB Classifier\n",
    "\n",
    "from sklearn.metrics import accuracy_score\n",
    "from itertools import permutations, combinations\n",
    "\n",
    "features_to_use = [\"x1\", \"x10\", \"x12\", \"x15\", \"x13\"]\n",
    "\n",
    "criterion_parameter = list(combinations(features_to_use, 3))\n",
    "print(criterion_parameter)\n",
    "\n",
    "accuracies = []\n",
    "for feature_set in criterion_parameter:\n",
    "    index_map = [features_to_use.index(feature) for feature in feature_set]\n",
    "\n",
    "\n",
    "    X_train_cv, X_valid_cv, y_train_cv, y_valid_cv = train_test_split(training_X, training_y)\n",
    "    ngb_classifier = GaussianNB()\n",
    "    ngb_classifier.fit(X_train_cv, y_train_cv)\n",
    "    y_hat_cv = ngb_classifier.predict(X_valid_cv)\n",
    "    accuracies.append(accuracy_score(y_valid_cv, y_hat_cv))"
   ]
  },
  {
   "cell_type": "code",
   "execution_count": 170,
   "id": "f221b594",
   "metadata": {},
   "outputs": [
    {
     "name": "stdout",
     "output_type": "stream",
     "text": [
      "[0.7097791798107256, 0.7318611987381703, 0.7413249211356467, 0.7255520504731862, 0.7413249211356467, 0.7066246056782335, 0.7208201892744479, 0.7318611987381703, 0.7255520504731862, 0.7318611987381703]\n",
      "('x1', 'x10', 'x13')\n"
     ]
    }
   ],
   "source": [
    "# Best features against training data\n",
    "\n",
    "print(accuracies)\n",
    "best_features = criterion_parameter[np.argmax(accuracies)]\n",
    "print(best_features)\n",
    "\n",
    "index_map = [features_to_use.index(feature) for feature in best_features]"
   ]
  },
  {
   "cell_type": "code",
   "execution_count": 171,
   "id": "e4fb5f68",
   "metadata": {},
   "outputs": [
    {
     "name": "stdout",
     "output_type": "stream",
     "text": [
      "NGB accuracy (train set): 73.15\n"
     ]
    }
   ],
   "source": [
    "# Evaluating accuracy across the training data\n",
    "\n",
    "ngb_classifier.score(training_X, training_y)\n",
    "acc = round(ngb_classifier.score(training_X, training_y) * 100, 2)\n",
    "print(\"NGB accuracy (train set):\", acc)"
   ]
  },
  {
   "cell_type": "code",
   "execution_count": 172,
   "id": "b6e0d54e",
   "metadata": {},
   "outputs": [
    {
     "name": "stdout",
     "output_type": "stream",
     "text": [
      "Random Forest accuracy (train set): 72.13\n"
     ]
    }
   ],
   "source": [
    "# Evaluating accuracy across the validation data\n",
    "\n",
    "ngb_classifier.score(validation_X, validation_y)\n",
    "acc = round(ngb_classifier.score(validation_X, validation_y) * 100, 2)\n",
    "print(\"NGB accuracy (validation set):\", acc)"
   ]
  },
  {
   "cell_type": "markdown",
   "id": "1f7a97ae",
   "metadata": {},
   "source": [
    "Weeding down features to user from initial top five (feature selection) has resulted in __x10, x15 and x13__."
   ]
  },
  {
   "cell_type": "code",
   "execution_count": 173,
   "id": "8defec98",
   "metadata": {},
   "outputs": [],
   "source": [
    "# Secondary predictions using attributes ranked 6 - 10 \n",
    "\n",
    "predictors = [\"x16\", \"x11\", \"x21\", \"x23\", \"x22\"]\n",
    "target = \"target\""
   ]
  },
  {
   "cell_type": "code",
   "execution_count": 174,
   "id": "942319a4",
   "metadata": {},
   "outputs": [],
   "source": [
    "# Associating X / y \n",
    "\n",
    "training_X = training[predictors]\n",
    "training_y = training[target].values\n",
    "validation_X = validation[predictors]\n",
    "validation_y = validation[target].values"
   ]
  },
  {
   "cell_type": "code",
   "execution_count": 175,
   "id": "148ececd",
   "metadata": {},
   "outputs": [
    {
     "data": {
      "text/html": [
       "<style>#sk-container-id-12 {color: black;background-color: white;}#sk-container-id-12 pre{padding: 0;}#sk-container-id-12 div.sk-toggleable {background-color: white;}#sk-container-id-12 label.sk-toggleable__label {cursor: pointer;display: block;width: 100%;margin-bottom: 0;padding: 0.3em;box-sizing: border-box;text-align: center;}#sk-container-id-12 label.sk-toggleable__label-arrow:before {content: \"▸\";float: left;margin-right: 0.25em;color: #696969;}#sk-container-id-12 label.sk-toggleable__label-arrow:hover:before {color: black;}#sk-container-id-12 div.sk-estimator:hover label.sk-toggleable__label-arrow:before {color: black;}#sk-container-id-12 div.sk-toggleable__content {max-height: 0;max-width: 0;overflow: hidden;text-align: left;background-color: #f0f8ff;}#sk-container-id-12 div.sk-toggleable__content pre {margin: 0.2em;color: black;border-radius: 0.25em;background-color: #f0f8ff;}#sk-container-id-12 input.sk-toggleable__control:checked~div.sk-toggleable__content {max-height: 200px;max-width: 100%;overflow: auto;}#sk-container-id-12 input.sk-toggleable__control:checked~label.sk-toggleable__label-arrow:before {content: \"▾\";}#sk-container-id-12 div.sk-estimator input.sk-toggleable__control:checked~label.sk-toggleable__label {background-color: #d4ebff;}#sk-container-id-12 div.sk-label input.sk-toggleable__control:checked~label.sk-toggleable__label {background-color: #d4ebff;}#sk-container-id-12 input.sk-hidden--visually {border: 0;clip: rect(1px 1px 1px 1px);clip: rect(1px, 1px, 1px, 1px);height: 1px;margin: -1px;overflow: hidden;padding: 0;position: absolute;width: 1px;}#sk-container-id-12 div.sk-estimator {font-family: monospace;background-color: #f0f8ff;border: 1px dotted black;border-radius: 0.25em;box-sizing: border-box;margin-bottom: 0.5em;}#sk-container-id-12 div.sk-estimator:hover {background-color: #d4ebff;}#sk-container-id-12 div.sk-parallel-item::after {content: \"\";width: 100%;border-bottom: 1px solid gray;flex-grow: 1;}#sk-container-id-12 div.sk-label:hover label.sk-toggleable__label {background-color: #d4ebff;}#sk-container-id-12 div.sk-serial::before {content: \"\";position: absolute;border-left: 1px solid gray;box-sizing: border-box;top: 0;bottom: 0;left: 50%;z-index: 0;}#sk-container-id-12 div.sk-serial {display: flex;flex-direction: column;align-items: center;background-color: white;padding-right: 0.2em;padding-left: 0.2em;position: relative;}#sk-container-id-12 div.sk-item {position: relative;z-index: 1;}#sk-container-id-12 div.sk-parallel {display: flex;align-items: stretch;justify-content: center;background-color: white;position: relative;}#sk-container-id-12 div.sk-item::before, #sk-container-id-12 div.sk-parallel-item::before {content: \"\";position: absolute;border-left: 1px solid gray;box-sizing: border-box;top: 0;bottom: 0;left: 50%;z-index: -1;}#sk-container-id-12 div.sk-parallel-item {display: flex;flex-direction: column;z-index: 1;position: relative;background-color: white;}#sk-container-id-12 div.sk-parallel-item:first-child::after {align-self: flex-end;width: 50%;}#sk-container-id-12 div.sk-parallel-item:last-child::after {align-self: flex-start;width: 50%;}#sk-container-id-12 div.sk-parallel-item:only-child::after {width: 0;}#sk-container-id-12 div.sk-dashed-wrapped {border: 1px dashed gray;margin: 0 0.4em 0.5em 0.4em;box-sizing: border-box;padding-bottom: 0.4em;background-color: white;}#sk-container-id-12 div.sk-label label {font-family: monospace;font-weight: bold;display: inline-block;line-height: 1.2em;}#sk-container-id-12 div.sk-label-container {text-align: center;}#sk-container-id-12 div.sk-container {/* jupyter's `normalize.less` sets `[hidden] { display: none; }` but bootstrap.min.css set `[hidden] { display: none !important; }` so we also need the `!important` here to be able to override the default hidden behavior on the sphinx rendered scikit-learn.org. See: https://github.com/scikit-learn/scikit-learn/issues/21755 */display: inline-block !important;position: relative;}#sk-container-id-12 div.sk-text-repr-fallback {display: none;}</style><div id=\"sk-container-id-12\" class=\"sk-top-container\"><div class=\"sk-text-repr-fallback\"><pre>GaussianNB()</pre><b>In a Jupyter environment, please rerun this cell to show the HTML representation or trust the notebook. <br />On GitHub, the HTML representation is unable to render, please try loading this page with nbviewer.org.</b></div><div class=\"sk-container\" hidden><div class=\"sk-item\"><div class=\"sk-estimator sk-toggleable\"><input class=\"sk-toggleable__control sk-hidden--visually\" id=\"sk-estimator-id-12\" type=\"checkbox\" checked><label for=\"sk-estimator-id-12\" class=\"sk-toggleable__label sk-toggleable__label-arrow\">GaussianNB</label><div class=\"sk-toggleable__content\"><pre>GaussianNB()</pre></div></div></div></div></div>"
      ],
      "text/plain": [
       "GaussianNB()"
      ]
     },
     "execution_count": 175,
     "metadata": {},
     "output_type": "execute_result"
    }
   ],
   "source": [
    "# NaiveBayes classifier across training data\n",
    "\n",
    "naive_bayes.fit(training_X, training_y)"
   ]
  },
  {
   "cell_type": "code",
   "execution_count": 176,
   "id": "c03caba3",
   "metadata": {},
   "outputs": [
    {
     "name": "stdout",
     "output_type": "stream",
     "text": [
      "[('x16', 'x11'), ('x16', 'x21'), ('x16', 'x23'), ('x16', 'x22'), ('x11', 'x21'), ('x11', 'x23'), ('x11', 'x22'), ('x21', 'x23'), ('x21', 'x22'), ('x23', 'x22')]\n"
     ]
    }
   ],
   "source": [
    "# Cross validate against attribute selection using NGB Classifier - Reduced to two features for consistent five against test\n",
    "\n",
    "features_to_use = [\"x16\", \"x11\", \"x21\", \"x23\", \"x22\"]\n",
    "\n",
    "criterion_parameter = list(combinations(features_to_use, 2))\n",
    "print(criterion_parameter)\n",
    "\n",
    "accuracies = []\n",
    "for feature_set in criterion_parameter:\n",
    "    index_map = [features_to_use.index(feature) for feature in feature_set]\n",
    "\n",
    "\n",
    "    X_train_cv, X_valid_cv, y_train_cv, y_valid_cv = train_test_split(training_X, training_y)\n",
    "    ngb_classifier = GaussianNB()\n",
    "    ngb_classifier.fit(X_train_cv, y_train_cv)\n",
    "    y_hat_cv = ngb_classifier.predict(X_valid_cv)\n",
    "    accuracies.append(accuracy_score(y_valid_cv, y_hat_cv))"
   ]
  },
  {
   "cell_type": "code",
   "execution_count": 177,
   "id": "b1f9cbdc",
   "metadata": {
    "scrolled": true
   },
   "outputs": [
    {
     "name": "stdout",
     "output_type": "stream",
     "text": [
      "[0.5583596214511041, 0.5741324921135647, 0.5914826498422713, 0.6340694006309149, 0.6041009463722398, 0.5914826498422713, 0.5946372239747634, 0.6640378548895899, 0.5946372239747634, 0.5867507886435331]\n",
      "('x21', 'x23')\n"
     ]
    }
   ],
   "source": [
    "# Best features against training data\n",
    "\n",
    "print(accuracies)\n",
    "best_features = criterion_parameter[np.argmax(accuracies)]\n",
    "print(best_features)\n",
    "\n",
    "index_map = [features_to_use.index(feature) for feature in best_features]"
   ]
  },
  {
   "cell_type": "code",
   "execution_count": 178,
   "id": "9419e57b",
   "metadata": {},
   "outputs": [
    {
     "name": "stdout",
     "output_type": "stream",
     "text": [
      "NGB accuracy (train set): 59.86\n"
     ]
    }
   ],
   "source": [
    "# Evaluating accuracy across the training data\n",
    "\n",
    "ngb_classifier.score(training_X, training_y)\n",
    "acc = round(ngb_classifier.score(training_X, training_y) * 100, 2)\n",
    "print(\"NGB accuracy (train set):\", acc)"
   ]
  },
  {
   "cell_type": "code",
   "execution_count": 179,
   "id": "81bdad2b",
   "metadata": {},
   "outputs": [
    {
     "name": "stdout",
     "output_type": "stream",
     "text": [
      "Random Forest accuracy (train set): 61.42\n"
     ]
    }
   ],
   "source": [
    "# Evaluating accuracy across the validation data\n",
    "\n",
    "ngb_classifier.score(validation_X, validation_y)\n",
    "acc = round(ngb_classifier.score(validation_X, validation_y) * 100, 2)\n",
    "print(\"Random Forest accuracy (train set):\", acc)"
   ]
  },
  {
   "cell_type": "markdown",
   "id": "da4ef23a",
   "metadata": {},
   "source": [
    "__Features to use on test data__\n",
    "\n",
    "- x10\n",
    "- x15\n",
    "- x13\n",
    "- x16\n",
    "- x21"
   ]
  },
  {
   "cell_type": "code",
   "execution_count": 180,
   "id": "09de78cd",
   "metadata": {},
   "outputs": [
    {
     "data": {
      "text/html": [
       "<style>#sk-container-id-13 {color: black;background-color: white;}#sk-container-id-13 pre{padding: 0;}#sk-container-id-13 div.sk-toggleable {background-color: white;}#sk-container-id-13 label.sk-toggleable__label {cursor: pointer;display: block;width: 100%;margin-bottom: 0;padding: 0.3em;box-sizing: border-box;text-align: center;}#sk-container-id-13 label.sk-toggleable__label-arrow:before {content: \"▸\";float: left;margin-right: 0.25em;color: #696969;}#sk-container-id-13 label.sk-toggleable__label-arrow:hover:before {color: black;}#sk-container-id-13 div.sk-estimator:hover label.sk-toggleable__label-arrow:before {color: black;}#sk-container-id-13 div.sk-toggleable__content {max-height: 0;max-width: 0;overflow: hidden;text-align: left;background-color: #f0f8ff;}#sk-container-id-13 div.sk-toggleable__content pre {margin: 0.2em;color: black;border-radius: 0.25em;background-color: #f0f8ff;}#sk-container-id-13 input.sk-toggleable__control:checked~div.sk-toggleable__content {max-height: 200px;max-width: 100%;overflow: auto;}#sk-container-id-13 input.sk-toggleable__control:checked~label.sk-toggleable__label-arrow:before {content: \"▾\";}#sk-container-id-13 div.sk-estimator input.sk-toggleable__control:checked~label.sk-toggleable__label {background-color: #d4ebff;}#sk-container-id-13 div.sk-label input.sk-toggleable__control:checked~label.sk-toggleable__label {background-color: #d4ebff;}#sk-container-id-13 input.sk-hidden--visually {border: 0;clip: rect(1px 1px 1px 1px);clip: rect(1px, 1px, 1px, 1px);height: 1px;margin: -1px;overflow: hidden;padding: 0;position: absolute;width: 1px;}#sk-container-id-13 div.sk-estimator {font-family: monospace;background-color: #f0f8ff;border: 1px dotted black;border-radius: 0.25em;box-sizing: border-box;margin-bottom: 0.5em;}#sk-container-id-13 div.sk-estimator:hover {background-color: #d4ebff;}#sk-container-id-13 div.sk-parallel-item::after {content: \"\";width: 100%;border-bottom: 1px solid gray;flex-grow: 1;}#sk-container-id-13 div.sk-label:hover label.sk-toggleable__label {background-color: #d4ebff;}#sk-container-id-13 div.sk-serial::before {content: \"\";position: absolute;border-left: 1px solid gray;box-sizing: border-box;top: 0;bottom: 0;left: 50%;z-index: 0;}#sk-container-id-13 div.sk-serial {display: flex;flex-direction: column;align-items: center;background-color: white;padding-right: 0.2em;padding-left: 0.2em;position: relative;}#sk-container-id-13 div.sk-item {position: relative;z-index: 1;}#sk-container-id-13 div.sk-parallel {display: flex;align-items: stretch;justify-content: center;background-color: white;position: relative;}#sk-container-id-13 div.sk-item::before, #sk-container-id-13 div.sk-parallel-item::before {content: \"\";position: absolute;border-left: 1px solid gray;box-sizing: border-box;top: 0;bottom: 0;left: 50%;z-index: -1;}#sk-container-id-13 div.sk-parallel-item {display: flex;flex-direction: column;z-index: 1;position: relative;background-color: white;}#sk-container-id-13 div.sk-parallel-item:first-child::after {align-self: flex-end;width: 50%;}#sk-container-id-13 div.sk-parallel-item:last-child::after {align-self: flex-start;width: 50%;}#sk-container-id-13 div.sk-parallel-item:only-child::after {width: 0;}#sk-container-id-13 div.sk-dashed-wrapped {border: 1px dashed gray;margin: 0 0.4em 0.5em 0.4em;box-sizing: border-box;padding-bottom: 0.4em;background-color: white;}#sk-container-id-13 div.sk-label label {font-family: monospace;font-weight: bold;display: inline-block;line-height: 1.2em;}#sk-container-id-13 div.sk-label-container {text-align: center;}#sk-container-id-13 div.sk-container {/* jupyter's `normalize.less` sets `[hidden] { display: none; }` but bootstrap.min.css set `[hidden] { display: none !important; }` so we also need the `!important` here to be able to override the default hidden behavior on the sphinx rendered scikit-learn.org. See: https://github.com/scikit-learn/scikit-learn/issues/21755 */display: inline-block !important;position: relative;}#sk-container-id-13 div.sk-text-repr-fallback {display: none;}</style><div id=\"sk-container-id-13\" class=\"sk-top-container\"><div class=\"sk-text-repr-fallback\"><pre>GaussianNB()</pre><b>In a Jupyter environment, please rerun this cell to show the HTML representation or trust the notebook. <br />On GitHub, the HTML representation is unable to render, please try loading this page with nbviewer.org.</b></div><div class=\"sk-container\" hidden><div class=\"sk-item\"><div class=\"sk-estimator sk-toggleable\"><input class=\"sk-toggleable__control sk-hidden--visually\" id=\"sk-estimator-id-13\" type=\"checkbox\" checked><label for=\"sk-estimator-id-13\" class=\"sk-toggleable__label sk-toggleable__label-arrow\">GaussianNB</label><div class=\"sk-toggleable__content\"><pre>GaussianNB()</pre></div></div></div></div></div>"
      ],
      "text/plain": [
       "GaussianNB()"
      ]
     },
     "execution_count": 180,
     "metadata": {},
     "output_type": "execute_result"
    }
   ],
   "source": [
    "# Fitting data to decided model\n",
    "\n",
    "predictors = [\"x16\", \"x11\", \"x21\", \"x23\", \"x22\"]\n",
    "target = \"target\"\n",
    "naive_bayes.fit(training_X, training_y)"
   ]
  },
  {
   "cell_type": "code",
   "execution_count": 181,
   "id": "54cbbb32",
   "metadata": {},
   "outputs": [],
   "source": [
    "# Load and read test data\n",
    "\n",
    "test_data_path = \"C:/Users/patri/Desktop/MSc Computing Science/Data Mining/Assignment Two/Data sets/health_test.csv\"\n",
    "test_data = pd.read_csv(test_data_path)"
   ]
  },
  {
   "cell_type": "code",
   "execution_count": 182,
   "id": "75f28a69",
   "metadata": {},
   "outputs": [
    {
     "name": "stdout",
     "output_type": "stream",
     "text": [
      "(528, 25)\n"
     ]
    },
    {
     "data": {
      "text/html": [
       "<div>\n",
       "<style scoped>\n",
       "    .dataframe tbody tr th:only-of-type {\n",
       "        vertical-align: middle;\n",
       "    }\n",
       "\n",
       "    .dataframe tbody tr th {\n",
       "        vertical-align: top;\n",
       "    }\n",
       "\n",
       "    .dataframe thead th {\n",
       "        text-align: right;\n",
       "    }\n",
       "</style>\n",
       "<table border=\"1\" class=\"dataframe\">\n",
       "  <thead>\n",
       "    <tr style=\"text-align: right;\">\n",
       "      <th></th>\n",
       "      <th>id</th>\n",
       "      <th>x1</th>\n",
       "      <th>x2</th>\n",
       "      <th>x3</th>\n",
       "      <th>x4</th>\n",
       "      <th>x5</th>\n",
       "      <th>x6</th>\n",
       "      <th>x7</th>\n",
       "      <th>x8</th>\n",
       "      <th>x9</th>\n",
       "      <th>...</th>\n",
       "      <th>x15</th>\n",
       "      <th>x16</th>\n",
       "      <th>x17</th>\n",
       "      <th>x18</th>\n",
       "      <th>x19</th>\n",
       "      <th>x20</th>\n",
       "      <th>x21</th>\n",
       "      <th>x22</th>\n",
       "      <th>x23</th>\n",
       "      <th>x24</th>\n",
       "    </tr>\n",
       "  </thead>\n",
       "  <tbody>\n",
       "    <tr>\n",
       "      <th>0</th>\n",
       "      <td>PA3001</td>\n",
       "      <td>767</td>\n",
       "      <td>135</td>\n",
       "      <td>F</td>\n",
       "      <td>0.000</td>\n",
       "      <td>0.0</td>\n",
       "      <td>0.000</td>\n",
       "      <td>0.0</td>\n",
       "      <td>0.0</td>\n",
       "      <td>0.0</td>\n",
       "      <td>...</td>\n",
       "      <td>76</td>\n",
       "      <td>67</td>\n",
       "      <td>143</td>\n",
       "      <td>2</td>\n",
       "      <td>0</td>\n",
       "      <td>137</td>\n",
       "      <td>136</td>\n",
       "      <td>138</td>\n",
       "      <td>0</td>\n",
       "      <td>1</td>\n",
       "    </tr>\n",
       "    <tr>\n",
       "      <th>1</th>\n",
       "      <td>PA3002</td>\n",
       "      <td>1592</td>\n",
       "      <td>134</td>\n",
       "      <td>F</td>\n",
       "      <td>0.000</td>\n",
       "      <td>0.0</td>\n",
       "      <td>0.010</td>\n",
       "      <td>0.0</td>\n",
       "      <td>0.0</td>\n",
       "      <td>0.0</td>\n",
       "      <td>...</td>\n",
       "      <td>74</td>\n",
       "      <td>89</td>\n",
       "      <td>163</td>\n",
       "      <td>7</td>\n",
       "      <td>1</td>\n",
       "      <td>138</td>\n",
       "      <td>134</td>\n",
       "      <td>138</td>\n",
       "      <td>13</td>\n",
       "      <td>0</td>\n",
       "    </tr>\n",
       "    <tr>\n",
       "      <th>2</th>\n",
       "      <td>PA3003</td>\n",
       "      <td>1115</td>\n",
       "      <td>122</td>\n",
       "      <td>M</td>\n",
       "      <td>0.000</td>\n",
       "      <td>0.0</td>\n",
       "      <td>0.000</td>\n",
       "      <td>0.0</td>\n",
       "      <td>0.0</td>\n",
       "      <td>0.0</td>\n",
       "      <td>...</td>\n",
       "      <td>39</td>\n",
       "      <td>103</td>\n",
       "      <td>142</td>\n",
       "      <td>1</td>\n",
       "      <td>0</td>\n",
       "      <td>120</td>\n",
       "      <td>120</td>\n",
       "      <td>122</td>\n",
       "      <td>3</td>\n",
       "      <td>0</td>\n",
       "    </tr>\n",
       "    <tr>\n",
       "      <th>3</th>\n",
       "      <td>PA3004</td>\n",
       "      <td>299</td>\n",
       "      <td>148</td>\n",
       "      <td>F</td>\n",
       "      <td>0.000</td>\n",
       "      <td>NaN</td>\n",
       "      <td>0.000</td>\n",
       "      <td>0.0</td>\n",
       "      <td>0.0</td>\n",
       "      <td>0.0</td>\n",
       "      <td>...</td>\n",
       "      <td>14</td>\n",
       "      <td>139</td>\n",
       "      <td>153</td>\n",
       "      <td>1</td>\n",
       "      <td>0</td>\n",
       "      <td>150</td>\n",
       "      <td>148</td>\n",
       "      <td>150</td>\n",
       "      <td>0</td>\n",
       "      <td>1</td>\n",
       "    </tr>\n",
       "    <tr>\n",
       "      <th>4</th>\n",
       "      <td>PA3005</td>\n",
       "      <td>1194</td>\n",
       "      <td>133</td>\n",
       "      <td>M</td>\n",
       "      <td>0.003</td>\n",
       "      <td>0.0</td>\n",
       "      <td>0.005</td>\n",
       "      <td>0.0</td>\n",
       "      <td>0.0</td>\n",
       "      <td>0.0</td>\n",
       "      <td>...</td>\n",
       "      <td>58</td>\n",
       "      <td>113</td>\n",
       "      <td>171</td>\n",
       "      <td>5</td>\n",
       "      <td>1</td>\n",
       "      <td>150</td>\n",
       "      <td>147</td>\n",
       "      <td>149</td>\n",
       "      <td>5</td>\n",
       "      <td>0</td>\n",
       "    </tr>\n",
       "  </tbody>\n",
       "</table>\n",
       "<p>5 rows × 25 columns</p>\n",
       "</div>"
      ],
      "text/plain": [
       "       id    x1   x2 x3     x4   x5     x6   x7   x8   x9  ...  x15  x16  x17  \\\n",
       "0  PA3001   767  135  F  0.000  0.0  0.000  0.0  0.0  0.0  ...   76   67  143   \n",
       "1  PA3002  1592  134  F  0.000  0.0  0.010  0.0  0.0  0.0  ...   74   89  163   \n",
       "2  PA3003  1115  122  M  0.000  0.0  0.000  0.0  0.0  0.0  ...   39  103  142   \n",
       "3  PA3004   299  148  F  0.000  NaN  0.000  0.0  0.0  0.0  ...   14  139  153   \n",
       "4  PA3005  1194  133  M  0.003  0.0  0.005  0.0  0.0  0.0  ...   58  113  171   \n",
       "\n",
       "   x18 x19  x20  x21  x22  x23  x24  \n",
       "0    2   0  137  136  138    0    1  \n",
       "1    7   1  138  134  138   13    0  \n",
       "2    1   0  120  120  122    3    0  \n",
       "3    1   0  150  148  150    0    1  \n",
       "4    5   1  150  147  149    5    0  \n",
       "\n",
       "[5 rows x 25 columns]"
      ]
     },
     "execution_count": 182,
     "metadata": {},
     "output_type": "execute_result"
    }
   ],
   "source": [
    "# Sense check test data\n",
    "\n",
    "print(test_data.shape)\n",
    "test_data.head()"
   ]
  },
  {
   "cell_type": "code",
   "execution_count": 183,
   "id": "e36151a4",
   "metadata": {},
   "outputs": [],
   "source": [
    "# Encode test_data\n",
    "\n",
    "enc = ce.OrdinalEncoder(cols=['id', 'x3', 'x14'], return_df = True)\n",
    "test_data = enc.fit_transform(test_data)"
   ]
  },
  {
   "cell_type": "code",
   "execution_count": 184,
   "id": "46505b86",
   "metadata": {},
   "outputs": [
    {
     "data": {
      "text/html": [
       "<div>\n",
       "<style scoped>\n",
       "    .dataframe tbody tr th:only-of-type {\n",
       "        vertical-align: middle;\n",
       "    }\n",
       "\n",
       "    .dataframe tbody tr th {\n",
       "        vertical-align: top;\n",
       "    }\n",
       "\n",
       "    .dataframe thead th {\n",
       "        text-align: right;\n",
       "    }\n",
       "</style>\n",
       "<table border=\"1\" class=\"dataframe\">\n",
       "  <thead>\n",
       "    <tr style=\"text-align: right;\">\n",
       "      <th></th>\n",
       "      <th>Total</th>\n",
       "      <th>Percent</th>\n",
       "    </tr>\n",
       "  </thead>\n",
       "  <tbody>\n",
       "    <tr>\n",
       "      <th>x5</th>\n",
       "      <td>13</td>\n",
       "      <td>2.462121</td>\n",
       "    </tr>\n",
       "    <tr>\n",
       "      <th>x10</th>\n",
       "      <td>11</td>\n",
       "      <td>2.083333</td>\n",
       "    </tr>\n",
       "    <tr>\n",
       "      <th>x8</th>\n",
       "      <td>6</td>\n",
       "      <td>1.136364</td>\n",
       "    </tr>\n",
       "    <tr>\n",
       "      <th>id</th>\n",
       "      <td>0</td>\n",
       "      <td>0.000000</td>\n",
       "    </tr>\n",
       "    <tr>\n",
       "      <th>x14</th>\n",
       "      <td>0</td>\n",
       "      <td>0.000000</td>\n",
       "    </tr>\n",
       "    <tr>\n",
       "      <th>x23</th>\n",
       "      <td>0</td>\n",
       "      <td>0.000000</td>\n",
       "    </tr>\n",
       "    <tr>\n",
       "      <th>x22</th>\n",
       "      <td>0</td>\n",
       "      <td>0.000000</td>\n",
       "    </tr>\n",
       "    <tr>\n",
       "      <th>x21</th>\n",
       "      <td>0</td>\n",
       "      <td>0.000000</td>\n",
       "    </tr>\n",
       "    <tr>\n",
       "      <th>x20</th>\n",
       "      <td>0</td>\n",
       "      <td>0.000000</td>\n",
       "    </tr>\n",
       "    <tr>\n",
       "      <th>x19</th>\n",
       "      <td>0</td>\n",
       "      <td>0.000000</td>\n",
       "    </tr>\n",
       "    <tr>\n",
       "      <th>x18</th>\n",
       "      <td>0</td>\n",
       "      <td>0.000000</td>\n",
       "    </tr>\n",
       "    <tr>\n",
       "      <th>x17</th>\n",
       "      <td>0</td>\n",
       "      <td>0.000000</td>\n",
       "    </tr>\n",
       "    <tr>\n",
       "      <th>x16</th>\n",
       "      <td>0</td>\n",
       "      <td>0.000000</td>\n",
       "    </tr>\n",
       "    <tr>\n",
       "      <th>x15</th>\n",
       "      <td>0</td>\n",
       "      <td>0.000000</td>\n",
       "    </tr>\n",
       "    <tr>\n",
       "      <th>x12</th>\n",
       "      <td>0</td>\n",
       "      <td>0.000000</td>\n",
       "    </tr>\n",
       "    <tr>\n",
       "      <th>x13</th>\n",
       "      <td>0</td>\n",
       "      <td>0.000000</td>\n",
       "    </tr>\n",
       "    <tr>\n",
       "      <th>x1</th>\n",
       "      <td>0</td>\n",
       "      <td>0.000000</td>\n",
       "    </tr>\n",
       "    <tr>\n",
       "      <th>x11</th>\n",
       "      <td>0</td>\n",
       "      <td>0.000000</td>\n",
       "    </tr>\n",
       "    <tr>\n",
       "      <th>x9</th>\n",
       "      <td>0</td>\n",
       "      <td>0.000000</td>\n",
       "    </tr>\n",
       "    <tr>\n",
       "      <th>x7</th>\n",
       "      <td>0</td>\n",
       "      <td>0.000000</td>\n",
       "    </tr>\n",
       "    <tr>\n",
       "      <th>x6</th>\n",
       "      <td>0</td>\n",
       "      <td>0.000000</td>\n",
       "    </tr>\n",
       "    <tr>\n",
       "      <th>x4</th>\n",
       "      <td>0</td>\n",
       "      <td>0.000000</td>\n",
       "    </tr>\n",
       "    <tr>\n",
       "      <th>x3</th>\n",
       "      <td>0</td>\n",
       "      <td>0.000000</td>\n",
       "    </tr>\n",
       "    <tr>\n",
       "      <th>x2</th>\n",
       "      <td>0</td>\n",
       "      <td>0.000000</td>\n",
       "    </tr>\n",
       "    <tr>\n",
       "      <th>x24</th>\n",
       "      <td>0</td>\n",
       "      <td>0.000000</td>\n",
       "    </tr>\n",
       "  </tbody>\n",
       "</table>\n",
       "</div>"
      ],
      "text/plain": [
       "     Total   Percent\n",
       "x5      13  2.462121\n",
       "x10     11  2.083333\n",
       "x8       6  1.136364\n",
       "id       0  0.000000\n",
       "x14      0  0.000000\n",
       "x23      0  0.000000\n",
       "x22      0  0.000000\n",
       "x21      0  0.000000\n",
       "x20      0  0.000000\n",
       "x19      0  0.000000\n",
       "x18      0  0.000000\n",
       "x17      0  0.000000\n",
       "x16      0  0.000000\n",
       "x15      0  0.000000\n",
       "x12      0  0.000000\n",
       "x13      0  0.000000\n",
       "x1       0  0.000000\n",
       "x11      0  0.000000\n",
       "x9       0  0.000000\n",
       "x7       0  0.000000\n",
       "x6       0  0.000000\n",
       "x4       0  0.000000\n",
       "x3       0  0.000000\n",
       "x2       0  0.000000\n",
       "x24      0  0.000000"
      ]
     },
     "execution_count": 184,
     "metadata": {},
     "output_type": "execute_result"
    }
   ],
   "source": [
    "# Check for missing data in test data\n",
    "\n",
    "missing_data(test_data)"
   ]
  },
  {
   "cell_type": "code",
   "execution_count": 185,
   "id": "c5dd6b1a",
   "metadata": {},
   "outputs": [],
   "source": [
    "COLUMNS = [\"id\", \"x1\", \"x2\", \"x3\", \"x4\", \"x5\", \"x6\", \"x7\", \"x8\", \"x9\", \"x10\", \n",
    "           \"x11\", \"x12\", \"x13\", \"x14\", \"x15\", \"x16\", \"x17\", \"x18\", \"x19\", \"x20\", \n",
    "           \"x21\", \"x22\", \"x23\", \"x24\"]\n",
    "\n",
    "X = test_data[COLUMNS]"
   ]
  },
  {
   "cell_type": "code",
   "execution_count": 186,
   "id": "55bb21d9",
   "metadata": {},
   "outputs": [
    {
     "name": "stdout",
     "output_type": "stream",
     "text": [
      "(528, 25)\n"
     ]
    },
    {
     "data": {
      "text/html": [
       "<div>\n",
       "<style scoped>\n",
       "    .dataframe tbody tr th:only-of-type {\n",
       "        vertical-align: middle;\n",
       "    }\n",
       "\n",
       "    .dataframe tbody tr th {\n",
       "        vertical-align: top;\n",
       "    }\n",
       "\n",
       "    .dataframe thead th {\n",
       "        text-align: right;\n",
       "    }\n",
       "</style>\n",
       "<table border=\"1\" class=\"dataframe\">\n",
       "  <thead>\n",
       "    <tr style=\"text-align: right;\">\n",
       "      <th></th>\n",
       "      <th>id</th>\n",
       "      <th>x1</th>\n",
       "      <th>x2</th>\n",
       "      <th>x3</th>\n",
       "      <th>x4</th>\n",
       "      <th>x5</th>\n",
       "      <th>x6</th>\n",
       "      <th>x7</th>\n",
       "      <th>x8</th>\n",
       "      <th>x9</th>\n",
       "      <th>...</th>\n",
       "      <th>x15</th>\n",
       "      <th>x16</th>\n",
       "      <th>x17</th>\n",
       "      <th>x18</th>\n",
       "      <th>x19</th>\n",
       "      <th>x20</th>\n",
       "      <th>x21</th>\n",
       "      <th>x22</th>\n",
       "      <th>x23</th>\n",
       "      <th>x24</th>\n",
       "    </tr>\n",
       "  </thead>\n",
       "  <tbody>\n",
       "    <tr>\n",
       "      <th>0</th>\n",
       "      <td>1.0</td>\n",
       "      <td>767.0</td>\n",
       "      <td>135.0</td>\n",
       "      <td>1.0</td>\n",
       "      <td>0.000</td>\n",
       "      <td>0.000000</td>\n",
       "      <td>0.000</td>\n",
       "      <td>0.0</td>\n",
       "      <td>0.0</td>\n",
       "      <td>0.0</td>\n",
       "      <td>...</td>\n",
       "      <td>76.0</td>\n",
       "      <td>67.0</td>\n",
       "      <td>143.0</td>\n",
       "      <td>2.0</td>\n",
       "      <td>0.0</td>\n",
       "      <td>137.0</td>\n",
       "      <td>136.0</td>\n",
       "      <td>138.0</td>\n",
       "      <td>0.0</td>\n",
       "      <td>1.0</td>\n",
       "    </tr>\n",
       "    <tr>\n",
       "      <th>1</th>\n",
       "      <td>2.0</td>\n",
       "      <td>1592.0</td>\n",
       "      <td>134.0</td>\n",
       "      <td>1.0</td>\n",
       "      <td>0.000</td>\n",
       "      <td>0.000000</td>\n",
       "      <td>0.010</td>\n",
       "      <td>0.0</td>\n",
       "      <td>0.0</td>\n",
       "      <td>0.0</td>\n",
       "      <td>...</td>\n",
       "      <td>74.0</td>\n",
       "      <td>89.0</td>\n",
       "      <td>163.0</td>\n",
       "      <td>7.0</td>\n",
       "      <td>1.0</td>\n",
       "      <td>138.0</td>\n",
       "      <td>134.0</td>\n",
       "      <td>138.0</td>\n",
       "      <td>13.0</td>\n",
       "      <td>0.0</td>\n",
       "    </tr>\n",
       "    <tr>\n",
       "      <th>2</th>\n",
       "      <td>3.0</td>\n",
       "      <td>1115.0</td>\n",
       "      <td>122.0</td>\n",
       "      <td>2.0</td>\n",
       "      <td>0.000</td>\n",
       "      <td>0.000000</td>\n",
       "      <td>0.000</td>\n",
       "      <td>0.0</td>\n",
       "      <td>0.0</td>\n",
       "      <td>0.0</td>\n",
       "      <td>...</td>\n",
       "      <td>39.0</td>\n",
       "      <td>103.0</td>\n",
       "      <td>142.0</td>\n",
       "      <td>1.0</td>\n",
       "      <td>0.0</td>\n",
       "      <td>120.0</td>\n",
       "      <td>120.0</td>\n",
       "      <td>122.0</td>\n",
       "      <td>3.0</td>\n",
       "      <td>0.0</td>\n",
       "    </tr>\n",
       "    <tr>\n",
       "      <th>3</th>\n",
       "      <td>4.0</td>\n",
       "      <td>299.0</td>\n",
       "      <td>148.0</td>\n",
       "      <td>1.0</td>\n",
       "      <td>0.000</td>\n",
       "      <td>0.006779</td>\n",
       "      <td>0.000</td>\n",
       "      <td>0.0</td>\n",
       "      <td>0.0</td>\n",
       "      <td>0.0</td>\n",
       "      <td>...</td>\n",
       "      <td>14.0</td>\n",
       "      <td>139.0</td>\n",
       "      <td>153.0</td>\n",
       "      <td>1.0</td>\n",
       "      <td>0.0</td>\n",
       "      <td>150.0</td>\n",
       "      <td>148.0</td>\n",
       "      <td>150.0</td>\n",
       "      <td>0.0</td>\n",
       "      <td>1.0</td>\n",
       "    </tr>\n",
       "    <tr>\n",
       "      <th>4</th>\n",
       "      <td>5.0</td>\n",
       "      <td>1194.0</td>\n",
       "      <td>133.0</td>\n",
       "      <td>2.0</td>\n",
       "      <td>0.003</td>\n",
       "      <td>0.000000</td>\n",
       "      <td>0.005</td>\n",
       "      <td>0.0</td>\n",
       "      <td>0.0</td>\n",
       "      <td>0.0</td>\n",
       "      <td>...</td>\n",
       "      <td>58.0</td>\n",
       "      <td>113.0</td>\n",
       "      <td>171.0</td>\n",
       "      <td>5.0</td>\n",
       "      <td>1.0</td>\n",
       "      <td>150.0</td>\n",
       "      <td>147.0</td>\n",
       "      <td>149.0</td>\n",
       "      <td>5.0</td>\n",
       "      <td>0.0</td>\n",
       "    </tr>\n",
       "  </tbody>\n",
       "</table>\n",
       "<p>5 rows × 25 columns</p>\n",
       "</div>"
      ],
      "text/plain": [
       "    id      x1     x2   x3     x4        x5     x6   x7   x8   x9  ...   x15  \\\n",
       "0  1.0   767.0  135.0  1.0  0.000  0.000000  0.000  0.0  0.0  0.0  ...  76.0   \n",
       "1  2.0  1592.0  134.0  1.0  0.000  0.000000  0.010  0.0  0.0  0.0  ...  74.0   \n",
       "2  3.0  1115.0  122.0  2.0  0.000  0.000000  0.000  0.0  0.0  0.0  ...  39.0   \n",
       "3  4.0   299.0  148.0  1.0  0.000  0.006779  0.000  0.0  0.0  0.0  ...  14.0   \n",
       "4  5.0  1194.0  133.0  2.0  0.003  0.000000  0.005  0.0  0.0  0.0  ...  58.0   \n",
       "\n",
       "     x16    x17  x18  x19    x20    x21    x22   x23  x24  \n",
       "0   67.0  143.0  2.0  0.0  137.0  136.0  138.0   0.0  1.0  \n",
       "1   89.0  163.0  7.0  1.0  138.0  134.0  138.0  13.0  0.0  \n",
       "2  103.0  142.0  1.0  0.0  120.0  120.0  122.0   3.0  0.0  \n",
       "3  139.0  153.0  1.0  0.0  150.0  148.0  150.0   0.0  1.0  \n",
       "4  113.0  171.0  5.0  1.0  150.0  147.0  149.0   5.0  0.0  \n",
       "\n",
       "[5 rows x 25 columns]"
      ]
     },
     "execution_count": 186,
     "metadata": {},
     "output_type": "execute_result"
    }
   ],
   "source": [
    "# impute missing values from test data (consistent approach with training data)\n",
    "\n",
    "test_data = my_imputer.fit_transform(X)\n",
    "test_data = pd.DataFrame(test_data)\n",
    "test_data.columns = X.columns\n",
    "print(test_data.shape)\n",
    "test_data.head()"
   ]
  },
  {
   "cell_type": "code",
   "execution_count": 187,
   "id": "54b9c808",
   "metadata": {},
   "outputs": [],
   "source": [
    "# Predict for test data using the tertiary trained model\n",
    "\n",
    "testing_X = test_data[predictors]\n",
    "prediction_y = naive_bayes.predict(testing_X)"
   ]
  },
  {
   "cell_type": "code",
   "execution_count": 188,
   "id": "803a42f5",
   "metadata": {},
   "outputs": [],
   "source": [
    "# Saving the result to csv\n",
    "\n",
    "submission2 = pd.DataFrame({\"id\": test_data[\"id\"],\"target\": prediction_y})\n",
    "submission2.to_csv(\"C:/Users/patri/Desktop/MSc Computing Science/Data Mining/Assignment Two/Data sets/submission_2_naive_bayes.csv\", index=False)"
   ]
  },
  {
   "attachments": {
    "image.png": {
     "image/png": "[encoded data removed]"
    }
   },
   "cell_type": "markdown",
   "id": "eb3a19a5",
   "metadata": {},
   "source": [
    "Submission \"id\" has been encoded.  Manual copy of raw \"id\" into submission for consistency.\n",
    "\n",
    "Assessing similarity between classifier and raw / imputed & outlier data sets\n",
    "\n",
    "![image.png](attachment:image.png)\n",
    "\n"
   ]
  }
 ],
 "metadata": {
  "kernelspec": {
   "display_name": "Python 3 (ipykernel)",
   "language": "python",
   "name": "python3"
  },
  "language_info": {
   "codemirror_mode": {
    "name": "ipython",
    "version": 3
   },
   "file_extension": ".py",
   "mimetype": "text/x-python",
   "name": "python",
   "nbconvert_exporter": "python",
   "pygments_lexer": "ipython3",
   "version": "3.9.16"
  }
 },
 "nbformat": 4,
 "nbformat_minor": 5
}
