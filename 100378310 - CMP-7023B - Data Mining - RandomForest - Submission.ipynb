{
 "cells": [
  {
   "cell_type": "code",
   "execution_count": 1,
   "id": "e46dd7e2",
   "metadata": {},
   "outputs": [],
   "source": [
    "# Import relevant libraries\n",
    "\n",
    "import pandas as pd\n",
    "import numpy as np\n",
    "pd.plotting.register_matplotlib_converters()\n",
    "import matplotlib.pyplot as plt\n",
    "import seaborn as sns\n",
    "import plotly.express as px\n",
    "from sklearn import metrics\n",
    "from sklearn.model_selection import train_test_split\n",
    "from sklearn.metrics import roc_auc_score\n",
    "from sklearn.ensemble import RandomForestClassifier, AdaBoostClassifier, GradientBoostingClassifier, ExtraTreesClassifier\n",
    "from catboost import CatBoostClassifier\n",
    "from sklearn.svm import SVC\n",
    "import xgboost as xgb"
   ]
  },
  {
   "cell_type": "code",
   "execution_count": 2,
   "id": "9a018a79",
   "metadata": {},
   "outputs": [],
   "source": [
    "# Load and read data\n",
    "\n",
    "health_path = \"C:/Users/patri/Desktop/MSc Computing Science/Data Mining/Assignment Two/Data sets/health_train.csv\"\n",
    "health_data = pd.read_csv(health_path)"
   ]
  },
  {
   "cell_type": "code",
   "execution_count": 3,
   "id": "7c276d3b",
   "metadata": {},
   "outputs": [
    {
     "name": "stdout",
     "output_type": "stream",
     "text": [
      "(1584, 26)\n"
     ]
    },
    {
     "data": {
      "text/html": [
       "<div>\n",
       "<style scoped>\n",
       "    .dataframe tbody tr th:only-of-type {\n",
       "        vertical-align: middle;\n",
       "    }\n",
       "\n",
       "    .dataframe tbody tr th {\n",
       "        vertical-align: top;\n",
       "    }\n",
       "\n",
       "    .dataframe thead th {\n",
       "        text-align: right;\n",
       "    }\n",
       "</style>\n",
       "<table border=\"1\" class=\"dataframe\">\n",
       "  <thead>\n",
       "    <tr style=\"text-align: right;\">\n",
       "      <th></th>\n",
       "      <th>id</th>\n",
       "      <th>x1</th>\n",
       "      <th>x2</th>\n",
       "      <th>x3</th>\n",
       "      <th>x4</th>\n",
       "      <th>x5</th>\n",
       "      <th>x6</th>\n",
       "      <th>x7</th>\n",
       "      <th>x8</th>\n",
       "      <th>x9</th>\n",
       "      <th>...</th>\n",
       "      <th>x16</th>\n",
       "      <th>x17</th>\n",
       "      <th>x18</th>\n",
       "      <th>x19</th>\n",
       "      <th>x20</th>\n",
       "      <th>x21</th>\n",
       "      <th>x22</th>\n",
       "      <th>x23</th>\n",
       "      <th>x24</th>\n",
       "      <th>target</th>\n",
       "    </tr>\n",
       "  </thead>\n",
       "  <tbody>\n",
       "    <tr>\n",
       "      <th>0</th>\n",
       "      <td>PA1001</td>\n",
       "      <td>1406</td>\n",
       "      <td>145.0</td>\n",
       "      <td>F</td>\n",
       "      <td>0.005</td>\n",
       "      <td>0.000</td>\n",
       "      <td>0.002</td>\n",
       "      <td>0.000</td>\n",
       "      <td>0.0</td>\n",
       "      <td>0.0</td>\n",
       "      <td>...</td>\n",
       "      <td>104.0</td>\n",
       "      <td>171.0</td>\n",
       "      <td>4.0</td>\n",
       "      <td>0.0</td>\n",
       "      <td>155.0</td>\n",
       "      <td>153.0</td>\n",
       "      <td>154.0</td>\n",
       "      <td>4.0</td>\n",
       "      <td>1.0</td>\n",
       "      <td>Low risk</td>\n",
       "    </tr>\n",
       "    <tr>\n",
       "      <th>1</th>\n",
       "      <td>PA1002</td>\n",
       "      <td>258</td>\n",
       "      <td>127.0</td>\n",
       "      <td>M</td>\n",
       "      <td>0.012</td>\n",
       "      <td>0.000</td>\n",
       "      <td>0.008</td>\n",
       "      <td>0.004</td>\n",
       "      <td>0.0</td>\n",
       "      <td>0.0</td>\n",
       "      <td>...</td>\n",
       "      <td>53.0</td>\n",
       "      <td>191.0</td>\n",
       "      <td>12.0</td>\n",
       "      <td>1.0</td>\n",
       "      <td>133.0</td>\n",
       "      <td>126.0</td>\n",
       "      <td>131.0</td>\n",
       "      <td>41.0</td>\n",
       "      <td>0.0</td>\n",
       "      <td>Low risk</td>\n",
       "    </tr>\n",
       "    <tr>\n",
       "      <th>2</th>\n",
       "      <td>PA1003</td>\n",
       "      <td>479</td>\n",
       "      <td>145.0</td>\n",
       "      <td>F</td>\n",
       "      <td>0.000</td>\n",
       "      <td>0.000</td>\n",
       "      <td>0.000</td>\n",
       "      <td>0.002</td>\n",
       "      <td>0.0</td>\n",
       "      <td>0.0</td>\n",
       "      <td>...</td>\n",
       "      <td>111.0</td>\n",
       "      <td>157.0</td>\n",
       "      <td>1.0</td>\n",
       "      <td>1.0</td>\n",
       "      <td>150.0</td>\n",
       "      <td>146.0</td>\n",
       "      <td>149.0</td>\n",
       "      <td>6.0</td>\n",
       "      <td>1.0</td>\n",
       "      <td>Low risk</td>\n",
       "    </tr>\n",
       "    <tr>\n",
       "      <th>3</th>\n",
       "      <td>PA1004</td>\n",
       "      <td>906</td>\n",
       "      <td>146.0</td>\n",
       "      <td>F</td>\n",
       "      <td>0.004</td>\n",
       "      <td>0.000</td>\n",
       "      <td>0.005</td>\n",
       "      <td>0.003</td>\n",
       "      <td>0.0</td>\n",
       "      <td>0.0</td>\n",
       "      <td>...</td>\n",
       "      <td>107.0</td>\n",
       "      <td>169.0</td>\n",
       "      <td>2.0</td>\n",
       "      <td>2.0</td>\n",
       "      <td>150.0</td>\n",
       "      <td>147.0</td>\n",
       "      <td>149.0</td>\n",
       "      <td>7.0</td>\n",
       "      <td>0.0</td>\n",
       "      <td>Low risk</td>\n",
       "    </tr>\n",
       "    <tr>\n",
       "      <th>4</th>\n",
       "      <td>PA1005</td>\n",
       "      <td>1921</td>\n",
       "      <td>140.0</td>\n",
       "      <td>F</td>\n",
       "      <td>0.002</td>\n",
       "      <td>0.003</td>\n",
       "      <td>0.006</td>\n",
       "      <td>0.006</td>\n",
       "      <td>0.0</td>\n",
       "      <td>0.0</td>\n",
       "      <td>...</td>\n",
       "      <td>75.0</td>\n",
       "      <td>228.0</td>\n",
       "      <td>9.0</td>\n",
       "      <td>0.0</td>\n",
       "      <td>142.0</td>\n",
       "      <td>118.0</td>\n",
       "      <td>142.0</td>\n",
       "      <td>20.0</td>\n",
       "      <td>0.0</td>\n",
       "      <td>Low risk</td>\n",
       "    </tr>\n",
       "  </tbody>\n",
       "</table>\n",
       "<p>5 rows × 26 columns</p>\n",
       "</div>"
      ],
      "text/plain": [
       "       id    x1     x2 x3     x4     x5     x6     x7   x8   x9  ...    x16  \\\n",
       "0  PA1001  1406  145.0  F  0.005  0.000  0.002  0.000  0.0  0.0  ...  104.0   \n",
       "1  PA1002   258  127.0  M  0.012  0.000  0.008  0.004  0.0  0.0  ...   53.0   \n",
       "2  PA1003   479  145.0  F  0.000  0.000  0.000  0.002  0.0  0.0  ...  111.0   \n",
       "3  PA1004   906  146.0  F  0.004  0.000  0.005  0.003  0.0  0.0  ...  107.0   \n",
       "4  PA1005  1921  140.0  F  0.002  0.003  0.006  0.006  0.0  0.0  ...   75.0   \n",
       "\n",
       "     x17   x18  x19    x20    x21    x22   x23  x24    target  \n",
       "0  171.0   4.0  0.0  155.0  153.0  154.0   4.0  1.0  Low risk  \n",
       "1  191.0  12.0  1.0  133.0  126.0  131.0  41.0  0.0  Low risk  \n",
       "2  157.0   1.0  1.0  150.0  146.0  149.0   6.0  1.0  Low risk  \n",
       "3  169.0   2.0  2.0  150.0  147.0  149.0   7.0  0.0  Low risk  \n",
       "4  228.0   9.0  0.0  142.0  118.0  142.0  20.0  0.0  Low risk  \n",
       "\n",
       "[5 rows x 26 columns]"
      ]
     },
     "execution_count": 3,
     "metadata": {},
     "output_type": "execute_result"
    }
   ],
   "source": [
    "# Data sense checking\n",
    "\n",
    "print(health_data.shape)\n",
    "health_data.head()"
   ]
  },
  {
   "cell_type": "code",
   "execution_count": 4,
   "id": "4867caf9",
   "metadata": {},
   "outputs": [
    {
     "data": {
      "text/plain": [
       "Low risk         1235\n",
       "Moderate risk     219\n",
       "High risk         130\n",
       "Name: target, dtype: int64"
      ]
     },
     "execution_count": 4,
     "metadata": {},
     "output_type": "execute_result"
    }
   ],
   "source": [
    "health_data.target.value_counts()"
   ]
  },
  {
   "cell_type": "code",
   "execution_count": 5,
   "id": "059bbf3c",
   "metadata": {},
   "outputs": [],
   "source": [
    "# Categorical / numerical splitting of data\n",
    "\n",
    "COLUMNS = [\"id\", \"x1\", \"x2\", \"x3\", \"x4\", \"x5\", \"x6\", \"x7\", \"x8\", \"x9\", \"x10\", \n",
    "           \"x11\", \"x12\", \"x13\", \"x14\", \"x15\", \"x16\", \"x17\", \"x18\", \"x19\", \"x20\", \n",
    "           \"x21\", \"x22\", \"x23\", \"x24\"]\n",
    "\n",
    "CATEGORICAL_COLUMNS = [\"x3\", \"x14\"]\n",
    "\n",
    "NUMERICAL_COLUMNS = [\"x1\", \"x2\", \"x4\", \"x5\", \"x6\", \"x7\", \"x8\", \"x9\", \"x10\", \"x11\", \"x12\", \"x13\",\n",
    "                    \"x15\", \"x16\", \"x17\", \"x18\", \"x19\", \"x20\", \"x21\", \"x22\", \"x23\", \"x24\"]\n",
    "\n",
    "health_numeric = pd.DataFrame(health_data[NUMERICAL_COLUMNS])\n",
    "health_categoric = pd.DataFrame(health_data[CATEGORICAL_COLUMNS])"
   ]
  },
  {
   "cell_type": "code",
   "execution_count": 6,
   "id": "0f747a8d",
   "metadata": {},
   "outputs": [
    {
     "data": {
      "text/plain": [
       "'\\n# Correlation chart between variables\\n\\npx.imshow(health_data.corr(),title = \"Correlation Plot of Health Data Attributes\")\\n'"
      ]
     },
     "execution_count": 6,
     "metadata": {},
     "output_type": "execute_result"
    }
   ],
   "source": [
    "\"\"\"\n",
    "# Correlation chart between variables\n",
    "\n",
    "px.imshow(health_data.corr(),title = \"Correlation Plot of Health Data Attributes\")\n",
    "\"\"\""
   ]
  },
  {
   "cell_type": "code",
   "execution_count": 7,
   "id": "d1f82d37",
   "metadata": {
    "scrolled": true
   },
   "outputs": [
    {
     "name": "stdout",
     "output_type": "stream",
     "text": [
      "M    842\n",
      "F    742\n",
      "Name: x3, dtype: int64\n",
      "O+     410\n",
      "A+     328\n",
      "B+     307\n",
      "A-     165\n",
      "B-     154\n",
      "O-     146\n",
      "AB+     57\n",
      "AB-     17\n",
      "Name: x14, dtype: int64\n"
     ]
    }
   ],
   "source": [
    "# Categoric data sense checking\n",
    "\n",
    "print(health_categoric.x3.value_counts())\n",
    "print(health_categoric.x14.value_counts())"
   ]
  },
  {
   "cell_type": "code",
   "execution_count": 8,
   "id": "72f1ee7d",
   "metadata": {},
   "outputs": [
    {
     "name": "stdout",
     "output_type": "stream",
     "text": [
      "             x3                                 x14\n",
      "count      1584                                1584\n",
      "unique        2                                   8\n",
      "top           M                                  O+\n",
      "freq        842                                 410\n",
      "missing       0                                   0\n",
      "values   [F, M]  [O+, A+, B+, O-, A-, B-, AB-, AB+]\n"
     ]
    }
   ],
   "source": [
    "categoric_stats = health_data[CATEGORICAL_COLUMNS].describe()\n",
    "\n",
    "for column in CATEGORICAL_COLUMNS:\n",
    "    categoric_stats.loc[\"missing\", column] = health_data[column].isnull().sum()\n",
    "    categoric_stats.loc[\"values\", column] = health_data[column].unique()\n",
    "    \n",
    "print(categoric_stats)"
   ]
  },
  {
   "cell_type": "code",
   "execution_count": 9,
   "id": "a11743d8",
   "metadata": {},
   "outputs": [
    {
     "data": {
      "text/plain": [
       "'\\nplt.figure(figsize=(7,4))\\nsns.countplot(x = \\'x3\\', hue = \\'target\\', palette = \"coolwarm\", data = health_data)\\n# plt.savefig(\\'Risk spread split attribute x3\\' + \\'.jpg\\')\\n'"
      ]
     },
     "execution_count": 9,
     "metadata": {},
     "output_type": "execute_result"
    }
   ],
   "source": [
    "# Categoric visualisations - commented out to save repeated running of code\n",
    "\n",
    "\"\"\"\n",
    "plt.figure(figsize=(7,4))\n",
    "sns.countplot(x = 'x3', hue = 'target', palette = \"coolwarm\", data = health_data)\n",
    "# plt.savefig('Risk spread split attribute x3' + '.jpg')\n",
    "\"\"\""
   ]
  },
  {
   "cell_type": "code",
   "execution_count": 10,
   "id": "b319c4f7",
   "metadata": {},
   "outputs": [
    {
     "data": {
      "text/plain": [
       "'\\nplt.figure(figsize=(7,4))\\nsns.countplot(x = \\'x14\\', hue = \\'target\\', palette = \"coolwarm\", data = health_data)\\n# plt.savefig(\\'Risk spread split attribute x14\\' +  \\'.jpg\\')\\n'"
      ]
     },
     "execution_count": 10,
     "metadata": {},
     "output_type": "execute_result"
    }
   ],
   "source": [
    "# Categoric visualisations - commented out to save repeated running of code\n",
    "\n",
    "\"\"\"\n",
    "plt.figure(figsize=(7,4))\n",
    "sns.countplot(x = 'x14', hue = 'target', palette = \"coolwarm\", data = health_data)\n",
    "# plt.savefig('Risk spread split attribute x14' +  '.jpg')\n",
    "\"\"\""
   ]
  },
  {
   "cell_type": "code",
   "execution_count": 11,
   "id": "fe521797",
   "metadata": {
    "scrolled": true
   },
   "outputs": [
    {
     "name": "stdout",
     "output_type": "stream",
     "text": [
      "(1584, 22)\n",
      "                  x1           x2           x4           x5           x6  \\\n",
      "count    1584.000000  1584.000000  1584.000000  1540.000000  1584.000000   \n",
      "mean     1053.188131   133.297980     0.003169     0.009906     0.004347   \n",
      "std       615.996716    10.002632     0.003821     0.048627     0.002948   \n",
      "min         0.000000   106.000000     0.000000     0.000000     0.000000   \n",
      "25%       523.750000   126.000000     0.000000     0.000000     0.002000   \n",
      "50%      1049.500000   133.000000     0.002000     0.000000     0.004000   \n",
      "75%      1583.250000   141.000000     0.006000     0.003000     0.007000   \n",
      "max      2125.000000   160.000000     0.019000     0.477000     0.014000   \n",
      "median   1049.500000   133.000000     0.002000     0.000000     0.004000   \n",
      "missing     0.000000     0.000000     0.000000    44.000000     0.000000   \n",
      "\n",
      "                  x7           x8           x9          x10          x11  ...  \\\n",
      "count    1584.000000  1567.000000  1584.000000  1557.000000  1584.000000  ...   \n",
      "mean        0.001854     0.000003     0.000157    47.094412     1.337816  ...   \n",
      "std         0.002940     0.000050     0.000593    17.269621     0.899092  ...   \n",
      "min         0.000000     0.000000     0.000000    13.000000     0.200000  ...   \n",
      "25%         0.000000     0.000000     0.000000    32.000000     0.700000  ...   \n",
      "50%         0.000000     0.000000     0.000000    49.000000     1.200000  ...   \n",
      "75%         0.003000     0.000000     0.000000    61.000000     1.700000  ...   \n",
      "max         0.015000     0.001000     0.005000    86.000000     7.000000  ...   \n",
      "median      0.000000     0.000000     0.000000    49.000000     1.200000  ...   \n",
      "missing     0.000000    17.000000     0.000000    27.000000     0.000000  ...   \n",
      "\n",
      "                 x15          x16          x17          x18          x19  \\\n",
      "count    1584.000000  1584.000000  1584.000000  1584.000000  1584.000000   \n",
      "mean       70.409091    93.496843   163.905934     4.063763     0.324495   \n",
      "std        38.993892    29.593370    17.908749     2.950268     0.718499   \n",
      "min         3.000000    50.000000   122.000000     0.000000     0.000000   \n",
      "25%        36.000000    67.000000   152.000000     2.000000     0.000000   \n",
      "50%        68.000000    93.000000   162.000000     3.000000     0.000000   \n",
      "75%       100.000000   120.000000   174.000000     6.000000     0.000000   \n",
      "max       176.000000   158.000000   238.000000    18.000000    10.000000   \n",
      "median     68.000000    93.000000   162.000000     3.000000     0.000000   \n",
      "missing     0.000000     0.000000     0.000000     0.000000     0.000000   \n",
      "\n",
      "                 x20          x21          x22          x23          x24  \n",
      "count    1584.000000  1584.000000  1584.000000  1584.000000  1584.000000  \n",
      "mean      137.333965   134.542929   137.935606    18.448232     0.309343  \n",
      "std        16.461643    15.729735    14.622680    28.375002     0.615868  \n",
      "min        60.000000    73.000000    77.000000     0.000000    -1.000000  \n",
      "25%       128.000000   125.000000   128.000000     2.000000     0.000000  \n",
      "50%       139.000000   136.000000   139.000000     7.000000     0.000000  \n",
      "75%       148.000000   145.250000   148.000000    23.000000     1.000000  \n",
      "max       187.000000   182.000000   186.000000   269.000000     1.000000  \n",
      "median    139.000000   136.000000   139.000000     7.000000     0.000000  \n",
      "missing     0.000000     0.000000     0.000000     0.000000     0.000000  \n",
      "\n",
      "[10 rows x 22 columns]\n"
     ]
    }
   ],
   "source": [
    "# Numeric data sense checking\n",
    "\n",
    "print(health_numeric.shape)\n",
    "\n",
    "numeric_stats = health_data[NUMERICAL_COLUMNS].describe()\n",
    "for column in NUMERICAL_COLUMNS:\n",
    "    numeric_stats.loc['median',column] = health_data[column].median()\n",
    "    numeric_stats.loc['missing',column] = health_data[column].isnull().sum()\n",
    "    \n",
    "print(numeric_stats)"
   ]
  },
  {
   "cell_type": "code",
   "execution_count": 12,
   "id": "8d905a06",
   "metadata": {},
   "outputs": [],
   "source": [
    "# Splitting target attribute\n",
    "\n",
    "health_data_high = health_data.loc[(health_data.target.str.strip()=='High risk')]\n",
    "health_data_med = health_data.loc[(health_data.target.str.strip()=='Moderate risk')]\n",
    "health_data_low = health_data.loc[(health_data.target.str.strip()=='Low risk')]"
   ]
  },
  {
   "cell_type": "code",
   "execution_count": 13,
   "id": "00208ceb",
   "metadata": {},
   "outputs": [
    {
     "data": {
      "text/plain": [
       "'\\n# KDE plots\\n\\nfor column in NUMERICAL_COLUMNS:\\n    plt.figure()\\n    sns.kdeplot(data = health_data_high[column], label = \"High risk\", fill = True)\\n    sns.kdeplot(data = health_data_med[column], label = \"Moderate risk\", fill = True)\\n    sns.kdeplot(data = health_data_low[column], label = \"Low risk\", fill = True)\\n    plt.legend()\\n    plt.title(\"Distribution of \" + column)\\n    # plt.savefig(\\'Distribution of \\' + column + \\'.jpg\\')\\n'"
      ]
     },
     "execution_count": 13,
     "metadata": {},
     "output_type": "execute_result"
    }
   ],
   "source": [
    "# Numeric visualisations - commented out to save repeated running of code\n",
    "\n",
    "\"\"\"\n",
    "# KDE plots\n",
    "\n",
    "for column in NUMERICAL_COLUMNS:\n",
    "    plt.figure()\n",
    "    sns.kdeplot(data = health_data_high[column], label = \"High risk\", fill = True)\n",
    "    sns.kdeplot(data = health_data_med[column], label = \"Moderate risk\", fill = True)\n",
    "    sns.kdeplot(data = health_data_low[column], label = \"Low risk\", fill = True)\n",
    "    plt.legend()\n",
    "    plt.title(\"Distribution of \" + column)\n",
    "    # plt.savefig('Distribution of ' + column + '.jpg')\n",
    "\"\"\""
   ]
  },
  {
   "cell_type": "code",
   "execution_count": 14,
   "id": "c03b46ef",
   "metadata": {},
   "outputs": [
    {
     "data": {
      "text/plain": [
       "'\\n# Bar graphs\\n\\nfor column in NUMERICAL_COLUMNS:\\n    sns.catplot(x = \\'x3\\', y = column, hue = \"target\", kind = \"bar\", data = health_data, height=5, aspect=1.8)\\n        # plt.savefig(\\'Risk multibar of \\' + column + \\'.jpg\\')\\n'"
      ]
     },
     "execution_count": 14,
     "metadata": {},
     "output_type": "execute_result"
    }
   ],
   "source": [
    "# Numeric visualisations - commented out to save repeated running of code\n",
    "\n",
    "\"\"\"\n",
    "# Bar graphs\n",
    "\n",
    "for column in NUMERICAL_COLUMNS:\n",
    "    sns.catplot(x = 'x3', y = column, hue = \"target\", kind = \"bar\", data = health_data, height=5, aspect=1.8)\n",
    "        # plt.savefig('Risk multibar of ' + column + '.jpg')\n",
    "\"\"\""
   ]
  },
  {
   "cell_type": "code",
   "execution_count": 15,
   "id": "a74be018",
   "metadata": {},
   "outputs": [
    {
     "data": {
      "text/plain": [
       "'\\n# Violin plots\\n\\nfor column in NUMERICAL_COLUMNS:\\n    sns.catplot(x = \\'x3\\', y = column, hue = \"target\",  kind=\"violin\", data = health_data, height=5, aspect=1.8)\\n        # plt.savefig(\\'Risk violin plot of \\' + column + \\'.jpg\\')\\n'"
      ]
     },
     "execution_count": 15,
     "metadata": {},
     "output_type": "execute_result"
    }
   ],
   "source": [
    "# Numeric visualisations - commented out to save repeated running of code\n",
    "\n",
    "\"\"\"\n",
    "# Violin plots\n",
    "\n",
    "for column in NUMERICAL_COLUMNS:\n",
    "    sns.catplot(x = 'x3', y = column, hue = \"target\",  kind=\"violin\", data = health_data, height=5, aspect=1.8)\n",
    "        # plt.savefig('Risk violin plot of ' + column + '.jpg')\n",
    "\"\"\""
   ]
  },
  {
   "cell_type": "code",
   "execution_count": 16,
   "id": "b431eb07",
   "metadata": {},
   "outputs": [
    {
     "data": {
      "text/plain": [
       "'\\n# Scatter plots\\n\\nfor column in NUMERICAL_COLUMNS:\\n        sns.catplot(x = \\'x3\\', y = column, hue = \"target\", data = health_data, height=5, aspect=1.8)\\n        # plt.savefig(\\'Scatter Graph of \\' + column + \\'.jpg\\')\\n'"
      ]
     },
     "execution_count": 16,
     "metadata": {},
     "output_type": "execute_result"
    }
   ],
   "source": [
    "# Numeric visualisations - commented out to save repeated running of code\n",
    "\n",
    "\"\"\"\n",
    "# Scatter plots\n",
    "\n",
    "for column in NUMERICAL_COLUMNS:\n",
    "        sns.catplot(x = 'x3', y = column, hue = \"target\", data = health_data, height=5, aspect=1.8)\n",
    "        # plt.savefig('Scatter Graph of ' + column + '.jpg')\n",
    "\"\"\""
   ]
  },
  {
   "cell_type": "markdown",
   "id": "338383ce",
   "metadata": {},
   "source": [
    "__Encoding categoric variables__"
   ]
  },
  {
   "cell_type": "code",
   "execution_count": 17,
   "id": "a26d4d8c",
   "metadata": {},
   "outputs": [
    {
     "data": {
      "text/plain": [
       "Index(['id', 'x3', 'x14', 'target'], dtype='object')"
      ]
     },
     "execution_count": 17,
     "metadata": {},
     "output_type": "execute_result"
    }
   ],
   "source": [
    "# Confirming categoric attributes for encoding\n",
    "\n",
    "health_data.select_dtypes(include = ['object']).columns"
   ]
  },
  {
   "cell_type": "code",
   "execution_count": 18,
   "id": "9c8c358c",
   "metadata": {},
   "outputs": [],
   "source": [
    "# Encoding categoric data\n",
    "\n",
    "import category_encoders as ce\n",
    "enc = ce.OrdinalEncoder(cols=['id', 'x3', 'x14'], return_df = True)\n",
    "health_data_encoded = enc.fit_transform(health_data)"
   ]
  },
  {
   "cell_type": "code",
   "execution_count": 19,
   "id": "f39723a2",
   "metadata": {},
   "outputs": [
    {
     "name": "stdout",
     "output_type": "stream",
     "text": [
      "(1584, 26)\n"
     ]
    },
    {
     "data": {
      "text/html": [
       "<div>\n",
       "<style scoped>\n",
       "    .dataframe tbody tr th:only-of-type {\n",
       "        vertical-align: middle;\n",
       "    }\n",
       "\n",
       "    .dataframe tbody tr th {\n",
       "        vertical-align: top;\n",
       "    }\n",
       "\n",
       "    .dataframe thead th {\n",
       "        text-align: right;\n",
       "    }\n",
       "</style>\n",
       "<table border=\"1\" class=\"dataframe\">\n",
       "  <thead>\n",
       "    <tr style=\"text-align: right;\">\n",
       "      <th></th>\n",
       "      <th>id</th>\n",
       "      <th>x1</th>\n",
       "      <th>x2</th>\n",
       "      <th>x3</th>\n",
       "      <th>x4</th>\n",
       "      <th>x5</th>\n",
       "      <th>x6</th>\n",
       "      <th>x7</th>\n",
       "      <th>x8</th>\n",
       "      <th>x9</th>\n",
       "      <th>...</th>\n",
       "      <th>x16</th>\n",
       "      <th>x17</th>\n",
       "      <th>x18</th>\n",
       "      <th>x19</th>\n",
       "      <th>x20</th>\n",
       "      <th>x21</th>\n",
       "      <th>x22</th>\n",
       "      <th>x23</th>\n",
       "      <th>x24</th>\n",
       "      <th>target</th>\n",
       "    </tr>\n",
       "  </thead>\n",
       "  <tbody>\n",
       "    <tr>\n",
       "      <th>0</th>\n",
       "      <td>1</td>\n",
       "      <td>1406</td>\n",
       "      <td>145.0</td>\n",
       "      <td>1</td>\n",
       "      <td>0.005</td>\n",
       "      <td>0.000</td>\n",
       "      <td>0.002</td>\n",
       "      <td>0.000</td>\n",
       "      <td>0.0</td>\n",
       "      <td>0.0</td>\n",
       "      <td>...</td>\n",
       "      <td>104.0</td>\n",
       "      <td>171.0</td>\n",
       "      <td>4.0</td>\n",
       "      <td>0.0</td>\n",
       "      <td>155.0</td>\n",
       "      <td>153.0</td>\n",
       "      <td>154.0</td>\n",
       "      <td>4.0</td>\n",
       "      <td>1.0</td>\n",
       "      <td>Low risk</td>\n",
       "    </tr>\n",
       "    <tr>\n",
       "      <th>1</th>\n",
       "      <td>2</td>\n",
       "      <td>258</td>\n",
       "      <td>127.0</td>\n",
       "      <td>2</td>\n",
       "      <td>0.012</td>\n",
       "      <td>0.000</td>\n",
       "      <td>0.008</td>\n",
       "      <td>0.004</td>\n",
       "      <td>0.0</td>\n",
       "      <td>0.0</td>\n",
       "      <td>...</td>\n",
       "      <td>53.0</td>\n",
       "      <td>191.0</td>\n",
       "      <td>12.0</td>\n",
       "      <td>1.0</td>\n",
       "      <td>133.0</td>\n",
       "      <td>126.0</td>\n",
       "      <td>131.0</td>\n",
       "      <td>41.0</td>\n",
       "      <td>0.0</td>\n",
       "      <td>Low risk</td>\n",
       "    </tr>\n",
       "    <tr>\n",
       "      <th>2</th>\n",
       "      <td>3</td>\n",
       "      <td>479</td>\n",
       "      <td>145.0</td>\n",
       "      <td>1</td>\n",
       "      <td>0.000</td>\n",
       "      <td>0.000</td>\n",
       "      <td>0.000</td>\n",
       "      <td>0.002</td>\n",
       "      <td>0.0</td>\n",
       "      <td>0.0</td>\n",
       "      <td>...</td>\n",
       "      <td>111.0</td>\n",
       "      <td>157.0</td>\n",
       "      <td>1.0</td>\n",
       "      <td>1.0</td>\n",
       "      <td>150.0</td>\n",
       "      <td>146.0</td>\n",
       "      <td>149.0</td>\n",
       "      <td>6.0</td>\n",
       "      <td>1.0</td>\n",
       "      <td>Low risk</td>\n",
       "    </tr>\n",
       "    <tr>\n",
       "      <th>3</th>\n",
       "      <td>4</td>\n",
       "      <td>906</td>\n",
       "      <td>146.0</td>\n",
       "      <td>1</td>\n",
       "      <td>0.004</td>\n",
       "      <td>0.000</td>\n",
       "      <td>0.005</td>\n",
       "      <td>0.003</td>\n",
       "      <td>0.0</td>\n",
       "      <td>0.0</td>\n",
       "      <td>...</td>\n",
       "      <td>107.0</td>\n",
       "      <td>169.0</td>\n",
       "      <td>2.0</td>\n",
       "      <td>2.0</td>\n",
       "      <td>150.0</td>\n",
       "      <td>147.0</td>\n",
       "      <td>149.0</td>\n",
       "      <td>7.0</td>\n",
       "      <td>0.0</td>\n",
       "      <td>Low risk</td>\n",
       "    </tr>\n",
       "    <tr>\n",
       "      <th>4</th>\n",
       "      <td>5</td>\n",
       "      <td>1921</td>\n",
       "      <td>140.0</td>\n",
       "      <td>1</td>\n",
       "      <td>0.002</td>\n",
       "      <td>0.003</td>\n",
       "      <td>0.006</td>\n",
       "      <td>0.006</td>\n",
       "      <td>0.0</td>\n",
       "      <td>0.0</td>\n",
       "      <td>...</td>\n",
       "      <td>75.0</td>\n",
       "      <td>228.0</td>\n",
       "      <td>9.0</td>\n",
       "      <td>0.0</td>\n",
       "      <td>142.0</td>\n",
       "      <td>118.0</td>\n",
       "      <td>142.0</td>\n",
       "      <td>20.0</td>\n",
       "      <td>0.0</td>\n",
       "      <td>Low risk</td>\n",
       "    </tr>\n",
       "  </tbody>\n",
       "</table>\n",
       "<p>5 rows × 26 columns</p>\n",
       "</div>"
      ],
      "text/plain": [
       "   id    x1     x2  x3     x4     x5     x6     x7   x8   x9  ...    x16  \\\n",
       "0   1  1406  145.0   1  0.005  0.000  0.002  0.000  0.0  0.0  ...  104.0   \n",
       "1   2   258  127.0   2  0.012  0.000  0.008  0.004  0.0  0.0  ...   53.0   \n",
       "2   3   479  145.0   1  0.000  0.000  0.000  0.002  0.0  0.0  ...  111.0   \n",
       "3   4   906  146.0   1  0.004  0.000  0.005  0.003  0.0  0.0  ...  107.0   \n",
       "4   5  1921  140.0   1  0.002  0.003  0.006  0.006  0.0  0.0  ...   75.0   \n",
       "\n",
       "     x17   x18  x19    x20    x21    x22   x23  x24    target  \n",
       "0  171.0   4.0  0.0  155.0  153.0  154.0   4.0  1.0  Low risk  \n",
       "1  191.0  12.0  1.0  133.0  126.0  131.0  41.0  0.0  Low risk  \n",
       "2  157.0   1.0  1.0  150.0  146.0  149.0   6.0  1.0  Low risk  \n",
       "3  169.0   2.0  2.0  150.0  147.0  149.0   7.0  0.0  Low risk  \n",
       "4  228.0   9.0  0.0  142.0  118.0  142.0  20.0  0.0  Low risk  \n",
       "\n",
       "[5 rows x 26 columns]"
      ]
     },
     "execution_count": 19,
     "metadata": {},
     "output_type": "execute_result"
    }
   ],
   "source": [
    "# Sense check encoded data\n",
    "\n",
    "print(health_data_encoded.shape)\n",
    "health_data_encoded.head()"
   ]
  },
  {
   "cell_type": "markdown",
   "id": "ab63f07a",
   "metadata": {},
   "source": [
    " __Dealing with missing data__"
   ]
  },
  {
   "cell_type": "code",
   "execution_count": 20,
   "id": "21e12d30",
   "metadata": {},
   "outputs": [
    {
     "data": {
      "text/html": [
       "<div>\n",
       "<style scoped>\n",
       "    .dataframe tbody tr th:only-of-type {\n",
       "        vertical-align: middle;\n",
       "    }\n",
       "\n",
       "    .dataframe tbody tr th {\n",
       "        vertical-align: top;\n",
       "    }\n",
       "\n",
       "    .dataframe thead th {\n",
       "        text-align: right;\n",
       "    }\n",
       "</style>\n",
       "<table border=\"1\" class=\"dataframe\">\n",
       "  <thead>\n",
       "    <tr style=\"text-align: right;\">\n",
       "      <th></th>\n",
       "      <th>Total</th>\n",
       "      <th>Percent</th>\n",
       "    </tr>\n",
       "  </thead>\n",
       "  <tbody>\n",
       "    <tr>\n",
       "      <th>x5</th>\n",
       "      <td>44</td>\n",
       "      <td>2.777778</td>\n",
       "    </tr>\n",
       "    <tr>\n",
       "      <th>x10</th>\n",
       "      <td>27</td>\n",
       "      <td>1.704545</td>\n",
       "    </tr>\n",
       "    <tr>\n",
       "      <th>x8</th>\n",
       "      <td>17</td>\n",
       "      <td>1.073232</td>\n",
       "    </tr>\n",
       "    <tr>\n",
       "      <th>id</th>\n",
       "      <td>0</td>\n",
       "      <td>0.000000</td>\n",
       "    </tr>\n",
       "    <tr>\n",
       "      <th>x15</th>\n",
       "      <td>0</td>\n",
       "      <td>0.000000</td>\n",
       "    </tr>\n",
       "    <tr>\n",
       "      <th>x24</th>\n",
       "      <td>0</td>\n",
       "      <td>0.000000</td>\n",
       "    </tr>\n",
       "    <tr>\n",
       "      <th>x23</th>\n",
       "      <td>0</td>\n",
       "      <td>0.000000</td>\n",
       "    </tr>\n",
       "    <tr>\n",
       "      <th>x22</th>\n",
       "      <td>0</td>\n",
       "      <td>0.000000</td>\n",
       "    </tr>\n",
       "    <tr>\n",
       "      <th>x21</th>\n",
       "      <td>0</td>\n",
       "      <td>0.000000</td>\n",
       "    </tr>\n",
       "    <tr>\n",
       "      <th>x20</th>\n",
       "      <td>0</td>\n",
       "      <td>0.000000</td>\n",
       "    </tr>\n",
       "    <tr>\n",
       "      <th>x19</th>\n",
       "      <td>0</td>\n",
       "      <td>0.000000</td>\n",
       "    </tr>\n",
       "    <tr>\n",
       "      <th>x18</th>\n",
       "      <td>0</td>\n",
       "      <td>0.000000</td>\n",
       "    </tr>\n",
       "    <tr>\n",
       "      <th>x17</th>\n",
       "      <td>0</td>\n",
       "      <td>0.000000</td>\n",
       "    </tr>\n",
       "    <tr>\n",
       "      <th>x16</th>\n",
       "      <td>0</td>\n",
       "      <td>0.000000</td>\n",
       "    </tr>\n",
       "    <tr>\n",
       "      <th>x13</th>\n",
       "      <td>0</td>\n",
       "      <td>0.000000</td>\n",
       "    </tr>\n",
       "    <tr>\n",
       "      <th>x14</th>\n",
       "      <td>0</td>\n",
       "      <td>0.000000</td>\n",
       "    </tr>\n",
       "    <tr>\n",
       "      <th>x1</th>\n",
       "      <td>0</td>\n",
       "      <td>0.000000</td>\n",
       "    </tr>\n",
       "    <tr>\n",
       "      <th>x12</th>\n",
       "      <td>0</td>\n",
       "      <td>0.000000</td>\n",
       "    </tr>\n",
       "    <tr>\n",
       "      <th>x11</th>\n",
       "      <td>0</td>\n",
       "      <td>0.000000</td>\n",
       "    </tr>\n",
       "    <tr>\n",
       "      <th>x9</th>\n",
       "      <td>0</td>\n",
       "      <td>0.000000</td>\n",
       "    </tr>\n",
       "    <tr>\n",
       "      <th>x7</th>\n",
       "      <td>0</td>\n",
       "      <td>0.000000</td>\n",
       "    </tr>\n",
       "    <tr>\n",
       "      <th>x6</th>\n",
       "      <td>0</td>\n",
       "      <td>0.000000</td>\n",
       "    </tr>\n",
       "    <tr>\n",
       "      <th>x4</th>\n",
       "      <td>0</td>\n",
       "      <td>0.000000</td>\n",
       "    </tr>\n",
       "    <tr>\n",
       "      <th>x3</th>\n",
       "      <td>0</td>\n",
       "      <td>0.000000</td>\n",
       "    </tr>\n",
       "    <tr>\n",
       "      <th>x2</th>\n",
       "      <td>0</td>\n",
       "      <td>0.000000</td>\n",
       "    </tr>\n",
       "    <tr>\n",
       "      <th>target</th>\n",
       "      <td>0</td>\n",
       "      <td>0.000000</td>\n",
       "    </tr>\n",
       "  </tbody>\n",
       "</table>\n",
       "</div>"
      ],
      "text/plain": [
       "        Total   Percent\n",
       "x5         44  2.777778\n",
       "x10        27  1.704545\n",
       "x8         17  1.073232\n",
       "id          0  0.000000\n",
       "x15         0  0.000000\n",
       "x24         0  0.000000\n",
       "x23         0  0.000000\n",
       "x22         0  0.000000\n",
       "x21         0  0.000000\n",
       "x20         0  0.000000\n",
       "x19         0  0.000000\n",
       "x18         0  0.000000\n",
       "x17         0  0.000000\n",
       "x16         0  0.000000\n",
       "x13         0  0.000000\n",
       "x14         0  0.000000\n",
       "x1          0  0.000000\n",
       "x12         0  0.000000\n",
       "x11         0  0.000000\n",
       "x9          0  0.000000\n",
       "x7          0  0.000000\n",
       "x6          0  0.000000\n",
       "x4          0  0.000000\n",
       "x3          0  0.000000\n",
       "x2          0  0.000000\n",
       "target      0  0.000000"
      ]
     },
     "execution_count": 20,
     "metadata": {},
     "output_type": "execute_result"
    }
   ],
   "source": [
    "#Identify missing data\n",
    "\n",
    "def missing_data(data):\n",
    "    total = data.isnull().sum().sort_values(ascending = False)\n",
    "    percent = (data.isnull().sum()/data.isnull().count()*100).sort_values(ascending = False)\n",
    "    return pd.concat([total, percent], axis=1, keys=['Total', 'Percent'])\n",
    "\n",
    "missing_data(health_data_encoded)"
   ]
  },
  {
   "cell_type": "code",
   "execution_count": 21,
   "id": "cf4509c2",
   "metadata": {},
   "outputs": [],
   "source": [
    "# X/y split\n",
    "\n",
    "X = health_data_encoded[COLUMNS]\n",
    "y = health_data_encoded.target"
   ]
  },
  {
   "cell_type": "code",
   "execution_count": 22,
   "id": "bd8e471e",
   "metadata": {},
   "outputs": [
    {
     "name": "stdout",
     "output_type": "stream",
     "text": [
      "(1584, 26)\n"
     ]
    },
    {
     "data": {
      "text/html": [
       "<div>\n",
       "<style scoped>\n",
       "    .dataframe tbody tr th:only-of-type {\n",
       "        vertical-align: middle;\n",
       "    }\n",
       "\n",
       "    .dataframe tbody tr th {\n",
       "        vertical-align: top;\n",
       "    }\n",
       "\n",
       "    .dataframe thead th {\n",
       "        text-align: right;\n",
       "    }\n",
       "</style>\n",
       "<table border=\"1\" class=\"dataframe\">\n",
       "  <thead>\n",
       "    <tr style=\"text-align: right;\">\n",
       "      <th></th>\n",
       "      <th>id</th>\n",
       "      <th>x1</th>\n",
       "      <th>x2</th>\n",
       "      <th>x3</th>\n",
       "      <th>x4</th>\n",
       "      <th>x5</th>\n",
       "      <th>x6</th>\n",
       "      <th>x7</th>\n",
       "      <th>x8</th>\n",
       "      <th>x9</th>\n",
       "      <th>...</th>\n",
       "      <th>x16</th>\n",
       "      <th>x17</th>\n",
       "      <th>x18</th>\n",
       "      <th>x19</th>\n",
       "      <th>x20</th>\n",
       "      <th>x21</th>\n",
       "      <th>x22</th>\n",
       "      <th>x23</th>\n",
       "      <th>x24</th>\n",
       "      <th>target</th>\n",
       "    </tr>\n",
       "  </thead>\n",
       "  <tbody>\n",
       "    <tr>\n",
       "      <th>0</th>\n",
       "      <td>1.0</td>\n",
       "      <td>1406.0</td>\n",
       "      <td>145.0</td>\n",
       "      <td>1.0</td>\n",
       "      <td>0.005</td>\n",
       "      <td>0.000</td>\n",
       "      <td>0.002</td>\n",
       "      <td>0.000</td>\n",
       "      <td>0.0</td>\n",
       "      <td>0.0</td>\n",
       "      <td>...</td>\n",
       "      <td>104.0</td>\n",
       "      <td>171.0</td>\n",
       "      <td>4.0</td>\n",
       "      <td>0.0</td>\n",
       "      <td>155.0</td>\n",
       "      <td>153.0</td>\n",
       "      <td>154.0</td>\n",
       "      <td>4.0</td>\n",
       "      <td>1.0</td>\n",
       "      <td>Low risk</td>\n",
       "    </tr>\n",
       "    <tr>\n",
       "      <th>1</th>\n",
       "      <td>2.0</td>\n",
       "      <td>258.0</td>\n",
       "      <td>127.0</td>\n",
       "      <td>2.0</td>\n",
       "      <td>0.012</td>\n",
       "      <td>0.000</td>\n",
       "      <td>0.008</td>\n",
       "      <td>0.004</td>\n",
       "      <td>0.0</td>\n",
       "      <td>0.0</td>\n",
       "      <td>...</td>\n",
       "      <td>53.0</td>\n",
       "      <td>191.0</td>\n",
       "      <td>12.0</td>\n",
       "      <td>1.0</td>\n",
       "      <td>133.0</td>\n",
       "      <td>126.0</td>\n",
       "      <td>131.0</td>\n",
       "      <td>41.0</td>\n",
       "      <td>0.0</td>\n",
       "      <td>Low risk</td>\n",
       "    </tr>\n",
       "    <tr>\n",
       "      <th>2</th>\n",
       "      <td>3.0</td>\n",
       "      <td>479.0</td>\n",
       "      <td>145.0</td>\n",
       "      <td>1.0</td>\n",
       "      <td>0.000</td>\n",
       "      <td>0.000</td>\n",
       "      <td>0.000</td>\n",
       "      <td>0.002</td>\n",
       "      <td>0.0</td>\n",
       "      <td>0.0</td>\n",
       "      <td>...</td>\n",
       "      <td>111.0</td>\n",
       "      <td>157.0</td>\n",
       "      <td>1.0</td>\n",
       "      <td>1.0</td>\n",
       "      <td>150.0</td>\n",
       "      <td>146.0</td>\n",
       "      <td>149.0</td>\n",
       "      <td>6.0</td>\n",
       "      <td>1.0</td>\n",
       "      <td>Low risk</td>\n",
       "    </tr>\n",
       "    <tr>\n",
       "      <th>3</th>\n",
       "      <td>4.0</td>\n",
       "      <td>906.0</td>\n",
       "      <td>146.0</td>\n",
       "      <td>1.0</td>\n",
       "      <td>0.004</td>\n",
       "      <td>0.000</td>\n",
       "      <td>0.005</td>\n",
       "      <td>0.003</td>\n",
       "      <td>0.0</td>\n",
       "      <td>0.0</td>\n",
       "      <td>...</td>\n",
       "      <td>107.0</td>\n",
       "      <td>169.0</td>\n",
       "      <td>2.0</td>\n",
       "      <td>2.0</td>\n",
       "      <td>150.0</td>\n",
       "      <td>147.0</td>\n",
       "      <td>149.0</td>\n",
       "      <td>7.0</td>\n",
       "      <td>0.0</td>\n",
       "      <td>Low risk</td>\n",
       "    </tr>\n",
       "    <tr>\n",
       "      <th>4</th>\n",
       "      <td>5.0</td>\n",
       "      <td>1921.0</td>\n",
       "      <td>140.0</td>\n",
       "      <td>1.0</td>\n",
       "      <td>0.002</td>\n",
       "      <td>0.003</td>\n",
       "      <td>0.006</td>\n",
       "      <td>0.006</td>\n",
       "      <td>0.0</td>\n",
       "      <td>0.0</td>\n",
       "      <td>...</td>\n",
       "      <td>75.0</td>\n",
       "      <td>228.0</td>\n",
       "      <td>9.0</td>\n",
       "      <td>0.0</td>\n",
       "      <td>142.0</td>\n",
       "      <td>118.0</td>\n",
       "      <td>142.0</td>\n",
       "      <td>20.0</td>\n",
       "      <td>0.0</td>\n",
       "      <td>Low risk</td>\n",
       "    </tr>\n",
       "  </tbody>\n",
       "</table>\n",
       "<p>5 rows × 26 columns</p>\n",
       "</div>"
      ],
      "text/plain": [
       "    id      x1     x2   x3     x4     x5     x6     x7   x8   x9  ...    x16  \\\n",
       "0  1.0  1406.0  145.0  1.0  0.005  0.000  0.002  0.000  0.0  0.0  ...  104.0   \n",
       "1  2.0   258.0  127.0  2.0  0.012  0.000  0.008  0.004  0.0  0.0  ...   53.0   \n",
       "2  3.0   479.0  145.0  1.0  0.000  0.000  0.000  0.002  0.0  0.0  ...  111.0   \n",
       "3  4.0   906.0  146.0  1.0  0.004  0.000  0.005  0.003  0.0  0.0  ...  107.0   \n",
       "4  5.0  1921.0  140.0  1.0  0.002  0.003  0.006  0.006  0.0  0.0  ...   75.0   \n",
       "\n",
       "     x17   x18  x19    x20    x21    x22   x23  x24    target  \n",
       "0  171.0   4.0  0.0  155.0  153.0  154.0   4.0  1.0  Low risk  \n",
       "1  191.0  12.0  1.0  133.0  126.0  131.0  41.0  0.0  Low risk  \n",
       "2  157.0   1.0  1.0  150.0  146.0  149.0   6.0  1.0  Low risk  \n",
       "3  169.0   2.0  2.0  150.0  147.0  149.0   7.0  0.0  Low risk  \n",
       "4  228.0   9.0  0.0  142.0  118.0  142.0  20.0  0.0  Low risk  \n",
       "\n",
       "[5 rows x 26 columns]"
      ]
     },
     "execution_count": 22,
     "metadata": {},
     "output_type": "execute_result"
    }
   ],
   "source": [
    "# Imputation of missing data followed by concatenating back X and y into single DF\n",
    "\n",
    "from sklearn.impute import SimpleImputer\n",
    "my_imputer = SimpleImputer()\n",
    "\n",
    "health_data_imputed = my_imputer.fit_transform(X)\n",
    "health_data_imputed = pd.DataFrame(health_data_imputed)\n",
    "health_data_imputed.columns = X.columns\n",
    "health_data_imputed[\"target\"] = health_data.target\n",
    "print(health_data_imputed.shape)\n",
    "health_data_imputed.head()"
   ]
  },
  {
   "cell_type": "code",
   "execution_count": 23,
   "id": "5602506e",
   "metadata": {},
   "outputs": [
    {
     "data": {
      "text/html": [
       "<div>\n",
       "<style scoped>\n",
       "    .dataframe tbody tr th:only-of-type {\n",
       "        vertical-align: middle;\n",
       "    }\n",
       "\n",
       "    .dataframe tbody tr th {\n",
       "        vertical-align: top;\n",
       "    }\n",
       "\n",
       "    .dataframe thead th {\n",
       "        text-align: right;\n",
       "    }\n",
       "</style>\n",
       "<table border=\"1\" class=\"dataframe\">\n",
       "  <thead>\n",
       "    <tr style=\"text-align: right;\">\n",
       "      <th></th>\n",
       "      <th>Total</th>\n",
       "      <th>Percent</th>\n",
       "    </tr>\n",
       "  </thead>\n",
       "  <tbody>\n",
       "    <tr>\n",
       "      <th>id</th>\n",
       "      <td>0</td>\n",
       "      <td>0.0</td>\n",
       "    </tr>\n",
       "    <tr>\n",
       "      <th>x1</th>\n",
       "      <td>0</td>\n",
       "      <td>0.0</td>\n",
       "    </tr>\n",
       "    <tr>\n",
       "      <th>x24</th>\n",
       "      <td>0</td>\n",
       "      <td>0.0</td>\n",
       "    </tr>\n",
       "    <tr>\n",
       "      <th>x23</th>\n",
       "      <td>0</td>\n",
       "      <td>0.0</td>\n",
       "    </tr>\n",
       "    <tr>\n",
       "      <th>x22</th>\n",
       "      <td>0</td>\n",
       "      <td>0.0</td>\n",
       "    </tr>\n",
       "    <tr>\n",
       "      <th>x21</th>\n",
       "      <td>0</td>\n",
       "      <td>0.0</td>\n",
       "    </tr>\n",
       "    <tr>\n",
       "      <th>x20</th>\n",
       "      <td>0</td>\n",
       "      <td>0.0</td>\n",
       "    </tr>\n",
       "    <tr>\n",
       "      <th>x19</th>\n",
       "      <td>0</td>\n",
       "      <td>0.0</td>\n",
       "    </tr>\n",
       "    <tr>\n",
       "      <th>x18</th>\n",
       "      <td>0</td>\n",
       "      <td>0.0</td>\n",
       "    </tr>\n",
       "    <tr>\n",
       "      <th>x17</th>\n",
       "      <td>0</td>\n",
       "      <td>0.0</td>\n",
       "    </tr>\n",
       "    <tr>\n",
       "      <th>x16</th>\n",
       "      <td>0</td>\n",
       "      <td>0.0</td>\n",
       "    </tr>\n",
       "    <tr>\n",
       "      <th>x15</th>\n",
       "      <td>0</td>\n",
       "      <td>0.0</td>\n",
       "    </tr>\n",
       "    <tr>\n",
       "      <th>x14</th>\n",
       "      <td>0</td>\n",
       "      <td>0.0</td>\n",
       "    </tr>\n",
       "    <tr>\n",
       "      <th>x13</th>\n",
       "      <td>0</td>\n",
       "      <td>0.0</td>\n",
       "    </tr>\n",
       "    <tr>\n",
       "      <th>x12</th>\n",
       "      <td>0</td>\n",
       "      <td>0.0</td>\n",
       "    </tr>\n",
       "    <tr>\n",
       "      <th>x11</th>\n",
       "      <td>0</td>\n",
       "      <td>0.0</td>\n",
       "    </tr>\n",
       "    <tr>\n",
       "      <th>x10</th>\n",
       "      <td>0</td>\n",
       "      <td>0.0</td>\n",
       "    </tr>\n",
       "    <tr>\n",
       "      <th>x9</th>\n",
       "      <td>0</td>\n",
       "      <td>0.0</td>\n",
       "    </tr>\n",
       "    <tr>\n",
       "      <th>x8</th>\n",
       "      <td>0</td>\n",
       "      <td>0.0</td>\n",
       "    </tr>\n",
       "    <tr>\n",
       "      <th>x7</th>\n",
       "      <td>0</td>\n",
       "      <td>0.0</td>\n",
       "    </tr>\n",
       "    <tr>\n",
       "      <th>x6</th>\n",
       "      <td>0</td>\n",
       "      <td>0.0</td>\n",
       "    </tr>\n",
       "    <tr>\n",
       "      <th>x5</th>\n",
       "      <td>0</td>\n",
       "      <td>0.0</td>\n",
       "    </tr>\n",
       "    <tr>\n",
       "      <th>x4</th>\n",
       "      <td>0</td>\n",
       "      <td>0.0</td>\n",
       "    </tr>\n",
       "    <tr>\n",
       "      <th>x3</th>\n",
       "      <td>0</td>\n",
       "      <td>0.0</td>\n",
       "    </tr>\n",
       "    <tr>\n",
       "      <th>x2</th>\n",
       "      <td>0</td>\n",
       "      <td>0.0</td>\n",
       "    </tr>\n",
       "    <tr>\n",
       "      <th>target</th>\n",
       "      <td>0</td>\n",
       "      <td>0.0</td>\n",
       "    </tr>\n",
       "  </tbody>\n",
       "</table>\n",
       "</div>"
      ],
      "text/plain": [
       "        Total  Percent\n",
       "id          0      0.0\n",
       "x1          0      0.0\n",
       "x24         0      0.0\n",
       "x23         0      0.0\n",
       "x22         0      0.0\n",
       "x21         0      0.0\n",
       "x20         0      0.0\n",
       "x19         0      0.0\n",
       "x18         0      0.0\n",
       "x17         0      0.0\n",
       "x16         0      0.0\n",
       "x15         0      0.0\n",
       "x14         0      0.0\n",
       "x13         0      0.0\n",
       "x12         0      0.0\n",
       "x11         0      0.0\n",
       "x10         0      0.0\n",
       "x9          0      0.0\n",
       "x8          0      0.0\n",
       "x7          0      0.0\n",
       "x6          0      0.0\n",
       "x5          0      0.0\n",
       "x4          0      0.0\n",
       "x3          0      0.0\n",
       "x2          0      0.0\n",
       "target      0      0.0"
      ]
     },
     "execution_count": 23,
     "metadata": {},
     "output_type": "execute_result"
    }
   ],
   "source": [
    "# Sense check to ensure no missing data.\n",
    "\n",
    "missing_data(health_data_imputed)"
   ]
  },
  {
   "cell_type": "code",
   "execution_count": 24,
   "id": "e1d9ca1e",
   "metadata": {},
   "outputs": [],
   "source": [
    "# Saving the result to csv\n",
    "\n",
    "health_data_imputed.to_csv(\"C:/Users/patri/Desktop/MSc Computing Science/Data Mining/Assignment Two/Data sets/health_data_imputed.csv\", index=False)"
   ]
  },
  {
   "cell_type": "markdown",
   "id": "a3da4945",
   "metadata": {},
   "source": [
    "__Check & remove outliers.__\n",
    "\n"
   ]
  },
  {
   "cell_type": "code",
   "execution_count": 25,
   "id": "0b296139",
   "metadata": {},
   "outputs": [
    {
     "data": {
      "text/plain": [
       "'\\nfor column in NUMERICAL_COLUMNS:\\n    sns.catplot(x = \\'x3\\', y = column, hue = \"target\", kind = \"box\", data = health_data_imputed, height=5, aspect=1.8)\\n    # plt.savefig(\\'Box plot - risk by \\' + column + \\'.jpg\\')\\n\\n'"
      ]
     },
     "execution_count": 25,
     "metadata": {},
     "output_type": "execute_result"
    }
   ],
   "source": [
    "# Box plots to check visually for outliers.  Also relevant are the previously produced scatter plots.\n",
    "# Commented out to save repeated running of code\n",
    "\n",
    "\"\"\"\n",
    "for column in NUMERICAL_COLUMNS:\n",
    "    sns.catplot(x = 'x3', y = column, hue = \"target\", kind = \"box\", data = health_data_imputed, height=5, aspect=1.8)\n",
    "    # plt.savefig('Box plot - risk by ' + column + '.jpg')\n",
    "\n",
    "\"\"\""
   ]
  },
  {
   "cell_type": "markdown",
   "id": "4a6dc47e",
   "metadata": {},
   "source": [
    "__Considering outliers from graphic box / scatter plots.__\n",
    "\n",
    "- Scatter plot outliers = x11, x13, x17, x19, x23\n",
    "- box plot outliers     = x10, x11, x12, x13, x17, x19, x23\n",
    "\n",
    "Consistent across both are x11, x13, x17, x19, x23"
   ]
  },
  {
   "cell_type": "code",
   "execution_count": 26,
   "id": "658c33f8",
   "metadata": {},
   "outputs": [],
   "source": [
    "# New X/y\n",
    "\n",
    "outlier_features = [\"x11\", \"x13\", \"x17\", \"x19\", \"x23\"]\n",
    "\n",
    "# \"id\" removed - not a useful metric for analysis\n",
    "\n",
    "X = health_data_imputed[outlier_features]\n",
    "y = health_data_imputed.target"
   ]
  },
  {
   "cell_type": "code",
   "execution_count": 27,
   "id": "78d158ab",
   "metadata": {},
   "outputs": [
    {
     "name": "stdout",
     "output_type": "stream",
     "text": [
      "[ 0  1  0 ...  0  0 28]\n",
      "Total number of outliers identified is:  249\n"
     ]
    }
   ],
   "source": [
    "# Outlier detection - DBScan\n",
    "\n",
    "from sklearn.cluster import DBSCAN\n",
    "outlier_detection = DBSCAN(min_samples = 3, eps = 4)\n",
    "clusters = outlier_detection.fit_predict(X)\n",
    "TotalOutliers = list(clusters).count(-1)\n",
    "print (clusters)\n",
    "print(\"Total number of outliers identified is: \",TotalOutliers)"
   ]
  },
  {
   "cell_type": "markdown",
   "id": "01ecf970",
   "metadata": {},
   "source": [
    "- DBScan min_samples = 4 and eps = 3 --> 559 outliers\n",
    "- DBScan min_samples = 3 and eps = 3 --> 470 outliers\n",
    "- DBScan min_samples = 3 and eps = 4 --> 249 outliers"
   ]
  },
  {
   "cell_type": "code",
   "execution_count": 28,
   "id": "0b3d88c0",
   "metadata": {},
   "outputs": [
    {
     "name": "stdout",
     "output_type": "stream",
     "text": [
      "[ 1 -1  1 ...  1  1 -1]\n",
      "Total number of outliers identified is:  344\n"
     ]
    }
   ],
   "source": [
    "# Outlier detection - IsolationForest\n",
    "\n",
    "from sklearn.ensemble import IsolationForest\n",
    "clf = IsolationForest(max_samples = 150, random_state = 1, contamination= 'auto')\n",
    "preds = clf.fit_predict(X)\n",
    "print(preds)\n",
    "totalOutliers = 0\n",
    "for pred in preds:\n",
    "    if pred == -1:\n",
    "        totalOutliers = totalOutliers+1\n",
    "print(\"Total number of outliers identified is: \",totalOutliers)"
   ]
  },
  {
   "cell_type": "code",
   "execution_count": 29,
   "id": "c1813d85",
   "metadata": {},
   "outputs": [
    {
     "name": "stdout",
     "output_type": "stream",
     "text": [
      "Predicted outliers: \n",
      " [1 1 1 ... 1 1 1]\n",
      "Total number of outliers predicted is:  159\n"
     ]
    }
   ],
   "source": [
    "# Outlier detection - LocalOutlierFactor\n",
    "\n",
    "from sklearn.neighbors import LocalOutlierFactor\n",
    "np.random.seed(42)\n",
    "clf = LocalOutlierFactor(n_neighbors=20, contamination=0.1)\n",
    "y_pred = clf.fit_predict(X)\n",
    "\n",
    "print (\"Predicted outliers: \\n\",y_pred)\n",
    "\n",
    "#Calculate number of outliers\n",
    "outlierN = len([i for i in y_pred if i == -1])\n",
    "print (\"Total number of outliers predicted is: \",outlierN)"
   ]
  },
  {
   "cell_type": "code",
   "execution_count": 30,
   "id": "9764875b",
   "metadata": {},
   "outputs": [
    {
     "name": "stdout",
     "output_type": "stream",
     "text": [
      "[ 0  1  0 ...  0  0 28]\n",
      "Total number of outliers identified is:  249\n"
     ]
    }
   ],
   "source": [
    "# Mid point in these is DBScan with min_samples 3 and eps 4\n",
    "\n",
    "from sklearn.cluster import DBSCAN\n",
    "outlier_detection = DBSCAN(min_samples = 3, eps = 4)\n",
    "clusters = outlier_detection.fit_predict(X)\n",
    "TotalOutliers = list(clusters).count(-1)\n",
    "print (clusters)\n",
    "print(\"Total number of outliers identified is: \",TotalOutliers)"
   ]
  },
  {
   "cell_type": "code",
   "execution_count": 31,
   "id": "6052b5bf",
   "metadata": {},
   "outputs": [
    {
     "name": "stdout",
     "output_type": "stream",
     "text": [
      "(1335, 25)\n",
      "(1335,)\n"
     ]
    }
   ],
   "source": [
    "# Mask to select all rows that are not outliers (rest of data added back in to ensure outlier removal is across whole data set)\n",
    "\n",
    "\n",
    "X = health_data_imputed[COLUMNS]\n",
    "y = health_data_imputed.target\n",
    "\n",
    "mask = clusters != -1\n",
    "\n",
    "X_OL = X[mask]\n",
    "print(X_OL.shape)\n",
    "y_OL = y[mask]\n",
    "print (y_OL.shape)"
   ]
  },
  {
   "cell_type": "code",
   "execution_count": 32,
   "id": "5c40fedd",
   "metadata": {},
   "outputs": [],
   "source": [
    "health_data_imputed_OL = pd.concat([X_OL, y_OL], axis = \"columns\")\n",
    "health_data_imputed_OL.to_csv(\"C:/Users/patri/Desktop/MSc Computing Science/Data Mining/Assignment Two/Data sets/health_data_imputed_OL.csv\", index = False)"
   ]
  },
  {
   "cell_type": "code",
   "execution_count": 33,
   "id": "272b0af3",
   "metadata": {},
   "outputs": [
    {
     "name": "stdout",
     "output_type": "stream",
     "text": [
      "(1335, 26)\n"
     ]
    },
    {
     "data": {
      "text/html": [
       "<div>\n",
       "<style scoped>\n",
       "    .dataframe tbody tr th:only-of-type {\n",
       "        vertical-align: middle;\n",
       "    }\n",
       "\n",
       "    .dataframe tbody tr th {\n",
       "        vertical-align: top;\n",
       "    }\n",
       "\n",
       "    .dataframe thead th {\n",
       "        text-align: right;\n",
       "    }\n",
       "</style>\n",
       "<table border=\"1\" class=\"dataframe\">\n",
       "  <thead>\n",
       "    <tr style=\"text-align: right;\">\n",
       "      <th></th>\n",
       "      <th>id</th>\n",
       "      <th>x1</th>\n",
       "      <th>x2</th>\n",
       "      <th>x3</th>\n",
       "      <th>x4</th>\n",
       "      <th>x5</th>\n",
       "      <th>x6</th>\n",
       "      <th>x7</th>\n",
       "      <th>x8</th>\n",
       "      <th>x9</th>\n",
       "      <th>...</th>\n",
       "      <th>x16</th>\n",
       "      <th>x17</th>\n",
       "      <th>x18</th>\n",
       "      <th>x19</th>\n",
       "      <th>x20</th>\n",
       "      <th>x21</th>\n",
       "      <th>x22</th>\n",
       "      <th>x23</th>\n",
       "      <th>x24</th>\n",
       "      <th>target</th>\n",
       "    </tr>\n",
       "  </thead>\n",
       "  <tbody>\n",
       "    <tr>\n",
       "      <th>0</th>\n",
       "      <td>1.0</td>\n",
       "      <td>1406.0</td>\n",
       "      <td>145.0</td>\n",
       "      <td>1.0</td>\n",
       "      <td>0.005</td>\n",
       "      <td>0.000</td>\n",
       "      <td>0.002</td>\n",
       "      <td>0.000</td>\n",
       "      <td>0.0</td>\n",
       "      <td>0.0</td>\n",
       "      <td>...</td>\n",
       "      <td>104.0</td>\n",
       "      <td>171.0</td>\n",
       "      <td>4.0</td>\n",
       "      <td>0.0</td>\n",
       "      <td>155.0</td>\n",
       "      <td>153.0</td>\n",
       "      <td>154.0</td>\n",
       "      <td>4.0</td>\n",
       "      <td>1.0</td>\n",
       "      <td>Low risk</td>\n",
       "    </tr>\n",
       "    <tr>\n",
       "      <th>1</th>\n",
       "      <td>2.0</td>\n",
       "      <td>258.0</td>\n",
       "      <td>127.0</td>\n",
       "      <td>2.0</td>\n",
       "      <td>0.012</td>\n",
       "      <td>0.000</td>\n",
       "      <td>0.008</td>\n",
       "      <td>0.004</td>\n",
       "      <td>0.0</td>\n",
       "      <td>0.0</td>\n",
       "      <td>...</td>\n",
       "      <td>53.0</td>\n",
       "      <td>191.0</td>\n",
       "      <td>12.0</td>\n",
       "      <td>1.0</td>\n",
       "      <td>133.0</td>\n",
       "      <td>126.0</td>\n",
       "      <td>131.0</td>\n",
       "      <td>41.0</td>\n",
       "      <td>0.0</td>\n",
       "      <td>Low risk</td>\n",
       "    </tr>\n",
       "    <tr>\n",
       "      <th>2</th>\n",
       "      <td>3.0</td>\n",
       "      <td>479.0</td>\n",
       "      <td>145.0</td>\n",
       "      <td>1.0</td>\n",
       "      <td>0.000</td>\n",
       "      <td>0.000</td>\n",
       "      <td>0.000</td>\n",
       "      <td>0.002</td>\n",
       "      <td>0.0</td>\n",
       "      <td>0.0</td>\n",
       "      <td>...</td>\n",
       "      <td>111.0</td>\n",
       "      <td>157.0</td>\n",
       "      <td>1.0</td>\n",
       "      <td>1.0</td>\n",
       "      <td>150.0</td>\n",
       "      <td>146.0</td>\n",
       "      <td>149.0</td>\n",
       "      <td>6.0</td>\n",
       "      <td>1.0</td>\n",
       "      <td>Low risk</td>\n",
       "    </tr>\n",
       "    <tr>\n",
       "      <th>3</th>\n",
       "      <td>4.0</td>\n",
       "      <td>906.0</td>\n",
       "      <td>146.0</td>\n",
       "      <td>1.0</td>\n",
       "      <td>0.004</td>\n",
       "      <td>0.000</td>\n",
       "      <td>0.005</td>\n",
       "      <td>0.003</td>\n",
       "      <td>0.0</td>\n",
       "      <td>0.0</td>\n",
       "      <td>...</td>\n",
       "      <td>107.0</td>\n",
       "      <td>169.0</td>\n",
       "      <td>2.0</td>\n",
       "      <td>2.0</td>\n",
       "      <td>150.0</td>\n",
       "      <td>147.0</td>\n",
       "      <td>149.0</td>\n",
       "      <td>7.0</td>\n",
       "      <td>0.0</td>\n",
       "      <td>Low risk</td>\n",
       "    </tr>\n",
       "    <tr>\n",
       "      <th>4</th>\n",
       "      <td>5.0</td>\n",
       "      <td>1921.0</td>\n",
       "      <td>140.0</td>\n",
       "      <td>1.0</td>\n",
       "      <td>0.002</td>\n",
       "      <td>0.003</td>\n",
       "      <td>0.006</td>\n",
       "      <td>0.006</td>\n",
       "      <td>0.0</td>\n",
       "      <td>0.0</td>\n",
       "      <td>...</td>\n",
       "      <td>75.0</td>\n",
       "      <td>228.0</td>\n",
       "      <td>9.0</td>\n",
       "      <td>0.0</td>\n",
       "      <td>142.0</td>\n",
       "      <td>118.0</td>\n",
       "      <td>142.0</td>\n",
       "      <td>20.0</td>\n",
       "      <td>0.0</td>\n",
       "      <td>Low risk</td>\n",
       "    </tr>\n",
       "  </tbody>\n",
       "</table>\n",
       "<p>5 rows × 26 columns</p>\n",
       "</div>"
      ],
      "text/plain": [
       "    id      x1     x2   x3     x4     x5     x6     x7   x8   x9  ...    x16  \\\n",
       "0  1.0  1406.0  145.0  1.0  0.005  0.000  0.002  0.000  0.0  0.0  ...  104.0   \n",
       "1  2.0   258.0  127.0  2.0  0.012  0.000  0.008  0.004  0.0  0.0  ...   53.0   \n",
       "2  3.0   479.0  145.0  1.0  0.000  0.000  0.000  0.002  0.0  0.0  ...  111.0   \n",
       "3  4.0   906.0  146.0  1.0  0.004  0.000  0.005  0.003  0.0  0.0  ...  107.0   \n",
       "4  5.0  1921.0  140.0  1.0  0.002  0.003  0.006  0.006  0.0  0.0  ...   75.0   \n",
       "\n",
       "     x17   x18  x19    x20    x21    x22   x23  x24    target  \n",
       "0  171.0   4.0  0.0  155.0  153.0  154.0   4.0  1.0  Low risk  \n",
       "1  191.0  12.0  1.0  133.0  126.0  131.0  41.0  0.0  Low risk  \n",
       "2  157.0   1.0  1.0  150.0  146.0  149.0   6.0  1.0  Low risk  \n",
       "3  169.0   2.0  2.0  150.0  147.0  149.0   7.0  0.0  Low risk  \n",
       "4  228.0   9.0  0.0  142.0  118.0  142.0  20.0  0.0  Low risk  \n",
       "\n",
       "[5 rows x 26 columns]"
      ]
     },
     "execution_count": 33,
     "metadata": {},
     "output_type": "execute_result"
    }
   ],
   "source": [
    "print(health_data_imputed_OL.shape)\n",
    "health_data_imputed_OL.head()"
   ]
  },
  {
   "cell_type": "markdown",
   "id": "711628b4",
   "metadata": {},
   "source": [
    "__Balancing the data set__"
   ]
  },
  {
   "cell_type": "code",
   "execution_count": 34,
   "id": "2bef282d",
   "metadata": {},
   "outputs": [],
   "source": [
    "# Loading in data set once outliers have been removed and missing data imputed\n",
    "\n",
    "data_path = \"C:/Users/patri/Desktop/MSc Computing Science/Data Mining/Assignment Two/Data sets/health_data_imputed_OL.csv\"\n",
    "health_data_new = pd.read_csv(data_path)"
   ]
  },
  {
   "cell_type": "code",
   "execution_count": 35,
   "id": "4822541d",
   "metadata": {},
   "outputs": [
    {
     "name": "stdout",
     "output_type": "stream",
     "text": [
      "Low risk         1057\n",
      "Moderate risk     201\n",
      "High risk          77\n",
      "Name: target, dtype: int64\n"
     ]
    }
   ],
   "source": [
    "# Spread of target variable\n",
    "\n",
    "print(health_data_new.target.value_counts())"
   ]
  },
  {
   "cell_type": "code",
   "execution_count": 36,
   "id": "56fb836b",
   "metadata": {},
   "outputs": [],
   "source": [
    "# New X/y\n",
    "\n",
    "X = health_data_new[COLUMNS]\n",
    "y = health_data_new.target"
   ]
  },
  {
   "cell_type": "code",
   "execution_count": 37,
   "id": "4dc852ff",
   "metadata": {},
   "outputs": [
    {
     "data": {
      "text/plain": [
       "Low risk         1057\n",
       "Moderate risk    1057\n",
       "High risk        1057\n",
       "Name: target, dtype: int64"
      ]
     },
     "execution_count": 37,
     "metadata": {},
     "output_type": "execute_result"
    }
   ],
   "source": [
    "# Upscale the minority classes as opposed to downscale the majority classes\n",
    "\n",
    "from sklearn.utils import resample\n",
    "\n",
    "resampling = X.copy()\n",
    "resampling['target']= y.values\n",
    "\n",
    "majority_class = resampling[resampling['target'] == 'Low risk']\n",
    "minority_class_1 = resampling[resampling['target'] == 'Moderate risk']\n",
    "minority_class_2 = resampling[resampling['target'] == 'High risk']\n",
    "\n",
    "minority_1_upsampled = resample(minority_class_1,\n",
    "                               replace = True,\n",
    "                               n_samples = 1057,\n",
    "                               random_state = 123)\n",
    "\n",
    "minority_2_upsampled = resample(minority_class_2,\n",
    "                               replace = True,\n",
    "                               n_samples = 1057,\n",
    "                               random_state = 123)\n",
    "\n",
    "upsampled_1 = pd.concat([majority_class, minority_1_upsampled])\n",
    "\n",
    "upsampled_2 = pd.concat([upsampled_1, minority_2_upsampled])\n",
    "\n",
    "upsampled_2.target.value_counts()"
   ]
  },
  {
   "cell_type": "code",
   "execution_count": 38,
   "id": "b4f945fe",
   "metadata": {},
   "outputs": [
    {
     "name": "stdout",
     "output_type": "stream",
     "text": [
      "(3171, 26)\n"
     ]
    },
    {
     "data": {
      "text/html": [
       "<div>\n",
       "<style scoped>\n",
       "    .dataframe tbody tr th:only-of-type {\n",
       "        vertical-align: middle;\n",
       "    }\n",
       "\n",
       "    .dataframe tbody tr th {\n",
       "        vertical-align: top;\n",
       "    }\n",
       "\n",
       "    .dataframe thead th {\n",
       "        text-align: right;\n",
       "    }\n",
       "</style>\n",
       "<table border=\"1\" class=\"dataframe\">\n",
       "  <thead>\n",
       "    <tr style=\"text-align: right;\">\n",
       "      <th></th>\n",
       "      <th>id</th>\n",
       "      <th>x1</th>\n",
       "      <th>x2</th>\n",
       "      <th>x3</th>\n",
       "      <th>x4</th>\n",
       "      <th>x5</th>\n",
       "      <th>x6</th>\n",
       "      <th>x7</th>\n",
       "      <th>x8</th>\n",
       "      <th>x9</th>\n",
       "      <th>...</th>\n",
       "      <th>x16</th>\n",
       "      <th>x17</th>\n",
       "      <th>x18</th>\n",
       "      <th>x19</th>\n",
       "      <th>x20</th>\n",
       "      <th>x21</th>\n",
       "      <th>x22</th>\n",
       "      <th>x23</th>\n",
       "      <th>x24</th>\n",
       "      <th>target</th>\n",
       "    </tr>\n",
       "  </thead>\n",
       "  <tbody>\n",
       "    <tr>\n",
       "      <th>0</th>\n",
       "      <td>1.0</td>\n",
       "      <td>1406.0</td>\n",
       "      <td>145.0</td>\n",
       "      <td>1.0</td>\n",
       "      <td>0.005</td>\n",
       "      <td>0.000</td>\n",
       "      <td>0.002</td>\n",
       "      <td>0.000</td>\n",
       "      <td>0.0</td>\n",
       "      <td>0.0</td>\n",
       "      <td>...</td>\n",
       "      <td>104.0</td>\n",
       "      <td>171.0</td>\n",
       "      <td>4.0</td>\n",
       "      <td>0.0</td>\n",
       "      <td>155.0</td>\n",
       "      <td>153.0</td>\n",
       "      <td>154.0</td>\n",
       "      <td>4.0</td>\n",
       "      <td>1.0</td>\n",
       "      <td>Low risk</td>\n",
       "    </tr>\n",
       "    <tr>\n",
       "      <th>1</th>\n",
       "      <td>2.0</td>\n",
       "      <td>258.0</td>\n",
       "      <td>127.0</td>\n",
       "      <td>2.0</td>\n",
       "      <td>0.012</td>\n",
       "      <td>0.000</td>\n",
       "      <td>0.008</td>\n",
       "      <td>0.004</td>\n",
       "      <td>0.0</td>\n",
       "      <td>0.0</td>\n",
       "      <td>...</td>\n",
       "      <td>53.0</td>\n",
       "      <td>191.0</td>\n",
       "      <td>12.0</td>\n",
       "      <td>1.0</td>\n",
       "      <td>133.0</td>\n",
       "      <td>126.0</td>\n",
       "      <td>131.0</td>\n",
       "      <td>41.0</td>\n",
       "      <td>0.0</td>\n",
       "      <td>Low risk</td>\n",
       "    </tr>\n",
       "    <tr>\n",
       "      <th>2</th>\n",
       "      <td>3.0</td>\n",
       "      <td>479.0</td>\n",
       "      <td>145.0</td>\n",
       "      <td>1.0</td>\n",
       "      <td>0.000</td>\n",
       "      <td>0.000</td>\n",
       "      <td>0.000</td>\n",
       "      <td>0.002</td>\n",
       "      <td>0.0</td>\n",
       "      <td>0.0</td>\n",
       "      <td>...</td>\n",
       "      <td>111.0</td>\n",
       "      <td>157.0</td>\n",
       "      <td>1.0</td>\n",
       "      <td>1.0</td>\n",
       "      <td>150.0</td>\n",
       "      <td>146.0</td>\n",
       "      <td>149.0</td>\n",
       "      <td>6.0</td>\n",
       "      <td>1.0</td>\n",
       "      <td>Low risk</td>\n",
       "    </tr>\n",
       "    <tr>\n",
       "      <th>3</th>\n",
       "      <td>4.0</td>\n",
       "      <td>906.0</td>\n",
       "      <td>146.0</td>\n",
       "      <td>1.0</td>\n",
       "      <td>0.004</td>\n",
       "      <td>0.000</td>\n",
       "      <td>0.005</td>\n",
       "      <td>0.003</td>\n",
       "      <td>0.0</td>\n",
       "      <td>0.0</td>\n",
       "      <td>...</td>\n",
       "      <td>107.0</td>\n",
       "      <td>169.0</td>\n",
       "      <td>2.0</td>\n",
       "      <td>2.0</td>\n",
       "      <td>150.0</td>\n",
       "      <td>147.0</td>\n",
       "      <td>149.0</td>\n",
       "      <td>7.0</td>\n",
       "      <td>0.0</td>\n",
       "      <td>Low risk</td>\n",
       "    </tr>\n",
       "    <tr>\n",
       "      <th>4</th>\n",
       "      <td>5.0</td>\n",
       "      <td>1921.0</td>\n",
       "      <td>140.0</td>\n",
       "      <td>1.0</td>\n",
       "      <td>0.002</td>\n",
       "      <td>0.003</td>\n",
       "      <td>0.006</td>\n",
       "      <td>0.006</td>\n",
       "      <td>0.0</td>\n",
       "      <td>0.0</td>\n",
       "      <td>...</td>\n",
       "      <td>75.0</td>\n",
       "      <td>228.0</td>\n",
       "      <td>9.0</td>\n",
       "      <td>0.0</td>\n",
       "      <td>142.0</td>\n",
       "      <td>118.0</td>\n",
       "      <td>142.0</td>\n",
       "      <td>20.0</td>\n",
       "      <td>0.0</td>\n",
       "      <td>Low risk</td>\n",
       "    </tr>\n",
       "  </tbody>\n",
       "</table>\n",
       "<p>5 rows × 26 columns</p>\n",
       "</div>"
      ],
      "text/plain": [
       "    id      x1     x2   x3     x4     x5     x6     x7   x8   x9  ...    x16  \\\n",
       "0  1.0  1406.0  145.0  1.0  0.005  0.000  0.002  0.000  0.0  0.0  ...  104.0   \n",
       "1  2.0   258.0  127.0  2.0  0.012  0.000  0.008  0.004  0.0  0.0  ...   53.0   \n",
       "2  3.0   479.0  145.0  1.0  0.000  0.000  0.000  0.002  0.0  0.0  ...  111.0   \n",
       "3  4.0   906.0  146.0  1.0  0.004  0.000  0.005  0.003  0.0  0.0  ...  107.0   \n",
       "4  5.0  1921.0  140.0  1.0  0.002  0.003  0.006  0.006  0.0  0.0  ...   75.0   \n",
       "\n",
       "     x17   x18  x19    x20    x21    x22   x23  x24    target  \n",
       "0  171.0   4.0  0.0  155.0  153.0  154.0   4.0  1.0  Low risk  \n",
       "1  191.0  12.0  1.0  133.0  126.0  131.0  41.0  0.0  Low risk  \n",
       "2  157.0   1.0  1.0  150.0  146.0  149.0   6.0  1.0  Low risk  \n",
       "3  169.0   2.0  2.0  150.0  147.0  149.0   7.0  0.0  Low risk  \n",
       "4  228.0   9.0  0.0  142.0  118.0  142.0  20.0  0.0  Low risk  \n",
       "\n",
       "[5 rows x 26 columns]"
      ]
     },
     "execution_count": 38,
     "metadata": {},
     "output_type": "execute_result"
    }
   ],
   "source": [
    "print(upsampled_2.shape)\n",
    "upsampled_2.head()"
   ]
  },
  {
   "cell_type": "code",
   "execution_count": 39,
   "id": "a22b12f5",
   "metadata": {},
   "outputs": [],
   "source": [
    "health_data_working  = upsampled_2\n",
    "health_data_working.to_csv(\"C:/Users/patri/Desktop/MSc Computing Science/Data Mining/Assignment Two/Data sets/health_data_working.csv\", index = False)"
   ]
  },
  {
   "cell_type": "markdown",
   "id": "88c986d8",
   "metadata": {},
   "source": [
    "__Feature selection__"
   ]
  },
  {
   "cell_type": "code",
   "execution_count": 40,
   "id": "5e6e5f99",
   "metadata": {},
   "outputs": [
    {
     "data": {
      "text/plain": [
       "Index(['id', 'x1', 'x2', 'x3', 'x4', 'x5', 'x6', 'x7', 'x8', 'x9', 'x10',\n",
       "       'x11', 'x12', 'x13', 'x14', 'x15', 'x16', 'x17', 'x18', 'x19', 'x20',\n",
       "       'x21', 'x22', 'x23', 'x24'],\n",
       "      dtype='object')"
      ]
     },
     "execution_count": 40,
     "metadata": {},
     "output_type": "execute_result"
    }
   ],
   "source": [
    "# Feature selection - identiify all numeric columns (inc encoded categoric)\n",
    "\n",
    "feature_selection = health_data_working.select_dtypes(exclude = ['object']).copy()\n",
    "feature_select_columns = feature_selection.columns\n",
    "feature_select_columns"
   ]
  },
  {
   "cell_type": "code",
   "execution_count": 41,
   "id": "128745b2",
   "metadata": {},
   "outputs": [],
   "source": [
    "# X / y split\n",
    "\n",
    "X_fs = health_data_working[feature_select_columns]\n",
    "y_fs = health_data_working.target"
   ]
  },
  {
   "cell_type": "code",
   "execution_count": 42,
   "id": "d3266e94",
   "metadata": {},
   "outputs": [
    {
     "name": "stdout",
     "output_type": "stream",
     "text": [
      "   Attribute     Score\n",
      "1         x1  0.987058\n",
      "0         id  0.787634\n",
      "12       x12  0.498775\n",
      "10       x10  0.481912\n",
      "15       x15  0.478484\n",
      "13       x13  0.453981\n",
      "16       x16  0.437081\n",
      "11       x11  0.430124\n",
      "21       x21  0.381637\n",
      "23       x23  0.362255\n",
      "22       x22  0.354448\n",
      "20       x20  0.351428\n",
      "2         x2  0.351185\n",
      "17       x17  0.287294\n",
      "4         x4  0.227265\n",
      "14       x14  0.138264\n",
      "6         x6  0.121898\n",
      "9         x9  0.113214\n",
      "5         x5  0.111773\n",
      "3         x3  0.084751\n",
      "7         x7  0.080092\n",
      "18       x18  0.036737\n",
      "19       x19  0.036042\n",
      "24       x24  0.028712\n",
      "8         x8  0.000000\n"
     ]
    }
   ],
   "source": [
    "# feature ranking algorithm to rank attributes in X using the mutual_info_classif criterion\n",
    "\n",
    "from sklearn.feature_selection import SelectKBest, mutual_info_classif\n",
    "\n",
    "selector = SelectKBest(score_func = mutual_info_classif, k = 'all')\n",
    "\n",
    "Xfs = selector.fit_transform(X_fs, y_fs)\n",
    "\n",
    "names = X_fs.columns.values[selector.get_support()]\n",
    "scores = selector.scores_[selector.get_support()]\n",
    "\n",
    "names_scores = list(zip(names, scores))\n",
    "\n",
    "names_scores = pd.DataFrame(data = names_scores, columns=['Attribute', 'Score'])\n",
    "names_scores_sorted = names_scores.sort_values(['Score', 'Attribute'], ascending = [False, True])\n",
    "\n",
    "print(names_scores_sorted)\n",
    "\n",
    "# \"id\" can be ignored as an attribute.  It wasn't excluded from the features as it had been encoded."
   ]
  },
  {
   "cell_type": "code",
   "execution_count": 43,
   "id": "b708a531",
   "metadata": {},
   "outputs": [
    {
     "name": "stdout",
     "output_type": "stream",
     "text": [
      "The shape of the health data training sample is;\n",
      "(2536, 26)\n",
      "The shape of the health data validation sample is;\n",
      "(635, 26)\n"
     ]
    }
   ],
   "source": [
    "#Training and validation data split (80% / 20%)\n",
    "\n",
    "VALIDATION_SIZE = 0.2\n",
    "RANDOM_STATE = 2018\n",
    "\n",
    "training, validation = train_test_split(health_data_working, \n",
    "                                        test_size = VALIDATION_SIZE, \n",
    "                                        random_state = RANDOM_STATE, \n",
    "                                        shuffle = True )\n",
    "\n",
    "print(f\"The shape of the health data training sample is;\\n{training.shape}\")\n",
    "print(f\"The shape of the health data validation sample is;\\n{validation.shape}\")"
   ]
  },
  {
   "cell_type": "markdown",
   "id": "c4656ad1",
   "metadata": {},
   "source": [
    "At this stage we have;\n",
    "\n",
    "1) Data loaded, sense schecked and initial visualisations produced.\n",
    "2) Categoric attributes have been encoded.\n",
    "3) Missing data has been removed.\n",
    "4) Outliers have been identified and rows relating removed\n",
    "5) __No work has been done on feature construction__. \n",
    "6) Feature selection algorithm has been run - The mutual information score measures the dependence between two variables,\n",
    "   (in this case each attribute and the target variable).\n",
    "   The score ranges from 0 (no dependence) to 1 (perfect dependence).\n",
    "7) Train and validation data sets have been produced.\n",
    "\n",
    "Relevant data sets are;\n",
    "\n",
    "1) __health_data__.  This is the initial raw data set.\n",
    "2) __health_data_encoded__.  This is the data after categoric attributes were encoded.\n",
    "3) __health_data_imputed__.  This is the data after imputation of missing data.\n",
    "4) __health_data_working__.  This is the data set after outliers and balancing operations\n",
    "4) __training__.  80% of the original data set, encoded and with rows removed where missing data existed.  __This is the training data set__.\n",
    "5) __validation__.  20% of the original data set, encoded and with rows removed where missing data existed.  __This is the validation data set__."
   ]
  },
  {
   "cell_type": "markdown",
   "id": "e9cb3af1",
   "metadata": {},
   "source": [
    "__CLASSIFIER -- Random Forest__"
   ]
  },
  {
   "cell_type": "code",
   "execution_count": 44,
   "id": "b7f8c0b7",
   "metadata": {},
   "outputs": [],
   "source": [
    "# Random forest initialisation and parameter setting\n",
    "\n",
    "RFC_METRIC = 'gini'   #metric used for RandomForrestClassifier\n",
    "NUM_ESTIMATORS = 100  #number of estimators used for RandomForrestClassifier\n",
    "NO_JOBS = 4           #number of parallel jobs used for RandomForrestClassifier"
   ]
  },
  {
   "cell_type": "code",
   "execution_count": 45,
   "id": "c1929e82",
   "metadata": {},
   "outputs": [],
   "source": [
    "# Initial predictions using attributes ranked 1 - 5 (\"id\" excluded) \n",
    "\n",
    "predictors = [\"x1\", \"x10\", \"x12\", \"x15\", \"x13\"]\n",
    "target = \"target\""
   ]
  },
  {
   "cell_type": "code",
   "execution_count": 46,
   "id": "f39b2766",
   "metadata": {},
   "outputs": [],
   "source": [
    "# Associating X / y \n",
    "\n",
    "training_X = training[predictors]\n",
    "training_y = training[target].values\n",
    "validation_X = validation[predictors]\n",
    "validation_y = validation[target].values"
   ]
  },
  {
   "cell_type": "code",
   "execution_count": 47,
   "id": "a5475e67",
   "metadata": {},
   "outputs": [],
   "source": [
    "# Creating the classifier\n",
    "\n",
    "clf = RandomForestClassifier(n_jobs = NO_JOBS, \n",
    "                             random_state = RANDOM_STATE,\n",
    "                             criterion = RFC_METRIC,\n",
    "                             n_estimators = NUM_ESTIMATORS,\n",
    "                             verbose = False)"
   ]
  },
  {
   "cell_type": "code",
   "execution_count": 48,
   "id": "2b196db0",
   "metadata": {},
   "outputs": [
    {
     "data": {
      "text/html": [
       "<style>#sk-container-id-1 {color: black;background-color: white;}#sk-container-id-1 pre{padding: 0;}#sk-container-id-1 div.sk-toggleable {background-color: white;}#sk-container-id-1 label.sk-toggleable__label {cursor: pointer;display: block;width: 100%;margin-bottom: 0;padding: 0.3em;box-sizing: border-box;text-align: center;}#sk-container-id-1 label.sk-toggleable__label-arrow:before {content: \"▸\";float: left;margin-right: 0.25em;color: #696969;}#sk-container-id-1 label.sk-toggleable__label-arrow:hover:before {color: black;}#sk-container-id-1 div.sk-estimator:hover label.sk-toggleable__label-arrow:before {color: black;}#sk-container-id-1 div.sk-toggleable__content {max-height: 0;max-width: 0;overflow: hidden;text-align: left;background-color: #f0f8ff;}#sk-container-id-1 div.sk-toggleable__content pre {margin: 0.2em;color: black;border-radius: 0.25em;background-color: #f0f8ff;}#sk-container-id-1 input.sk-toggleable__control:checked~div.sk-toggleable__content {max-height: 200px;max-width: 100%;overflow: auto;}#sk-container-id-1 input.sk-toggleable__control:checked~label.sk-toggleable__label-arrow:before {content: \"▾\";}#sk-container-id-1 div.sk-estimator input.sk-toggleable__control:checked~label.sk-toggleable__label {background-color: #d4ebff;}#sk-container-id-1 div.sk-label input.sk-toggleable__control:checked~label.sk-toggleable__label {background-color: #d4ebff;}#sk-container-id-1 input.sk-hidden--visually {border: 0;clip: rect(1px 1px 1px 1px);clip: rect(1px, 1px, 1px, 1px);height: 1px;margin: -1px;overflow: hidden;padding: 0;position: absolute;width: 1px;}#sk-container-id-1 div.sk-estimator {font-family: monospace;background-color: #f0f8ff;border: 1px dotted black;border-radius: 0.25em;box-sizing: border-box;margin-bottom: 0.5em;}#sk-container-id-1 div.sk-estimator:hover {background-color: #d4ebff;}#sk-container-id-1 div.sk-parallel-item::after {content: \"\";width: 100%;border-bottom: 1px solid gray;flex-grow: 1;}#sk-container-id-1 div.sk-label:hover label.sk-toggleable__label {background-color: #d4ebff;}#sk-container-id-1 div.sk-serial::before {content: \"\";position: absolute;border-left: 1px solid gray;box-sizing: border-box;top: 0;bottom: 0;left: 50%;z-index: 0;}#sk-container-id-1 div.sk-serial {display: flex;flex-direction: column;align-items: center;background-color: white;padding-right: 0.2em;padding-left: 0.2em;position: relative;}#sk-container-id-1 div.sk-item {position: relative;z-index: 1;}#sk-container-id-1 div.sk-parallel {display: flex;align-items: stretch;justify-content: center;background-color: white;position: relative;}#sk-container-id-1 div.sk-item::before, #sk-container-id-1 div.sk-parallel-item::before {content: \"\";position: absolute;border-left: 1px solid gray;box-sizing: border-box;top: 0;bottom: 0;left: 50%;z-index: -1;}#sk-container-id-1 div.sk-parallel-item {display: flex;flex-direction: column;z-index: 1;position: relative;background-color: white;}#sk-container-id-1 div.sk-parallel-item:first-child::after {align-self: flex-end;width: 50%;}#sk-container-id-1 div.sk-parallel-item:last-child::after {align-self: flex-start;width: 50%;}#sk-container-id-1 div.sk-parallel-item:only-child::after {width: 0;}#sk-container-id-1 div.sk-dashed-wrapped {border: 1px dashed gray;margin: 0 0.4em 0.5em 0.4em;box-sizing: border-box;padding-bottom: 0.4em;background-color: white;}#sk-container-id-1 div.sk-label label {font-family: monospace;font-weight: bold;display: inline-block;line-height: 1.2em;}#sk-container-id-1 div.sk-label-container {text-align: center;}#sk-container-id-1 div.sk-container {/* jupyter's `normalize.less` sets `[hidden] { display: none; }` but bootstrap.min.css set `[hidden] { display: none !important; }` so we also need the `!important` here to be able to override the default hidden behavior on the sphinx rendered scikit-learn.org. See: https://github.com/scikit-learn/scikit-learn/issues/21755 */display: inline-block !important;position: relative;}#sk-container-id-1 div.sk-text-repr-fallback {display: none;}</style><div id=\"sk-container-id-1\" class=\"sk-top-container\"><div class=\"sk-text-repr-fallback\"><pre>RandomForestClassifier(n_jobs=4, random_state=2018, verbose=False)</pre><b>In a Jupyter environment, please rerun this cell to show the HTML representation or trust the notebook. <br />On GitHub, the HTML representation is unable to render, please try loading this page with nbviewer.org.</b></div><div class=\"sk-container\" hidden><div class=\"sk-item\"><div class=\"sk-estimator sk-toggleable\"><input class=\"sk-toggleable__control sk-hidden--visually\" id=\"sk-estimator-id-1\" type=\"checkbox\" checked><label for=\"sk-estimator-id-1\" class=\"sk-toggleable__label sk-toggleable__label-arrow\">RandomForestClassifier</label><div class=\"sk-toggleable__content\"><pre>RandomForestClassifier(n_jobs=4, random_state=2018, verbose=False)</pre></div></div></div></div></div>"
      ],
      "text/plain": [
       "RandomForestClassifier(n_jobs=4, random_state=2018, verbose=False)"
      ]
     },
     "execution_count": 48,
     "metadata": {},
     "output_type": "execute_result"
    }
   ],
   "source": [
    "clf.fit(training_X, training_y)"
   ]
  },
  {
   "cell_type": "code",
   "execution_count": 49,
   "id": "892a15d1",
   "metadata": {},
   "outputs": [],
   "source": [
    "# Predict the validation set\n",
    "\n",
    "pred = clf.predict(validation_X)"
   ]
  },
  {
   "cell_type": "code",
   "execution_count": 50,
   "id": "b4b6bcc9",
   "metadata": {},
   "outputs": [
    {
     "data": {
      "image/png": "[encoded data removed]",
      "text/plain": [
       "<Figure size 700x400 with 1 Axes>"
      ]
     },
     "metadata": {},
     "output_type": "display_data"
    }
   ],
   "source": [
    "# Plotting features of importance.  \n",
    "\n",
    "def plot_feature_importance():\n",
    "    tmp = pd.DataFrame({'Feature': predictors, 'Feature importance': clf.feature_importances_})\n",
    "    tmp = tmp.sort_values(by='Feature importance', ascending = False)\n",
    "    plt.figure(figsize = (7,4))\n",
    "    plt.title('Features importance', fontsize = 14)\n",
    "    s = sns.barplot(x ='Feature', y = 'Feature importance', data = tmp)\n",
    "    s.set_xticklabels(s.get_xticklabels(), rotation = 90)\n",
    "    plt.show()  \n",
    "\n",
    "plot_feature_importance()"
   ]
  },
  {
   "cell_type": "code",
   "execution_count": 51,
   "id": "3dd064d0",
   "metadata": {},
   "outputs": [
    {
     "name": "stdout",
     "output_type": "stream",
     "text": [
      "Random Forest accuracy (train set): 100.0\n"
     ]
    }
   ],
   "source": [
    "# Evaluating accuracy across the training data\n",
    "\n",
    "clf.score(training_X, training_y)\n",
    "acc = round(clf.score(training_X, training_y) * 100, 2)\n",
    "print(\"Random Forest accuracy (train set):\", acc)"
   ]
  },
  {
   "cell_type": "code",
   "execution_count": 52,
   "id": "a190dbe3",
   "metadata": {},
   "outputs": [
    {
     "name": "stdout",
     "output_type": "stream",
     "text": [
      "Random Forest accuracy (validation set): 98.74\n"
     ]
    }
   ],
   "source": [
    "# Evaluating accuracy across the validation data\n",
    "\n",
    "clf.score(validation_X, validation_y)\n",
    "acc = round(clf.score(validation_X, validation_y) * 100, 2)\n",
    "print(\"Random Forest accuracy (validation set):\", acc)"
   ]
  },
  {
   "cell_type": "code",
   "execution_count": 53,
   "id": "08ffcbf1",
   "metadata": {
    "scrolled": true
   },
   "outputs": [
    {
     "name": "stdout",
     "output_type": "stream",
     "text": [
      "               precision    recall  f1-score   support\n",
      "\n",
      "     Low risk       1.00      1.00      1.00       211\n",
      "Moderate risk       1.00      0.96      0.98       217\n",
      "    High risk       0.96      1.00      0.98       207\n",
      "\n",
      "     accuracy                           0.99       635\n",
      "    macro avg       0.99      0.99      0.99       635\n",
      " weighted avg       0.99      0.99      0.99       635\n",
      "\n"
     ]
    }
   ],
   "source": [
    "print(metrics.classification_report(validation_y, pred, target_names=['Low risk', 'Moderate risk', 'High risk']))"
   ]
  },
  {
   "cell_type": "code",
   "execution_count": 54,
   "id": "45b8312a",
   "metadata": {},
   "outputs": [],
   "source": [
    "# Secondary predictions using attributes ranked 6 - 10\n",
    "\n",
    "predictors = [\"x11\", \"x16\", \"x21\", \"x20\", \"x23\"]\n",
    "target = \"target\""
   ]
  },
  {
   "cell_type": "code",
   "execution_count": 55,
   "id": "19b7739d",
   "metadata": {},
   "outputs": [],
   "source": [
    "# Associating X / y \n",
    "\n",
    "training_X = training[predictors]\n",
    "training_y = training[target].values\n",
    "validation_X = validation[predictors]\n",
    "validation_y = validation[target].values"
   ]
  },
  {
   "cell_type": "code",
   "execution_count": 56,
   "id": "18c95ebc",
   "metadata": {},
   "outputs": [],
   "source": [
    "# Creating the classifier\n",
    "\n",
    "clf = RandomForestClassifier(n_jobs = NO_JOBS, \n",
    "                             random_state = RANDOM_STATE,\n",
    "                             criterion = RFC_METRIC,\n",
    "                             n_estimators = NUM_ESTIMATORS,\n",
    "                             verbose = False)"
   ]
  },
  {
   "cell_type": "code",
   "execution_count": 57,
   "id": "cd7f7ccf",
   "metadata": {},
   "outputs": [
    {
     "data": {
      "text/html": [
       "<style>#sk-container-id-2 {color: black;background-color: white;}#sk-container-id-2 pre{padding: 0;}#sk-container-id-2 div.sk-toggleable {background-color: white;}#sk-container-id-2 label.sk-toggleable__label {cursor: pointer;display: block;width: 100%;margin-bottom: 0;padding: 0.3em;box-sizing: border-box;text-align: center;}#sk-container-id-2 label.sk-toggleable__label-arrow:before {content: \"▸\";float: left;margin-right: 0.25em;color: #696969;}#sk-container-id-2 label.sk-toggleable__label-arrow:hover:before {color: black;}#sk-container-id-2 div.sk-estimator:hover label.sk-toggleable__label-arrow:before {color: black;}#sk-container-id-2 div.sk-toggleable__content {max-height: 0;max-width: 0;overflow: hidden;text-align: left;background-color: #f0f8ff;}#sk-container-id-2 div.sk-toggleable__content pre {margin: 0.2em;color: black;border-radius: 0.25em;background-color: #f0f8ff;}#sk-container-id-2 input.sk-toggleable__control:checked~div.sk-toggleable__content {max-height: 200px;max-width: 100%;overflow: auto;}#sk-container-id-2 input.sk-toggleable__control:checked~label.sk-toggleable__label-arrow:before {content: \"▾\";}#sk-container-id-2 div.sk-estimator input.sk-toggleable__control:checked~label.sk-toggleable__label {background-color: #d4ebff;}#sk-container-id-2 div.sk-label input.sk-toggleable__control:checked~label.sk-toggleable__label {background-color: #d4ebff;}#sk-container-id-2 input.sk-hidden--visually {border: 0;clip: rect(1px 1px 1px 1px);clip: rect(1px, 1px, 1px, 1px);height: 1px;margin: -1px;overflow: hidden;padding: 0;position: absolute;width: 1px;}#sk-container-id-2 div.sk-estimator {font-family: monospace;background-color: #f0f8ff;border: 1px dotted black;border-radius: 0.25em;box-sizing: border-box;margin-bottom: 0.5em;}#sk-container-id-2 div.sk-estimator:hover {background-color: #d4ebff;}#sk-container-id-2 div.sk-parallel-item::after {content: \"\";width: 100%;border-bottom: 1px solid gray;flex-grow: 1;}#sk-container-id-2 div.sk-label:hover label.sk-toggleable__label {background-color: #d4ebff;}#sk-container-id-2 div.sk-serial::before {content: \"\";position: absolute;border-left: 1px solid gray;box-sizing: border-box;top: 0;bottom: 0;left: 50%;z-index: 0;}#sk-container-id-2 div.sk-serial {display: flex;flex-direction: column;align-items: center;background-color: white;padding-right: 0.2em;padding-left: 0.2em;position: relative;}#sk-container-id-2 div.sk-item {position: relative;z-index: 1;}#sk-container-id-2 div.sk-parallel {display: flex;align-items: stretch;justify-content: center;background-color: white;position: relative;}#sk-container-id-2 div.sk-item::before, #sk-container-id-2 div.sk-parallel-item::before {content: \"\";position: absolute;border-left: 1px solid gray;box-sizing: border-box;top: 0;bottom: 0;left: 50%;z-index: -1;}#sk-container-id-2 div.sk-parallel-item {display: flex;flex-direction: column;z-index: 1;position: relative;background-color: white;}#sk-container-id-2 div.sk-parallel-item:first-child::after {align-self: flex-end;width: 50%;}#sk-container-id-2 div.sk-parallel-item:last-child::after {align-self: flex-start;width: 50%;}#sk-container-id-2 div.sk-parallel-item:only-child::after {width: 0;}#sk-container-id-2 div.sk-dashed-wrapped {border: 1px dashed gray;margin: 0 0.4em 0.5em 0.4em;box-sizing: border-box;padding-bottom: 0.4em;background-color: white;}#sk-container-id-2 div.sk-label label {font-family: monospace;font-weight: bold;display: inline-block;line-height: 1.2em;}#sk-container-id-2 div.sk-label-container {text-align: center;}#sk-container-id-2 div.sk-container {/* jupyter's `normalize.less` sets `[hidden] { display: none; }` but bootstrap.min.css set `[hidden] { display: none !important; }` so we also need the `!important` here to be able to override the default hidden behavior on the sphinx rendered scikit-learn.org. See: https://github.com/scikit-learn/scikit-learn/issues/21755 */display: inline-block !important;position: relative;}#sk-container-id-2 div.sk-text-repr-fallback {display: none;}</style><div id=\"sk-container-id-2\" class=\"sk-top-container\"><div class=\"sk-text-repr-fallback\"><pre>RandomForestClassifier(n_jobs=4, random_state=2018, verbose=False)</pre><b>In a Jupyter environment, please rerun this cell to show the HTML representation or trust the notebook. <br />On GitHub, the HTML representation is unable to render, please try loading this page with nbviewer.org.</b></div><div class=\"sk-container\" hidden><div class=\"sk-item\"><div class=\"sk-estimator sk-toggleable\"><input class=\"sk-toggleable__control sk-hidden--visually\" id=\"sk-estimator-id-2\" type=\"checkbox\" checked><label for=\"sk-estimator-id-2\" class=\"sk-toggleable__label sk-toggleable__label-arrow\">RandomForestClassifier</label><div class=\"sk-toggleable__content\"><pre>RandomForestClassifier(n_jobs=4, random_state=2018, verbose=False)</pre></div></div></div></div></div>"
      ],
      "text/plain": [
       "RandomForestClassifier(n_jobs=4, random_state=2018, verbose=False)"
      ]
     },
     "execution_count": 57,
     "metadata": {},
     "output_type": "execute_result"
    }
   ],
   "source": [
    "# Fitting the classifier with the training data (predictors)\n",
    "\n",
    "clf.fit(training_X, training_y)"
   ]
  },
  {
   "cell_type": "code",
   "execution_count": 58,
   "id": "ca5a191a",
   "metadata": {},
   "outputs": [],
   "source": [
    "# Predict the validation set\n",
    "\n",
    "pred = clf.predict(validation_X)"
   ]
  },
  {
   "cell_type": "code",
   "execution_count": 59,
   "id": "f93286d2",
   "metadata": {},
   "outputs": [
    {
     "data": {
      "image/png": "[encoded data removed]",
      "text/plain": [
       "<Figure size 700x400 with 1 Axes>"
      ]
     },
     "metadata": {},
     "output_type": "display_data"
    }
   ],
   "source": [
    "# Plotting features of importance.  \n",
    "\n",
    "def plot_feature_importance():\n",
    "    tmp = pd.DataFrame({'Feature': predictors, 'Feature importance': clf.feature_importances_})\n",
    "    tmp = tmp.sort_values(by='Feature importance', ascending = False)\n",
    "    plt.figure(figsize = (7,4))\n",
    "    plt.title('Features importance', fontsize = 14)\n",
    "    s = sns.barplot(x ='Feature', y = 'Feature importance', data = tmp)\n",
    "    s.set_xticklabels(s.get_xticklabels(), rotation = 90)\n",
    "    plt.show()  \n",
    "\n",
    "plot_feature_importance()"
   ]
  },
  {
   "cell_type": "code",
   "execution_count": 60,
   "id": "2159babb",
   "metadata": {},
   "outputs": [
    {
     "name": "stdout",
     "output_type": "stream",
     "text": [
      "Random Forest accuracy (train set): 99.72\n"
     ]
    }
   ],
   "source": [
    "# Evaluating accuracy across the training data\n",
    "\n",
    "clf.score(training_X, training_y)\n",
    "acc = round(clf.score(training_X, training_y) * 100, 2)\n",
    "print(\"Random Forest accuracy (train set):\", acc)"
   ]
  },
  {
   "cell_type": "code",
   "execution_count": 61,
   "id": "034d3777",
   "metadata": {},
   "outputs": [
    {
     "name": "stdout",
     "output_type": "stream",
     "text": [
      "Random Forest accuracy (validation set): 98.11\n"
     ]
    }
   ],
   "source": [
    "# Evaluating accuracy across the validation data\n",
    "\n",
    "clf.score(validation_X, validation_y)\n",
    "acc = round(clf.score(validation_X, validation_y) * 100, 2)\n",
    "print(\"Random Forest accuracy (validation set):\", acc)"
   ]
  },
  {
   "cell_type": "code",
   "execution_count": 62,
   "id": "f9401b19",
   "metadata": {
    "scrolled": true
   },
   "outputs": [
    {
     "name": "stdout",
     "output_type": "stream",
     "text": [
      "               precision    recall  f1-score   support\n",
      "\n",
      "     Low risk       0.99      1.00      1.00       211\n",
      "Moderate risk       1.00      0.95      0.97       217\n",
      "    High risk       0.96      0.99      0.97       207\n",
      "\n",
      "     accuracy                           0.98       635\n",
      "    macro avg       0.98      0.98      0.98       635\n",
      " weighted avg       0.98      0.98      0.98       635\n",
      "\n"
     ]
    }
   ],
   "source": [
    "print(metrics.classification_report(validation_y, pred, target_names=['Low risk', 'Moderate risk', 'High risk']))"
   ]
  },
  {
   "cell_type": "code",
   "execution_count": 63,
   "id": "6f62a316",
   "metadata": {},
   "outputs": [],
   "source": [
    "# Tertiary predictions amalgamating the best features from the previous two models.\n",
    "\n",
    "predictors = [\"x10\", \"x11\", \"x21\", \"x20\", \"x12\"]\n",
    "target = \"target\""
   ]
  },
  {
   "cell_type": "code",
   "execution_count": 64,
   "id": "bd88afd5",
   "metadata": {},
   "outputs": [],
   "source": [
    "# Associating X / y \n",
    "\n",
    "training_X = training[predictors]\n",
    "training_y = training[target].values\n",
    "validation_X = validation[predictors]\n",
    "validation_y = validation[target].values"
   ]
  },
  {
   "cell_type": "code",
   "execution_count": 65,
   "id": "64f4f865",
   "metadata": {},
   "outputs": [],
   "source": [
    "# Creating the classifier\n",
    "\n",
    "clf = RandomForestClassifier(n_jobs = NO_JOBS, \n",
    "                             random_state = RANDOM_STATE,\n",
    "                             criterion = RFC_METRIC,\n",
    "                             n_estimators = NUM_ESTIMATORS,\n",
    "                             verbose = False)"
   ]
  },
  {
   "cell_type": "code",
   "execution_count": 66,
   "id": "49e83fe1",
   "metadata": {},
   "outputs": [
    {
     "data": {
      "text/html": [
       "<style>#sk-container-id-3 {color: black;background-color: white;}#sk-container-id-3 pre{padding: 0;}#sk-container-id-3 div.sk-toggleable {background-color: white;}#sk-container-id-3 label.sk-toggleable__label {cursor: pointer;display: block;width: 100%;margin-bottom: 0;padding: 0.3em;box-sizing: border-box;text-align: center;}#sk-container-id-3 label.sk-toggleable__label-arrow:before {content: \"▸\";float: left;margin-right: 0.25em;color: #696969;}#sk-container-id-3 label.sk-toggleable__label-arrow:hover:before {color: black;}#sk-container-id-3 div.sk-estimator:hover label.sk-toggleable__label-arrow:before {color: black;}#sk-container-id-3 div.sk-toggleable__content {max-height: 0;max-width: 0;overflow: hidden;text-align: left;background-color: #f0f8ff;}#sk-container-id-3 div.sk-toggleable__content pre {margin: 0.2em;color: black;border-radius: 0.25em;background-color: #f0f8ff;}#sk-container-id-3 input.sk-toggleable__control:checked~div.sk-toggleable__content {max-height: 200px;max-width: 100%;overflow: auto;}#sk-container-id-3 input.sk-toggleable__control:checked~label.sk-toggleable__label-arrow:before {content: \"▾\";}#sk-container-id-3 div.sk-estimator input.sk-toggleable__control:checked~label.sk-toggleable__label {background-color: #d4ebff;}#sk-container-id-3 div.sk-label input.sk-toggleable__control:checked~label.sk-toggleable__label {background-color: #d4ebff;}#sk-container-id-3 input.sk-hidden--visually {border: 0;clip: rect(1px 1px 1px 1px);clip: rect(1px, 1px, 1px, 1px);height: 1px;margin: -1px;overflow: hidden;padding: 0;position: absolute;width: 1px;}#sk-container-id-3 div.sk-estimator {font-family: monospace;background-color: #f0f8ff;border: 1px dotted black;border-radius: 0.25em;box-sizing: border-box;margin-bottom: 0.5em;}#sk-container-id-3 div.sk-estimator:hover {background-color: #d4ebff;}#sk-container-id-3 div.sk-parallel-item::after {content: \"\";width: 100%;border-bottom: 1px solid gray;flex-grow: 1;}#sk-container-id-3 div.sk-label:hover label.sk-toggleable__label {background-color: #d4ebff;}#sk-container-id-3 div.sk-serial::before {content: \"\";position: absolute;border-left: 1px solid gray;box-sizing: border-box;top: 0;bottom: 0;left: 50%;z-index: 0;}#sk-container-id-3 div.sk-serial {display: flex;flex-direction: column;align-items: center;background-color: white;padding-right: 0.2em;padding-left: 0.2em;position: relative;}#sk-container-id-3 div.sk-item {position: relative;z-index: 1;}#sk-container-id-3 div.sk-parallel {display: flex;align-items: stretch;justify-content: center;background-color: white;position: relative;}#sk-container-id-3 div.sk-item::before, #sk-container-id-3 div.sk-parallel-item::before {content: \"\";position: absolute;border-left: 1px solid gray;box-sizing: border-box;top: 0;bottom: 0;left: 50%;z-index: -1;}#sk-container-id-3 div.sk-parallel-item {display: flex;flex-direction: column;z-index: 1;position: relative;background-color: white;}#sk-container-id-3 div.sk-parallel-item:first-child::after {align-self: flex-end;width: 50%;}#sk-container-id-3 div.sk-parallel-item:last-child::after {align-self: flex-start;width: 50%;}#sk-container-id-3 div.sk-parallel-item:only-child::after {width: 0;}#sk-container-id-3 div.sk-dashed-wrapped {border: 1px dashed gray;margin: 0 0.4em 0.5em 0.4em;box-sizing: border-box;padding-bottom: 0.4em;background-color: white;}#sk-container-id-3 div.sk-label label {font-family: monospace;font-weight: bold;display: inline-block;line-height: 1.2em;}#sk-container-id-3 div.sk-label-container {text-align: center;}#sk-container-id-3 div.sk-container {/* jupyter's `normalize.less` sets `[hidden] { display: none; }` but bootstrap.min.css set `[hidden] { display: none !important; }` so we also need the `!important` here to be able to override the default hidden behavior on the sphinx rendered scikit-learn.org. See: https://github.com/scikit-learn/scikit-learn/issues/21755 */display: inline-block !important;position: relative;}#sk-container-id-3 div.sk-text-repr-fallback {display: none;}</style><div id=\"sk-container-id-3\" class=\"sk-top-container\"><div class=\"sk-text-repr-fallback\"><pre>RandomForestClassifier(n_jobs=4, random_state=2018, verbose=False)</pre><b>In a Jupyter environment, please rerun this cell to show the HTML representation or trust the notebook. <br />On GitHub, the HTML representation is unable to render, please try loading this page with nbviewer.org.</b></div><div class=\"sk-container\" hidden><div class=\"sk-item\"><div class=\"sk-estimator sk-toggleable\"><input class=\"sk-toggleable__control sk-hidden--visually\" id=\"sk-estimator-id-3\" type=\"checkbox\" checked><label for=\"sk-estimator-id-3\" class=\"sk-toggleable__label sk-toggleable__label-arrow\">RandomForestClassifier</label><div class=\"sk-toggleable__content\"><pre>RandomForestClassifier(n_jobs=4, random_state=2018, verbose=False)</pre></div></div></div></div></div>"
      ],
      "text/plain": [
       "RandomForestClassifier(n_jobs=4, random_state=2018, verbose=False)"
      ]
     },
     "execution_count": 66,
     "metadata": {},
     "output_type": "execute_result"
    }
   ],
   "source": [
    "# Fitting the classifier with the training data (predictors)\n",
    "\n",
    "clf.fit(training_X, training_y)"
   ]
  },
  {
   "cell_type": "code",
   "execution_count": 67,
   "id": "73e11e07",
   "metadata": {},
   "outputs": [],
   "source": [
    "# Predict the validation set\n",
    "\n",
    "pred = clf.predict(validation_X)"
   ]
  },
  {
   "cell_type": "code",
   "execution_count": 68,
   "id": "64f88652",
   "metadata": {},
   "outputs": [
    {
     "data": {
      "image/png": "[encoded data removed]",
      "text/plain": [
       "<Figure size 700x400 with 1 Axes>"
      ]
     },
     "metadata": {},
     "output_type": "display_data"
    }
   ],
   "source": [
    "# Plotting features of importance.  \n",
    "\n",
    "def plot_feature_importance():\n",
    "    tmp = pd.DataFrame({'Feature': predictors, 'Feature importance': clf.feature_importances_})\n",
    "    tmp = tmp.sort_values(by='Feature importance', ascending = False)\n",
    "    plt.figure(figsize = (7,4))\n",
    "    plt.title('Features importance', fontsize = 14)\n",
    "    s = sns.barplot(x ='Feature', y = 'Feature importance', data = tmp)\n",
    "    s.set_xticklabels(s.get_xticklabels(), rotation = 90)\n",
    "    plt.show()  \n",
    "\n",
    "plot_feature_importance()"
   ]
  },
  {
   "cell_type": "code",
   "execution_count": 69,
   "id": "69151154",
   "metadata": {},
   "outputs": [
    {
     "name": "stdout",
     "output_type": "stream",
     "text": [
      "Random Forest accuracy (train set): 100.0\n"
     ]
    }
   ],
   "source": [
    "# Evaluating accuracy across the training data\n",
    "\n",
    "clf.score(training_X, training_y)\n",
    "acc = round(clf.score(training_X, training_y) * 100, 2)\n",
    "print(\"Random Forest accuracy (train set):\", acc)"
   ]
  },
  {
   "cell_type": "code",
   "execution_count": 70,
   "id": "55213b38",
   "metadata": {},
   "outputs": [
    {
     "name": "stdout",
     "output_type": "stream",
     "text": [
      "Random Forest accuracy (validation set): 98.74\n"
     ]
    }
   ],
   "source": [
    "# Evaluating accuracy across the validation data\n",
    "\n",
    "clf.score(validation_X, validation_y)\n",
    "acc = round(clf.score(validation_X, validation_y) * 100, 2)\n",
    "print(\"Random Forest accuracy (validation set):\", acc)"
   ]
  },
  {
   "cell_type": "code",
   "execution_count": 71,
   "id": "e9cd46be",
   "metadata": {},
   "outputs": [
    {
     "name": "stdout",
     "output_type": "stream",
     "text": [
      "               precision    recall  f1-score   support\n",
      "\n",
      "     Low risk       1.00      1.00      1.00       211\n",
      "Moderate risk       1.00      0.96      0.98       217\n",
      "    High risk       0.96      1.00      0.98       207\n",
      "\n",
      "     accuracy                           0.99       635\n",
      "    macro avg       0.99      0.99      0.99       635\n",
      " weighted avg       0.99      0.99      0.99       635\n",
      "\n"
     ]
    }
   ],
   "source": [
    "print(metrics.classification_report(validation_y, pred, target_names=['Low risk', 'Moderate risk', 'High risk']))"
   ]
  },
  {
   "attachments": {
    "image-2.png": {
     "image/png": "[encoded data removed]"
    }
   },
   "cell_type": "markdown",
   "id": "48d4655c",
   "metadata": {},
   "source": [
    "Comparing the three classifer results\n",
    "\n",
    "![image-2.png](attachment:image-2.png)\n",
    "\n",
    "I am content that the third model uses the best features and is the most appropriate to run against the test data"
   ]
  },
  {
   "cell_type": "code",
   "execution_count": 72,
   "id": "63a3a149",
   "metadata": {},
   "outputs": [],
   "source": [
    "# Load and read test data\n",
    "\n",
    "test_data_path = \"C:/Users/patri/Desktop/MSc Computing Science/Data Mining/Assignment Two/Data sets/health_test.csv\"\n",
    "test_data = pd.read_csv(test_data_path)\n"
   ]
  },
  {
   "cell_type": "code",
   "execution_count": 73,
   "id": "df91b5bf",
   "metadata": {},
   "outputs": [
    {
     "name": "stdout",
     "output_type": "stream",
     "text": [
      "(528, 25)\n"
     ]
    },
    {
     "data": {
      "text/html": [
       "<div>\n",
       "<style scoped>\n",
       "    .dataframe tbody tr th:only-of-type {\n",
       "        vertical-align: middle;\n",
       "    }\n",
       "\n",
       "    .dataframe tbody tr th {\n",
       "        vertical-align: top;\n",
       "    }\n",
       "\n",
       "    .dataframe thead th {\n",
       "        text-align: right;\n",
       "    }\n",
       "</style>\n",
       "<table border=\"1\" class=\"dataframe\">\n",
       "  <thead>\n",
       "    <tr style=\"text-align: right;\">\n",
       "      <th></th>\n",
       "      <th>id</th>\n",
       "      <th>x1</th>\n",
       "      <th>x2</th>\n",
       "      <th>x3</th>\n",
       "      <th>x4</th>\n",
       "      <th>x5</th>\n",
       "      <th>x6</th>\n",
       "      <th>x7</th>\n",
       "      <th>x8</th>\n",
       "      <th>x9</th>\n",
       "      <th>...</th>\n",
       "      <th>x15</th>\n",
       "      <th>x16</th>\n",
       "      <th>x17</th>\n",
       "      <th>x18</th>\n",
       "      <th>x19</th>\n",
       "      <th>x20</th>\n",
       "      <th>x21</th>\n",
       "      <th>x22</th>\n",
       "      <th>x23</th>\n",
       "      <th>x24</th>\n",
       "    </tr>\n",
       "  </thead>\n",
       "  <tbody>\n",
       "    <tr>\n",
       "      <th>0</th>\n",
       "      <td>PA3001</td>\n",
       "      <td>767</td>\n",
       "      <td>135</td>\n",
       "      <td>F</td>\n",
       "      <td>0.000</td>\n",
       "      <td>0.0</td>\n",
       "      <td>0.000</td>\n",
       "      <td>0.0</td>\n",
       "      <td>0.0</td>\n",
       "      <td>0.0</td>\n",
       "      <td>...</td>\n",
       "      <td>76</td>\n",
       "      <td>67</td>\n",
       "      <td>143</td>\n",
       "      <td>2</td>\n",
       "      <td>0</td>\n",
       "      <td>137</td>\n",
       "      <td>136</td>\n",
       "      <td>138</td>\n",
       "      <td>0</td>\n",
       "      <td>1</td>\n",
       "    </tr>\n",
       "    <tr>\n",
       "      <th>1</th>\n",
       "      <td>PA3002</td>\n",
       "      <td>1592</td>\n",
       "      <td>134</td>\n",
       "      <td>F</td>\n",
       "      <td>0.000</td>\n",
       "      <td>0.0</td>\n",
       "      <td>0.010</td>\n",
       "      <td>0.0</td>\n",
       "      <td>0.0</td>\n",
       "      <td>0.0</td>\n",
       "      <td>...</td>\n",
       "      <td>74</td>\n",
       "      <td>89</td>\n",
       "      <td>163</td>\n",
       "      <td>7</td>\n",
       "      <td>1</td>\n",
       "      <td>138</td>\n",
       "      <td>134</td>\n",
       "      <td>138</td>\n",
       "      <td>13</td>\n",
       "      <td>0</td>\n",
       "    </tr>\n",
       "    <tr>\n",
       "      <th>2</th>\n",
       "      <td>PA3003</td>\n",
       "      <td>1115</td>\n",
       "      <td>122</td>\n",
       "      <td>M</td>\n",
       "      <td>0.000</td>\n",
       "      <td>0.0</td>\n",
       "      <td>0.000</td>\n",
       "      <td>0.0</td>\n",
       "      <td>0.0</td>\n",
       "      <td>0.0</td>\n",
       "      <td>...</td>\n",
       "      <td>39</td>\n",
       "      <td>103</td>\n",
       "      <td>142</td>\n",
       "      <td>1</td>\n",
       "      <td>0</td>\n",
       "      <td>120</td>\n",
       "      <td>120</td>\n",
       "      <td>122</td>\n",
       "      <td>3</td>\n",
       "      <td>0</td>\n",
       "    </tr>\n",
       "    <tr>\n",
       "      <th>3</th>\n",
       "      <td>PA3004</td>\n",
       "      <td>299</td>\n",
       "      <td>148</td>\n",
       "      <td>F</td>\n",
       "      <td>0.000</td>\n",
       "      <td>NaN</td>\n",
       "      <td>0.000</td>\n",
       "      <td>0.0</td>\n",
       "      <td>0.0</td>\n",
       "      <td>0.0</td>\n",
       "      <td>...</td>\n",
       "      <td>14</td>\n",
       "      <td>139</td>\n",
       "      <td>153</td>\n",
       "      <td>1</td>\n",
       "      <td>0</td>\n",
       "      <td>150</td>\n",
       "      <td>148</td>\n",
       "      <td>150</td>\n",
       "      <td>0</td>\n",
       "      <td>1</td>\n",
       "    </tr>\n",
       "    <tr>\n",
       "      <th>4</th>\n",
       "      <td>PA3005</td>\n",
       "      <td>1194</td>\n",
       "      <td>133</td>\n",
       "      <td>M</td>\n",
       "      <td>0.003</td>\n",
       "      <td>0.0</td>\n",
       "      <td>0.005</td>\n",
       "      <td>0.0</td>\n",
       "      <td>0.0</td>\n",
       "      <td>0.0</td>\n",
       "      <td>...</td>\n",
       "      <td>58</td>\n",
       "      <td>113</td>\n",
       "      <td>171</td>\n",
       "      <td>5</td>\n",
       "      <td>1</td>\n",
       "      <td>150</td>\n",
       "      <td>147</td>\n",
       "      <td>149</td>\n",
       "      <td>5</td>\n",
       "      <td>0</td>\n",
       "    </tr>\n",
       "  </tbody>\n",
       "</table>\n",
       "<p>5 rows × 25 columns</p>\n",
       "</div>"
      ],
      "text/plain": [
       "       id    x1   x2 x3     x4   x5     x6   x7   x8   x9  ...  x15  x16  x17  \\\n",
       "0  PA3001   767  135  F  0.000  0.0  0.000  0.0  0.0  0.0  ...   76   67  143   \n",
       "1  PA3002  1592  134  F  0.000  0.0  0.010  0.0  0.0  0.0  ...   74   89  163   \n",
       "2  PA3003  1115  122  M  0.000  0.0  0.000  0.0  0.0  0.0  ...   39  103  142   \n",
       "3  PA3004   299  148  F  0.000  NaN  0.000  0.0  0.0  0.0  ...   14  139  153   \n",
       "4  PA3005  1194  133  M  0.003  0.0  0.005  0.0  0.0  0.0  ...   58  113  171   \n",
       "\n",
       "   x18 x19  x20  x21  x22  x23  x24  \n",
       "0    2   0  137  136  138    0    1  \n",
       "1    7   1  138  134  138   13    0  \n",
       "2    1   0  120  120  122    3    0  \n",
       "3    1   0  150  148  150    0    1  \n",
       "4    5   1  150  147  149    5    0  \n",
       "\n",
       "[5 rows x 25 columns]"
      ]
     },
     "execution_count": 73,
     "metadata": {},
     "output_type": "execute_result"
    }
   ],
   "source": [
    "# Sense check test data\n",
    "\n",
    "print(test_data.shape)\n",
    "test_data.head()"
   ]
  },
  {
   "cell_type": "code",
   "execution_count": 74,
   "id": "6a76fde4",
   "metadata": {},
   "outputs": [],
   "source": [
    "# Encode test_data\n",
    "\n",
    "enc = ce.OrdinalEncoder(cols=['id', 'x3', 'x14'], return_df = True)\n",
    "test_data = enc.fit_transform(test_data)\n"
   ]
  },
  {
   "cell_type": "code",
   "execution_count": 75,
   "id": "35a976c6",
   "metadata": {
    "scrolled": true
   },
   "outputs": [
    {
     "data": {
      "text/html": [
       "<div>\n",
       "<style scoped>\n",
       "    .dataframe tbody tr th:only-of-type {\n",
       "        vertical-align: middle;\n",
       "    }\n",
       "\n",
       "    .dataframe tbody tr th {\n",
       "        vertical-align: top;\n",
       "    }\n",
       "\n",
       "    .dataframe thead th {\n",
       "        text-align: right;\n",
       "    }\n",
       "</style>\n",
       "<table border=\"1\" class=\"dataframe\">\n",
       "  <thead>\n",
       "    <tr style=\"text-align: right;\">\n",
       "      <th></th>\n",
       "      <th>Total</th>\n",
       "      <th>Percent</th>\n",
       "    </tr>\n",
       "  </thead>\n",
       "  <tbody>\n",
       "    <tr>\n",
       "      <th>x5</th>\n",
       "      <td>13</td>\n",
       "      <td>2.462121</td>\n",
       "    </tr>\n",
       "    <tr>\n",
       "      <th>x10</th>\n",
       "      <td>11</td>\n",
       "      <td>2.083333</td>\n",
       "    </tr>\n",
       "    <tr>\n",
       "      <th>x8</th>\n",
       "      <td>6</td>\n",
       "      <td>1.136364</td>\n",
       "    </tr>\n",
       "    <tr>\n",
       "      <th>id</th>\n",
       "      <td>0</td>\n",
       "      <td>0.000000</td>\n",
       "    </tr>\n",
       "    <tr>\n",
       "      <th>x14</th>\n",
       "      <td>0</td>\n",
       "      <td>0.000000</td>\n",
       "    </tr>\n",
       "    <tr>\n",
       "      <th>x23</th>\n",
       "      <td>0</td>\n",
       "      <td>0.000000</td>\n",
       "    </tr>\n",
       "    <tr>\n",
       "      <th>x22</th>\n",
       "      <td>0</td>\n",
       "      <td>0.000000</td>\n",
       "    </tr>\n",
       "    <tr>\n",
       "      <th>x21</th>\n",
       "      <td>0</td>\n",
       "      <td>0.000000</td>\n",
       "    </tr>\n",
       "    <tr>\n",
       "      <th>x20</th>\n",
       "      <td>0</td>\n",
       "      <td>0.000000</td>\n",
       "    </tr>\n",
       "    <tr>\n",
       "      <th>x19</th>\n",
       "      <td>0</td>\n",
       "      <td>0.000000</td>\n",
       "    </tr>\n",
       "    <tr>\n",
       "      <th>x18</th>\n",
       "      <td>0</td>\n",
       "      <td>0.000000</td>\n",
       "    </tr>\n",
       "    <tr>\n",
       "      <th>x17</th>\n",
       "      <td>0</td>\n",
       "      <td>0.000000</td>\n",
       "    </tr>\n",
       "    <tr>\n",
       "      <th>x16</th>\n",
       "      <td>0</td>\n",
       "      <td>0.000000</td>\n",
       "    </tr>\n",
       "    <tr>\n",
       "      <th>x15</th>\n",
       "      <td>0</td>\n",
       "      <td>0.000000</td>\n",
       "    </tr>\n",
       "    <tr>\n",
       "      <th>x12</th>\n",
       "      <td>0</td>\n",
       "      <td>0.000000</td>\n",
       "    </tr>\n",
       "    <tr>\n",
       "      <th>x13</th>\n",
       "      <td>0</td>\n",
       "      <td>0.000000</td>\n",
       "    </tr>\n",
       "    <tr>\n",
       "      <th>x1</th>\n",
       "      <td>0</td>\n",
       "      <td>0.000000</td>\n",
       "    </tr>\n",
       "    <tr>\n",
       "      <th>x11</th>\n",
       "      <td>0</td>\n",
       "      <td>0.000000</td>\n",
       "    </tr>\n",
       "    <tr>\n",
       "      <th>x9</th>\n",
       "      <td>0</td>\n",
       "      <td>0.000000</td>\n",
       "    </tr>\n",
       "    <tr>\n",
       "      <th>x7</th>\n",
       "      <td>0</td>\n",
       "      <td>0.000000</td>\n",
       "    </tr>\n",
       "    <tr>\n",
       "      <th>x6</th>\n",
       "      <td>0</td>\n",
       "      <td>0.000000</td>\n",
       "    </tr>\n",
       "    <tr>\n",
       "      <th>x4</th>\n",
       "      <td>0</td>\n",
       "      <td>0.000000</td>\n",
       "    </tr>\n",
       "    <tr>\n",
       "      <th>x3</th>\n",
       "      <td>0</td>\n",
       "      <td>0.000000</td>\n",
       "    </tr>\n",
       "    <tr>\n",
       "      <th>x2</th>\n",
       "      <td>0</td>\n",
       "      <td>0.000000</td>\n",
       "    </tr>\n",
       "    <tr>\n",
       "      <th>x24</th>\n",
       "      <td>0</td>\n",
       "      <td>0.000000</td>\n",
       "    </tr>\n",
       "  </tbody>\n",
       "</table>\n",
       "</div>"
      ],
      "text/plain": [
       "     Total   Percent\n",
       "x5      13  2.462121\n",
       "x10     11  2.083333\n",
       "x8       6  1.136364\n",
       "id       0  0.000000\n",
       "x14      0  0.000000\n",
       "x23      0  0.000000\n",
       "x22      0  0.000000\n",
       "x21      0  0.000000\n",
       "x20      0  0.000000\n",
       "x19      0  0.000000\n",
       "x18      0  0.000000\n",
       "x17      0  0.000000\n",
       "x16      0  0.000000\n",
       "x15      0  0.000000\n",
       "x12      0  0.000000\n",
       "x13      0  0.000000\n",
       "x1       0  0.000000\n",
       "x11      0  0.000000\n",
       "x9       0  0.000000\n",
       "x7       0  0.000000\n",
       "x6       0  0.000000\n",
       "x4       0  0.000000\n",
       "x3       0  0.000000\n",
       "x2       0  0.000000\n",
       "x24      0  0.000000"
      ]
     },
     "execution_count": 75,
     "metadata": {},
     "output_type": "execute_result"
    }
   ],
   "source": [
    "# Check for missing data in test data\n",
    "\n",
    "missing_data(test_data)"
   ]
  },
  {
   "cell_type": "code",
   "execution_count": 76,
   "id": "817698f6",
   "metadata": {},
   "outputs": [],
   "source": [
    "COLUMNS = [\"id\", \"x1\", \"x2\", \"x3\", \"x4\", \"x5\", \"x6\", \"x7\", \"x8\", \"x9\", \"x10\", \n",
    "           \"x11\", \"x12\", \"x13\", \"x14\", \"x15\", \"x16\", \"x17\", \"x18\", \"x19\", \"x20\", \n",
    "           \"x21\", \"x22\", \"x23\", \"x24\"]\n",
    "\n",
    "X = test_data[COLUMNS]\n"
   ]
  },
  {
   "cell_type": "code",
   "execution_count": 77,
   "id": "66b791ac",
   "metadata": {},
   "outputs": [
    {
     "name": "stdout",
     "output_type": "stream",
     "text": [
      "(528, 25)\n"
     ]
    },
    {
     "data": {
      "text/html": [
       "<div>\n",
       "<style scoped>\n",
       "    .dataframe tbody tr th:only-of-type {\n",
       "        vertical-align: middle;\n",
       "    }\n",
       "\n",
       "    .dataframe tbody tr th {\n",
       "        vertical-align: top;\n",
       "    }\n",
       "\n",
       "    .dataframe thead th {\n",
       "        text-align: right;\n",
       "    }\n",
       "</style>\n",
       "<table border=\"1\" class=\"dataframe\">\n",
       "  <thead>\n",
       "    <tr style=\"text-align: right;\">\n",
       "      <th></th>\n",
       "      <th>id</th>\n",
       "      <th>x1</th>\n",
       "      <th>x2</th>\n",
       "      <th>x3</th>\n",
       "      <th>x4</th>\n",
       "      <th>x5</th>\n",
       "      <th>x6</th>\n",
       "      <th>x7</th>\n",
       "      <th>x8</th>\n",
       "      <th>x9</th>\n",
       "      <th>...</th>\n",
       "      <th>x15</th>\n",
       "      <th>x16</th>\n",
       "      <th>x17</th>\n",
       "      <th>x18</th>\n",
       "      <th>x19</th>\n",
       "      <th>x20</th>\n",
       "      <th>x21</th>\n",
       "      <th>x22</th>\n",
       "      <th>x23</th>\n",
       "      <th>x24</th>\n",
       "    </tr>\n",
       "  </thead>\n",
       "  <tbody>\n",
       "    <tr>\n",
       "      <th>0</th>\n",
       "      <td>1.0</td>\n",
       "      <td>767.0</td>\n",
       "      <td>135.0</td>\n",
       "      <td>1.0</td>\n",
       "      <td>0.000</td>\n",
       "      <td>0.000000</td>\n",
       "      <td>0.000</td>\n",
       "      <td>0.0</td>\n",
       "      <td>0.0</td>\n",
       "      <td>0.0</td>\n",
       "      <td>...</td>\n",
       "      <td>76.0</td>\n",
       "      <td>67.0</td>\n",
       "      <td>143.0</td>\n",
       "      <td>2.0</td>\n",
       "      <td>0.0</td>\n",
       "      <td>137.0</td>\n",
       "      <td>136.0</td>\n",
       "      <td>138.0</td>\n",
       "      <td>0.0</td>\n",
       "      <td>1.0</td>\n",
       "    </tr>\n",
       "    <tr>\n",
       "      <th>1</th>\n",
       "      <td>2.0</td>\n",
       "      <td>1592.0</td>\n",
       "      <td>134.0</td>\n",
       "      <td>1.0</td>\n",
       "      <td>0.000</td>\n",
       "      <td>0.000000</td>\n",
       "      <td>0.010</td>\n",
       "      <td>0.0</td>\n",
       "      <td>0.0</td>\n",
       "      <td>0.0</td>\n",
       "      <td>...</td>\n",
       "      <td>74.0</td>\n",
       "      <td>89.0</td>\n",
       "      <td>163.0</td>\n",
       "      <td>7.0</td>\n",
       "      <td>1.0</td>\n",
       "      <td>138.0</td>\n",
       "      <td>134.0</td>\n",
       "      <td>138.0</td>\n",
       "      <td>13.0</td>\n",
       "      <td>0.0</td>\n",
       "    </tr>\n",
       "    <tr>\n",
       "      <th>2</th>\n",
       "      <td>3.0</td>\n",
       "      <td>1115.0</td>\n",
       "      <td>122.0</td>\n",
       "      <td>2.0</td>\n",
       "      <td>0.000</td>\n",
       "      <td>0.000000</td>\n",
       "      <td>0.000</td>\n",
       "      <td>0.0</td>\n",
       "      <td>0.0</td>\n",
       "      <td>0.0</td>\n",
       "      <td>...</td>\n",
       "      <td>39.0</td>\n",
       "      <td>103.0</td>\n",
       "      <td>142.0</td>\n",
       "      <td>1.0</td>\n",
       "      <td>0.0</td>\n",
       "      <td>120.0</td>\n",
       "      <td>120.0</td>\n",
       "      <td>122.0</td>\n",
       "      <td>3.0</td>\n",
       "      <td>0.0</td>\n",
       "    </tr>\n",
       "    <tr>\n",
       "      <th>3</th>\n",
       "      <td>4.0</td>\n",
       "      <td>299.0</td>\n",
       "      <td>148.0</td>\n",
       "      <td>1.0</td>\n",
       "      <td>0.000</td>\n",
       "      <td>0.006779</td>\n",
       "      <td>0.000</td>\n",
       "      <td>0.0</td>\n",
       "      <td>0.0</td>\n",
       "      <td>0.0</td>\n",
       "      <td>...</td>\n",
       "      <td>14.0</td>\n",
       "      <td>139.0</td>\n",
       "      <td>153.0</td>\n",
       "      <td>1.0</td>\n",
       "      <td>0.0</td>\n",
       "      <td>150.0</td>\n",
       "      <td>148.0</td>\n",
       "      <td>150.0</td>\n",
       "      <td>0.0</td>\n",
       "      <td>1.0</td>\n",
       "    </tr>\n",
       "    <tr>\n",
       "      <th>4</th>\n",
       "      <td>5.0</td>\n",
       "      <td>1194.0</td>\n",
       "      <td>133.0</td>\n",
       "      <td>2.0</td>\n",
       "      <td>0.003</td>\n",
       "      <td>0.000000</td>\n",
       "      <td>0.005</td>\n",
       "      <td>0.0</td>\n",
       "      <td>0.0</td>\n",
       "      <td>0.0</td>\n",
       "      <td>...</td>\n",
       "      <td>58.0</td>\n",
       "      <td>113.0</td>\n",
       "      <td>171.0</td>\n",
       "      <td>5.0</td>\n",
       "      <td>1.0</td>\n",
       "      <td>150.0</td>\n",
       "      <td>147.0</td>\n",
       "      <td>149.0</td>\n",
       "      <td>5.0</td>\n",
       "      <td>0.0</td>\n",
       "    </tr>\n",
       "  </tbody>\n",
       "</table>\n",
       "<p>5 rows × 25 columns</p>\n",
       "</div>"
      ],
      "text/plain": [
       "    id      x1     x2   x3     x4        x5     x6   x7   x8   x9  ...   x15  \\\n",
       "0  1.0   767.0  135.0  1.0  0.000  0.000000  0.000  0.0  0.0  0.0  ...  76.0   \n",
       "1  2.0  1592.0  134.0  1.0  0.000  0.000000  0.010  0.0  0.0  0.0  ...  74.0   \n",
       "2  3.0  1115.0  122.0  2.0  0.000  0.000000  0.000  0.0  0.0  0.0  ...  39.0   \n",
       "3  4.0   299.0  148.0  1.0  0.000  0.006779  0.000  0.0  0.0  0.0  ...  14.0   \n",
       "4  5.0  1194.0  133.0  2.0  0.003  0.000000  0.005  0.0  0.0  0.0  ...  58.0   \n",
       "\n",
       "     x16    x17  x18  x19    x20    x21    x22   x23  x24  \n",
       "0   67.0  143.0  2.0  0.0  137.0  136.0  138.0   0.0  1.0  \n",
       "1   89.0  163.0  7.0  1.0  138.0  134.0  138.0  13.0  0.0  \n",
       "2  103.0  142.0  1.0  0.0  120.0  120.0  122.0   3.0  0.0  \n",
       "3  139.0  153.0  1.0  0.0  150.0  148.0  150.0   0.0  1.0  \n",
       "4  113.0  171.0  5.0  1.0  150.0  147.0  149.0   5.0  0.0  \n",
       "\n",
       "[5 rows x 25 columns]"
      ]
     },
     "execution_count": 77,
     "metadata": {},
     "output_type": "execute_result"
    }
   ],
   "source": [
    "# impute missing values from test data (consistent approach with training data)\n",
    "\n",
    "test_data = my_imputer.fit_transform(X)\n",
    "test_data = pd.DataFrame(test_data)\n",
    "test_data.columns = X.columns\n",
    "print(test_data.shape)\n",
    "test_data.head()"
   ]
  },
  {
   "cell_type": "code",
   "execution_count": 78,
   "id": "09e3ead5",
   "metadata": {},
   "outputs": [],
   "source": [
    "# Predict for test data using the tertiary trained model\n",
    "\n",
    "testing_X = test_data[predictors]\n",
    "prediction_y = clf.predict(testing_X)"
   ]
  },
  {
   "cell_type": "code",
   "execution_count": 79,
   "id": "736d3c76",
   "metadata": {},
   "outputs": [],
   "source": [
    "# Saving the result to csv\n",
    "\n",
    "submission1 = pd.DataFrame({\"id\": test_data[\"id\"],\"target\": prediction_y})\n",
    "submission1.to_csv(\"C:/Users/patri/Desktop/MSc Computing Science/Data Mining/Assignment Two/Data sets/submission_1_random_forest.csv\", index=False)"
   ]
  },
  {
   "attachments": {
    "image.png": {
     "image/png": "[encoded data removed]"
    }
   },
   "cell_type": "markdown",
   "id": "8ba18812",
   "metadata": {},
   "source": [
    "Submission \"id\" has been encoded.  Manual copy of raw \"id\" into submission for consistency.\n",
    "\n",
    "Assessing similarity between classifier and raw / imputed & outlier data sets\n",
    "\n",
    "![image.png](attachment:image.png)\n",
    "\n"
   ]
  }
 ],
 "metadata": {
  "kernelspec": {
   "display_name": "Python 3 (ipykernel)",
   "language": "python",
   "name": "python3"
  },
  "language_info": {
   "codemirror_mode": {
    "name": "ipython",
    "version": 3
   },
   "file_extension": ".py",
   "mimetype": "text/x-python",
   "name": "python",
   "nbconvert_exporter": "python",
   "pygments_lexer": "ipython3",
   "version": "3.9.16"
  }
 },
 "nbformat": 4,
 "nbformat_minor": 5
}
